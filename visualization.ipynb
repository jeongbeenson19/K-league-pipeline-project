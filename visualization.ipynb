{
 "cells": [
  {
   "cell_type": "code",
   "execution_count": 16,
   "id": "initial_id",
   "metadata": {
    "collapsed": true,
    "ExecuteTime": {
     "end_time": "2024-07-13T12:48:10.207523Z",
     "start_time": "2024-07-13T12:48:10.067245Z"
    }
   },
   "outputs": [
    {
     "name": "stdout",
     "output_type": "stream",
     "text": [
      "Data has been written to data/preprocessed/21-round-preprocessed.csv\n"
     ]
    }
   ],
   "source": [
    "from transform import preprocessing\n",
    "\n",
    "df = preprocessing(21)"
   ]
  },
  {
   "cell_type": "code",
   "outputs": [
    {
     "name": "stdout",
     "output_type": "stream",
     "text": [
      "구단\n",
      "대전      41\n",
      "김천      40\n",
      "광주      38\n",
      "전남      37\n",
      "천안      35\n",
      "전북      35\n",
      "강원      35\n",
      "수원      35\n",
      "포항      34\n",
      "인천      34\n",
      "서울      34\n",
      "울산      34\n",
      "제주      33\n",
      "대구      32\n",
      "충남아산    32\n",
      "성남      32\n",
      "서울E     32\n",
      "수원FC    31\n",
      "경남      31\n",
      "김포      31\n",
      "부천      31\n",
      "안양      31\n",
      "충북청주    30\n",
      "부산      29\n",
      "안산      29\n",
      "Name: count, dtype: int64\n"
     ]
    }
   ],
   "source": [
    "print(df['구단'].value_counts())"
   ],
   "metadata": {
    "collapsed": false,
    "ExecuteTime": {
     "end_time": "2024-07-13T12:48:10.211726Z",
     "start_time": "2024-07-13T12:48:10.207741Z"
    }
   },
   "id": "efca0337e9bb3fea",
   "execution_count": 17
  },
  {
   "cell_type": "code",
   "outputs": [
    {
     "name": "stdout",
     "output_type": "stream",
     "text": [
      "index\n",
      "선수명\n",
      "구단\n",
      "포지션\n",
      "등번호\n",
      "출전시간(분)\n",
      "득점\n",
      "도움\n",
      "슈팅\n",
      "유효 슈팅\n",
      "차단된슈팅\n",
      "벗어난슈팅\n",
      "PA내 슈팅\n",
      "PA외 슈팅\n",
      "오프사이드\n",
      "프리킥\n",
      "코너킥\n",
      "스로인\n",
      "드리블 시도\n",
      "드리블 성공\n",
      "드리블 성공%\n",
      "패스 시도\n",
      "패스 성공\n",
      "패스 성공%\n",
      "키패스\n",
      "전방 패스 시도\n",
      "전방 패스 성공\n",
      "전방 패스 성공%\n",
      "후방 패스 시도\n",
      "후방 패스 성공\n",
      "후방 패스 성공%\n",
      "횡패스 시도\n",
      "횡패스 성공\n",
      "횡패스 성공%\n",
      "공격지역패스 시도\n",
      "공격지역패스 성공\n",
      "공격지역패스 성공%\n",
      "수비지역패스 시도\n",
      "수비지역패스 성공\n",
      "수비지역패스 성공%\n",
      "중앙지역패스 시도\n",
      "중앙지역패스 성공\n",
      "중앙지역패스 성공%\n",
      "롱패스 시도\n",
      "롱패스 성공\n",
      "롱패스 성공%\n",
      "중거리패스 시도\n",
      "중거리패스 성공\n",
      "중거리패스 성공%\n",
      "숏패스 시도\n",
      "숏패스 성공\n",
      "숏패스 성공%\n",
      "크로스 시도\n",
      "크로스 성공\n",
      "크로스 성공%\n",
      "경합 지상 시도\n",
      "경합 지상 성공\n",
      "경합 지상 성공%\n",
      "경합 공중 시도\n",
      "경합 공중 성공\n",
      "경합 공중 성공%\n",
      "태클 시도\n",
      "태클 성공\n",
      "태클 성공%\n",
      "클리어링\n",
      "인터셉트\n",
      "차단\n",
      "획득\n",
      "블락\n",
      "볼미스\n",
      "파울\n",
      "피파울\n",
      "경고\n",
      "퇴장\n",
      "xG\n",
      "득점/xG\n",
      "Defensive Action\n",
      "Possession won\n",
      "득점/90\n",
      "도움/90\n",
      "슈팅/90\n",
      "유효 슈팅/90\n",
      "차단된슈팅/90\n",
      "벗어난슈팅/90\n",
      "PA내 슈팅/90\n",
      "PA외 슈팅/90\n",
      "오프사이드/90\n",
      "프리킥/90\n",
      "코너킥/90\n",
      "스로인/90\n",
      "드리블 시도/90\n",
      "드리블 성공/90\n",
      "패스 시도/90\n",
      "패스 성공/90\n",
      "키패스/90\n",
      "전방 패스 시도/90\n",
      "전방 패스 성공/90\n",
      "후방 패스 시도/90\n",
      "후방 패스 성공/90\n",
      "횡패스 시도/90\n",
      "횡패스 성공/90\n",
      "공격지역패스 시도/90\n",
      "공격지역패스 성공/90\n",
      "수비지역패스 시도/90\n",
      "수비지역패스 성공/90\n",
      "중앙지역패스 시도/90\n",
      "중앙지역패스 성공/90\n",
      "롱패스 시도/90\n",
      "롱패스 성공/90\n",
      "중거리패스 시도/90\n",
      "중거리패스 성공/90\n",
      "숏패스 시도/90\n",
      "숏패스 성공/90\n",
      "크로스 시도/90\n",
      "크로스 성공/90\n",
      "경합 지상 시도/90\n",
      "경합 지상 성공/90\n",
      "경합 공중 시도/90\n",
      "경합 공중 성공/90\n",
      "태클 시도/90\n",
      "태클 성공/90\n",
      "클리어링/90\n",
      "인터셉트/90\n",
      "차단/90\n",
      "획득/90\n",
      "블락/90\n",
      "볼미스/90\n",
      "파울/90\n",
      "피파울/90\n",
      "경고/90\n",
      "퇴장/90\n",
      "Defensive Action/90\n",
      "Possession won/90\n",
      "xG/90\n"
     ]
    }
   ],
   "source": [
    "for column in df.columns:\n",
    "    print(column)"
   ],
   "metadata": {
    "collapsed": false,
    "ExecuteTime": {
     "end_time": "2024-07-13T12:48:10.212843Z",
     "start_time": "2024-07-13T12:48:10.210710Z"
    }
   },
   "id": "a7388087ab56ff6b",
   "execution_count": 18
  },
  {
   "cell_type": "code",
   "outputs": [],
   "source": [],
   "metadata": {
    "collapsed": false,
    "ExecuteTime": {
     "end_time": "2024-07-13T12:48:10.218972Z",
     "start_time": "2024-07-13T12:48:10.214516Z"
    }
   },
   "id": "1763f63ea15b87cf",
   "execution_count": 18
  },
  {
   "cell_type": "code",
   "outputs": [],
   "source": [
    "import numpy as np\n",
    "from scipy.stats import rankdata\n",
    "import pandas as pd\n",
    "import plotly.graph_objects as go\n",
    "\n",
    "class RadarChart(object):\n",
    "    def __init__(self, player_name, df):\n",
    "        self.fig = go.Figure()\n",
    "        self.df = df\n",
    "        self.player_name = player_name\n",
    "        self.player_position = self.df[df['선수명'] == player_name][\"포지션\"].values[0]\n",
    "        self.string_column = ['index', '선수명', '구단', '포지션', '등번호']\n",
    "        self.radar_columns = ['득점/xG', '슈팅/90', '유효 슈팅/90', '드리블 시도/90', '공격지역패스 성공%', '키패스/90', 'Defensive Action/90', 'Possession won/90', '경합 공중 성공/90']\n",
    "\n",
    "        # 특정 선수의 데이터프레임 필터링\n",
    "        self.relative_df = df[df['포지션'] == self.player_position]\n",
    "        self.relative_df = self.relative_df[self.relative_df['출전시간(분)'] >= 450]\n",
    "        \n",
    "        # 퍼센타일 스케일링\n",
    "        self.radar_scaled_df = self.relative_df.copy()\n",
    "        self.radar_scaled_columns = self.relative_df[self.radar_columns]\n",
    "        \n",
    "        def percentile_rank(x):\n",
    "            # 모든 값이 동일한 경우를 처리\n",
    "            if len(np.unique(x)) == 1:\n",
    "                return np.zeros(len(x))\n",
    "            ranks = rankdata(x)\n",
    "            scaled = 100 * (ranks - 1) / (len(ranks) - 1)\n",
    "            return scaled\n",
    "        \n",
    "        self.radar_scaled_df[self.radar_columns] = self.radar_scaled_columns.apply(percentile_rank)\n",
    "        \n",
    "        # 특정 선수의 데이터 추출\n",
    "        self.target_df = self.radar_scaled_df[self.radar_scaled_df[\"선수명\"] == player_name][self.radar_columns]\n",
    "        self.key_value = '키패스/90'\n",
    "        print(self.radar_scaled_df.sort_values(by=self.key_value, ascending=False).head(10))\n",
    "\n",
    "    def plot(self):\n",
    "        if self.target_df.empty:\n",
    "            print(f\"No data available for player {self.player_name}\")\n",
    "            return\n",
    "\n",
    "        categories = self.radar_columns\n",
    "        values = self.target_df.values.flatten().tolist()\n",
    "\n",
    "        # Close the loop\n",
    "        values += values[:1]\n",
    "        categories += categories[:1]\n",
    "\n",
    "        self.fig.add_trace(go.Scatterpolar(\n",
    "            r=values,\n",
    "            theta=categories,\n",
    "            fill='toself',\n",
    "            name=self.player_name\n",
    "        ))\n",
    "\n",
    "        self.fig.update_layout(\n",
    "            polar=dict(\n",
    "                radialaxis=dict(\n",
    "                    range=[0, 100],\n",
    "                ),\n",
    "                angularaxis=dict(\n",
    "                    showgrid=False,\n",
    "                )\n",
    "            ),\n",
    "            plot_bgcolor='rgba(0, 0, 0, 0)',\n",
    "            paper_bgcolor='rgba(0, 0, 0, 0)'\n",
    "        )\n",
    "\n",
    "        self.fig.show()\n",
    "        self.fig.write_image(f\"output/{self.player_name}-radar.png\", format='png')\n",
    "        \n",
    "\n"
   ],
   "metadata": {
    "collapsed": false,
    "ExecuteTime": {
     "end_time": "2024-07-13T13:56:01.551738Z",
     "start_time": "2024-07-13T13:56:01.545655Z"
    }
   },
   "id": "9cddd0a27210a8d7",
   "execution_count": 98
  },
  {
   "cell_type": "code",
   "outputs": [
    {
     "name": "stdout",
     "output_type": "stream",
     "text": [
      "     index   선수명    구단 포지션   등번호  출전시간(분)   득점   도움    슈팅  유효 슈팅  ...  \\\n",
      "503  498.0   이동경    울산  MF  14.0    611.0  7.0  5.0  24.0   14.0  ...   \n",
      "214  212.0   라마스    부산  MF  10.0   1866.0  4.0  4.0  76.0   23.0  ...   \n",
      "747  740.0   최우진    인천  MF  14.0   1028.0  0.0  3.0   7.0    2.0  ...   \n",
      "778  771.0    페신    부산  MF   7.0   1596.0  4.0  4.0  33.0   13.0  ...   \n",
      "766  759.0   카즈키    수원  MF  14.0    805.0  0.0  2.0  11.0    4.0  ...   \n",
      "124  123.0   김영욱   서울E  MF  14.0    497.0  0.0  0.0   2.0    0.0  ...   \n",
      "216  214.0   로페즈    부산  MF  11.0   1138.0  0.0  2.0  34.0   15.0  ...   \n",
      "393  388.0  안데르손  수원FC  MF  70.0   1815.0  1.0  8.0  50.0   14.0  ...   \n",
      "229  227.0  마테우스    안양  MF   7.0   1642.0  4.0  4.0  50.0   24.0  ...   \n",
      "362  357.0   송민규    전북  MF  10.0   1445.0  4.0  6.0  19.0    7.0  ...   \n",
      "\n",
      "        획득/90     블락/90    볼미스/90     파울/90    피파울/90     경고/90     퇴장/90  \\\n",
      "503  5.302782  1.325696  0.883797  1.031097  0.589198  0.000000  0.000000   \n",
      "214  8.344051  0.868167  0.723473  0.530547  0.627010  0.000000  0.000000   \n",
      "747  6.828794  1.488327  0.437743  0.262646  1.313230  0.087549  0.000000   \n",
      "778  7.105263  0.902256  0.563910  0.507519  0.958647  0.000000  0.000000   \n",
      "766  7.714286  1.341615  0.559006  1.229814  1.565217  0.000000  0.111801   \n",
      "124  8.329980  1.448692  0.905433  2.173038  0.905433  0.362173  0.000000   \n",
      "216  5.377856  1.107206  0.949033  1.581722  1.502636  0.158172  0.000000   \n",
      "393  7.190083  0.793388  1.190083  1.041322  1.834711  0.148760  0.000000   \n",
      "229  7.838002  0.986602  1.589525  0.493301  1.205847  0.109622  0.000000   \n",
      "362  5.854671  0.934256  0.934256  0.685121  2.304498  0.186851  0.000000   \n",
      "\n",
      "     Defensive Action/90  Possession won/90     xG/90  \n",
      "503            48.235294          34.705882  0.000000  \n",
      "214            19.411765          67.058824  0.000000  \n",
      "747            28.235294          44.117647  0.035895  \n",
      "778            27.058824          59.411765  0.000000  \n",
      "766             8.823529          52.352941  0.000000  \n",
      "124            58.235294          78.235294  0.000000  \n",
      "216             4.117647          15.294118  0.000000  \n",
      "393            10.588235          57.647059  0.167107  \n",
      "229            13.529412          57.058824  0.000000  \n",
      "362            24.117647          33.529412  0.122699  \n",
      "\n",
      "[10 rows x 134 columns]\n"
     ]
    },
    {
     "data": {
      "application/vnd.plotly.v1+json": {
       "data": [
        {
         "fill": "toself",
         "name": "양민혁",
         "r": [
          87.6470588235294,
          64.11764705882354,
          75.88235294117646,
          82.94117647058823,
          34.705882352941174,
          55.294117647058826,
          48.8235294117647,
          37.05882352941177,
          27.647058823529413,
          87.6470588235294
         ],
         "theta": [
          "득점/xG",
          "슈팅/90",
          "유효 슈팅/90",
          "드리블 시도/90",
          "공격지역패스 성공%",
          "키패스/90",
          "Defensive Action/90",
          "Possession won/90",
          "경합 공중 성공/90",
          "득점/xG"
         ],
         "type": "scatterpolar"
        }
       ],
       "layout": {
        "template": {
         "data": {
          "histogram2dcontour": [
           {
            "type": "histogram2dcontour",
            "colorbar": {
             "outlinewidth": 0,
             "ticks": ""
            },
            "colorscale": [
             [
              0.0,
              "#0d0887"
             ],
             [
              0.1111111111111111,
              "#46039f"
             ],
             [
              0.2222222222222222,
              "#7201a8"
             ],
             [
              0.3333333333333333,
              "#9c179e"
             ],
             [
              0.4444444444444444,
              "#bd3786"
             ],
             [
              0.5555555555555556,
              "#d8576b"
             ],
             [
              0.6666666666666666,
              "#ed7953"
             ],
             [
              0.7777777777777778,
              "#fb9f3a"
             ],
             [
              0.8888888888888888,
              "#fdca26"
             ],
             [
              1.0,
              "#f0f921"
             ]
            ]
           }
          ],
          "choropleth": [
           {
            "type": "choropleth",
            "colorbar": {
             "outlinewidth": 0,
             "ticks": ""
            }
           }
          ],
          "histogram2d": [
           {
            "type": "histogram2d",
            "colorbar": {
             "outlinewidth": 0,
             "ticks": ""
            },
            "colorscale": [
             [
              0.0,
              "#0d0887"
             ],
             [
              0.1111111111111111,
              "#46039f"
             ],
             [
              0.2222222222222222,
              "#7201a8"
             ],
             [
              0.3333333333333333,
              "#9c179e"
             ],
             [
              0.4444444444444444,
              "#bd3786"
             ],
             [
              0.5555555555555556,
              "#d8576b"
             ],
             [
              0.6666666666666666,
              "#ed7953"
             ],
             [
              0.7777777777777778,
              "#fb9f3a"
             ],
             [
              0.8888888888888888,
              "#fdca26"
             ],
             [
              1.0,
              "#f0f921"
             ]
            ]
           }
          ],
          "heatmap": [
           {
            "type": "heatmap",
            "colorbar": {
             "outlinewidth": 0,
             "ticks": ""
            },
            "colorscale": [
             [
              0.0,
              "#0d0887"
             ],
             [
              0.1111111111111111,
              "#46039f"
             ],
             [
              0.2222222222222222,
              "#7201a8"
             ],
             [
              0.3333333333333333,
              "#9c179e"
             ],
             [
              0.4444444444444444,
              "#bd3786"
             ],
             [
              0.5555555555555556,
              "#d8576b"
             ],
             [
              0.6666666666666666,
              "#ed7953"
             ],
             [
              0.7777777777777778,
              "#fb9f3a"
             ],
             [
              0.8888888888888888,
              "#fdca26"
             ],
             [
              1.0,
              "#f0f921"
             ]
            ]
           }
          ],
          "heatmapgl": [
           {
            "type": "heatmapgl",
            "colorbar": {
             "outlinewidth": 0,
             "ticks": ""
            },
            "colorscale": [
             [
              0.0,
              "#0d0887"
             ],
             [
              0.1111111111111111,
              "#46039f"
             ],
             [
              0.2222222222222222,
              "#7201a8"
             ],
             [
              0.3333333333333333,
              "#9c179e"
             ],
             [
              0.4444444444444444,
              "#bd3786"
             ],
             [
              0.5555555555555556,
              "#d8576b"
             ],
             [
              0.6666666666666666,
              "#ed7953"
             ],
             [
              0.7777777777777778,
              "#fb9f3a"
             ],
             [
              0.8888888888888888,
              "#fdca26"
             ],
             [
              1.0,
              "#f0f921"
             ]
            ]
           }
          ],
          "contourcarpet": [
           {
            "type": "contourcarpet",
            "colorbar": {
             "outlinewidth": 0,
             "ticks": ""
            }
           }
          ],
          "contour": [
           {
            "type": "contour",
            "colorbar": {
             "outlinewidth": 0,
             "ticks": ""
            },
            "colorscale": [
             [
              0.0,
              "#0d0887"
             ],
             [
              0.1111111111111111,
              "#46039f"
             ],
             [
              0.2222222222222222,
              "#7201a8"
             ],
             [
              0.3333333333333333,
              "#9c179e"
             ],
             [
              0.4444444444444444,
              "#bd3786"
             ],
             [
              0.5555555555555556,
              "#d8576b"
             ],
             [
              0.6666666666666666,
              "#ed7953"
             ],
             [
              0.7777777777777778,
              "#fb9f3a"
             ],
             [
              0.8888888888888888,
              "#fdca26"
             ],
             [
              1.0,
              "#f0f921"
             ]
            ]
           }
          ],
          "surface": [
           {
            "type": "surface",
            "colorbar": {
             "outlinewidth": 0,
             "ticks": ""
            },
            "colorscale": [
             [
              0.0,
              "#0d0887"
             ],
             [
              0.1111111111111111,
              "#46039f"
             ],
             [
              0.2222222222222222,
              "#7201a8"
             ],
             [
              0.3333333333333333,
              "#9c179e"
             ],
             [
              0.4444444444444444,
              "#bd3786"
             ],
             [
              0.5555555555555556,
              "#d8576b"
             ],
             [
              0.6666666666666666,
              "#ed7953"
             ],
             [
              0.7777777777777778,
              "#fb9f3a"
             ],
             [
              0.8888888888888888,
              "#fdca26"
             ],
             [
              1.0,
              "#f0f921"
             ]
            ]
           }
          ],
          "mesh3d": [
           {
            "type": "mesh3d",
            "colorbar": {
             "outlinewidth": 0,
             "ticks": ""
            }
           }
          ],
          "scatter": [
           {
            "marker": {
             "line": {
              "color": "#283442"
             }
            },
            "type": "scatter"
           }
          ],
          "parcoords": [
           {
            "type": "parcoords",
            "line": {
             "colorbar": {
              "outlinewidth": 0,
              "ticks": ""
             }
            }
           }
          ],
          "scatterpolargl": [
           {
            "type": "scatterpolargl",
            "marker": {
             "colorbar": {
              "outlinewidth": 0,
              "ticks": ""
             }
            }
           }
          ],
          "bar": [
           {
            "error_x": {
             "color": "#f2f5fa"
            },
            "error_y": {
             "color": "#f2f5fa"
            },
            "marker": {
             "line": {
              "color": "rgb(17,17,17)",
              "width": 0.5
             },
             "pattern": {
              "fillmode": "overlay",
              "size": 10,
              "solidity": 0.2
             }
            },
            "type": "bar"
           }
          ],
          "scattergeo": [
           {
            "type": "scattergeo",
            "marker": {
             "colorbar": {
              "outlinewidth": 0,
              "ticks": ""
             }
            }
           }
          ],
          "scatterpolar": [
           {
            "type": "scatterpolar",
            "marker": {
             "colorbar": {
              "outlinewidth": 0,
              "ticks": ""
             }
            }
           }
          ],
          "histogram": [
           {
            "marker": {
             "pattern": {
              "fillmode": "overlay",
              "size": 10,
              "solidity": 0.2
             }
            },
            "type": "histogram"
           }
          ],
          "scattergl": [
           {
            "marker": {
             "line": {
              "color": "#283442"
             }
            },
            "type": "scattergl"
           }
          ],
          "scatter3d": [
           {
            "type": "scatter3d",
            "line": {
             "colorbar": {
              "outlinewidth": 0,
              "ticks": ""
             }
            },
            "marker": {
             "colorbar": {
              "outlinewidth": 0,
              "ticks": ""
             }
            }
           }
          ],
          "scattermapbox": [
           {
            "type": "scattermapbox",
            "marker": {
             "colorbar": {
              "outlinewidth": 0,
              "ticks": ""
             }
            }
           }
          ],
          "scatterternary": [
           {
            "type": "scatterternary",
            "marker": {
             "colorbar": {
              "outlinewidth": 0,
              "ticks": ""
             }
            }
           }
          ],
          "scattercarpet": [
           {
            "type": "scattercarpet",
            "marker": {
             "colorbar": {
              "outlinewidth": 0,
              "ticks": ""
             }
            }
           }
          ],
          "carpet": [
           {
            "aaxis": {
             "endlinecolor": "#A2B1C6",
             "gridcolor": "#506784",
             "linecolor": "#506784",
             "minorgridcolor": "#506784",
             "startlinecolor": "#A2B1C6"
            },
            "baxis": {
             "endlinecolor": "#A2B1C6",
             "gridcolor": "#506784",
             "linecolor": "#506784",
             "minorgridcolor": "#506784",
             "startlinecolor": "#A2B1C6"
            },
            "type": "carpet"
           }
          ],
          "table": [
           {
            "cells": {
             "fill": {
              "color": "#506784"
             },
             "line": {
              "color": "rgb(17,17,17)"
             }
            },
            "header": {
             "fill": {
              "color": "#2a3f5f"
             },
             "line": {
              "color": "rgb(17,17,17)"
             }
            },
            "type": "table"
           }
          ],
          "barpolar": [
           {
            "marker": {
             "line": {
              "color": "rgb(17,17,17)",
              "width": 0.5
             },
             "pattern": {
              "fillmode": "overlay",
              "size": 10,
              "solidity": 0.2
             }
            },
            "type": "barpolar"
           }
          ],
          "pie": [
           {
            "automargin": true,
            "type": "pie"
           }
          ]
         },
         "layout": {
          "autotypenumbers": "strict",
          "colorway": [
           "#636efa",
           "#EF553B",
           "#00cc96",
           "#ab63fa",
           "#FFA15A",
           "#19d3f3",
           "#FF6692",
           "#B6E880",
           "#FF97FF",
           "#FECB52"
          ],
          "font": {
           "color": "#f2f5fa"
          },
          "hovermode": "closest",
          "hoverlabel": {
           "align": "left"
          },
          "paper_bgcolor": "rgb(17,17,17)",
          "plot_bgcolor": "rgb(17,17,17)",
          "polar": {
           "bgcolor": "rgb(17,17,17)",
           "angularaxis": {
            "gridcolor": "#506784",
            "linecolor": "#506784",
            "ticks": ""
           },
           "radialaxis": {
            "gridcolor": "#506784",
            "linecolor": "#506784",
            "ticks": ""
           }
          },
          "ternary": {
           "bgcolor": "rgb(17,17,17)",
           "aaxis": {
            "gridcolor": "#506784",
            "linecolor": "#506784",
            "ticks": ""
           },
           "baxis": {
            "gridcolor": "#506784",
            "linecolor": "#506784",
            "ticks": ""
           },
           "caxis": {
            "gridcolor": "#506784",
            "linecolor": "#506784",
            "ticks": ""
           }
          },
          "coloraxis": {
           "colorbar": {
            "outlinewidth": 0,
            "ticks": ""
           }
          },
          "colorscale": {
           "sequential": [
            [
             0.0,
             "#0d0887"
            ],
            [
             0.1111111111111111,
             "#46039f"
            ],
            [
             0.2222222222222222,
             "#7201a8"
            ],
            [
             0.3333333333333333,
             "#9c179e"
            ],
            [
             0.4444444444444444,
             "#bd3786"
            ],
            [
             0.5555555555555556,
             "#d8576b"
            ],
            [
             0.6666666666666666,
             "#ed7953"
            ],
            [
             0.7777777777777778,
             "#fb9f3a"
            ],
            [
             0.8888888888888888,
             "#fdca26"
            ],
            [
             1.0,
             "#f0f921"
            ]
           ],
           "sequentialminus": [
            [
             0.0,
             "#0d0887"
            ],
            [
             0.1111111111111111,
             "#46039f"
            ],
            [
             0.2222222222222222,
             "#7201a8"
            ],
            [
             0.3333333333333333,
             "#9c179e"
            ],
            [
             0.4444444444444444,
             "#bd3786"
            ],
            [
             0.5555555555555556,
             "#d8576b"
            ],
            [
             0.6666666666666666,
             "#ed7953"
            ],
            [
             0.7777777777777778,
             "#fb9f3a"
            ],
            [
             0.8888888888888888,
             "#fdca26"
            ],
            [
             1.0,
             "#f0f921"
            ]
           ],
           "diverging": [
            [
             0,
             "#8e0152"
            ],
            [
             0.1,
             "#c51b7d"
            ],
            [
             0.2,
             "#de77ae"
            ],
            [
             0.3,
             "#f1b6da"
            ],
            [
             0.4,
             "#fde0ef"
            ],
            [
             0.5,
             "#f7f7f7"
            ],
            [
             0.6,
             "#e6f5d0"
            ],
            [
             0.7,
             "#b8e186"
            ],
            [
             0.8,
             "#7fbc41"
            ],
            [
             0.9,
             "#4d9221"
            ],
            [
             1,
             "#276419"
            ]
           ]
          },
          "xaxis": {
           "gridcolor": "#283442",
           "linecolor": "#506784",
           "ticks": "",
           "title": {
            "standoff": 15
           },
           "zerolinecolor": "#283442",
           "automargin": true,
           "zerolinewidth": 2
          },
          "yaxis": {
           "gridcolor": "#283442",
           "linecolor": "#506784",
           "ticks": "",
           "title": {
            "standoff": 15
           },
           "zerolinecolor": "#283442",
           "automargin": true,
           "zerolinewidth": 2
          },
          "scene": {
           "xaxis": {
            "backgroundcolor": "rgb(17,17,17)",
            "gridcolor": "#506784",
            "linecolor": "#506784",
            "showbackground": true,
            "ticks": "",
            "zerolinecolor": "#C8D4E3",
            "gridwidth": 2
           },
           "yaxis": {
            "backgroundcolor": "rgb(17,17,17)",
            "gridcolor": "#506784",
            "linecolor": "#506784",
            "showbackground": true,
            "ticks": "",
            "zerolinecolor": "#C8D4E3",
            "gridwidth": 2
           },
           "zaxis": {
            "backgroundcolor": "rgb(17,17,17)",
            "gridcolor": "#506784",
            "linecolor": "#506784",
            "showbackground": true,
            "ticks": "",
            "zerolinecolor": "#C8D4E3",
            "gridwidth": 2
           }
          },
          "shapedefaults": {
           "line": {
            "color": "#f2f5fa"
           }
          },
          "annotationdefaults": {
           "arrowcolor": "#f2f5fa",
           "arrowhead": 0,
           "arrowwidth": 1
          },
          "geo": {
           "bgcolor": "rgb(17,17,17)",
           "landcolor": "rgb(17,17,17)",
           "subunitcolor": "#506784",
           "showland": true,
           "showlakes": true,
           "lakecolor": "rgb(17,17,17)"
          },
          "title": {
           "x": 0.05
          },
          "updatemenudefaults": {
           "bgcolor": "#506784",
           "borderwidth": 0
          },
          "sliderdefaults": {
           "bgcolor": "#C8D4E3",
           "borderwidth": 1,
           "bordercolor": "rgb(17,17,17)",
           "tickwidth": 0
          },
          "mapbox": {
           "style": "dark"
          }
         }
        },
        "polar": {
         "radialaxis": {
          "range": [
           0,
           100
          ]
         },
         "angularaxis": {
          "showgrid": false
         }
        },
        "plot_bgcolor": "rgba(0, 0, 0, 0)",
        "paper_bgcolor": "rgba(0, 0, 0, 0)"
       },
       "config": {
        "plotlyServerURL": "https://plot.ly"
       }
      },
      "text/html": "<div>                            <div id=\"5a14b9c5-2287-4a34-9772-8f2a2f682ec2\" class=\"plotly-graph-div\" style=\"height:525px; width:100%;\"></div>            <script type=\"text/javascript\">                require([\"plotly\"], function(Plotly) {                    window.PLOTLYENV=window.PLOTLYENV || {};                                    if (document.getElementById(\"5a14b9c5-2287-4a34-9772-8f2a2f682ec2\")) {                    Plotly.newPlot(                        \"5a14b9c5-2287-4a34-9772-8f2a2f682ec2\",                        [{\"fill\":\"toself\",\"name\":\"\\uc591\\ubbfc\\ud601\",\"r\":[87.6470588235294,64.11764705882354,75.88235294117646,82.94117647058823,34.705882352941174,55.294117647058826,48.8235294117647,37.05882352941177,27.647058823529413,87.6470588235294],\"theta\":[\"\\ub4dd\\uc810\\u002fxG\",\"\\uc288\\ud305\\u002f90\",\"\\uc720\\ud6a8 \\uc288\\ud305\\u002f90\",\"\\ub4dc\\ub9ac\\ube14 \\uc2dc\\ub3c4\\u002f90\",\"\\uacf5\\uaca9\\uc9c0\\uc5ed\\ud328\\uc2a4 \\uc131\\uacf5%\",\"\\ud0a4\\ud328\\uc2a4\\u002f90\",\"Defensive Action\\u002f90\",\"Possession won\\u002f90\",\"\\uacbd\\ud569 \\uacf5\\uc911 \\uc131\\uacf5\\u002f90\",\"\\ub4dd\\uc810\\u002fxG\"],\"type\":\"scatterpolar\"}],                        {\"template\":{\"data\":{\"histogram2dcontour\":[{\"type\":\"histogram2dcontour\",\"colorbar\":{\"outlinewidth\":0,\"ticks\":\"\"},\"colorscale\":[[0.0,\"#0d0887\"],[0.1111111111111111,\"#46039f\"],[0.2222222222222222,\"#7201a8\"],[0.3333333333333333,\"#9c179e\"],[0.4444444444444444,\"#bd3786\"],[0.5555555555555556,\"#d8576b\"],[0.6666666666666666,\"#ed7953\"],[0.7777777777777778,\"#fb9f3a\"],[0.8888888888888888,\"#fdca26\"],[1.0,\"#f0f921\"]]}],\"choropleth\":[{\"type\":\"choropleth\",\"colorbar\":{\"outlinewidth\":0,\"ticks\":\"\"}}],\"histogram2d\":[{\"type\":\"histogram2d\",\"colorbar\":{\"outlinewidth\":0,\"ticks\":\"\"},\"colorscale\":[[0.0,\"#0d0887\"],[0.1111111111111111,\"#46039f\"],[0.2222222222222222,\"#7201a8\"],[0.3333333333333333,\"#9c179e\"],[0.4444444444444444,\"#bd3786\"],[0.5555555555555556,\"#d8576b\"],[0.6666666666666666,\"#ed7953\"],[0.7777777777777778,\"#fb9f3a\"],[0.8888888888888888,\"#fdca26\"],[1.0,\"#f0f921\"]]}],\"heatmap\":[{\"type\":\"heatmap\",\"colorbar\":{\"outlinewidth\":0,\"ticks\":\"\"},\"colorscale\":[[0.0,\"#0d0887\"],[0.1111111111111111,\"#46039f\"],[0.2222222222222222,\"#7201a8\"],[0.3333333333333333,\"#9c179e\"],[0.4444444444444444,\"#bd3786\"],[0.5555555555555556,\"#d8576b\"],[0.6666666666666666,\"#ed7953\"],[0.7777777777777778,\"#fb9f3a\"],[0.8888888888888888,\"#fdca26\"],[1.0,\"#f0f921\"]]}],\"heatmapgl\":[{\"type\":\"heatmapgl\",\"colorbar\":{\"outlinewidth\":0,\"ticks\":\"\"},\"colorscale\":[[0.0,\"#0d0887\"],[0.1111111111111111,\"#46039f\"],[0.2222222222222222,\"#7201a8\"],[0.3333333333333333,\"#9c179e\"],[0.4444444444444444,\"#bd3786\"],[0.5555555555555556,\"#d8576b\"],[0.6666666666666666,\"#ed7953\"],[0.7777777777777778,\"#fb9f3a\"],[0.8888888888888888,\"#fdca26\"],[1.0,\"#f0f921\"]]}],\"contourcarpet\":[{\"type\":\"contourcarpet\",\"colorbar\":{\"outlinewidth\":0,\"ticks\":\"\"}}],\"contour\":[{\"type\":\"contour\",\"colorbar\":{\"outlinewidth\":0,\"ticks\":\"\"},\"colorscale\":[[0.0,\"#0d0887\"],[0.1111111111111111,\"#46039f\"],[0.2222222222222222,\"#7201a8\"],[0.3333333333333333,\"#9c179e\"],[0.4444444444444444,\"#bd3786\"],[0.5555555555555556,\"#d8576b\"],[0.6666666666666666,\"#ed7953\"],[0.7777777777777778,\"#fb9f3a\"],[0.8888888888888888,\"#fdca26\"],[1.0,\"#f0f921\"]]}],\"surface\":[{\"type\":\"surface\",\"colorbar\":{\"outlinewidth\":0,\"ticks\":\"\"},\"colorscale\":[[0.0,\"#0d0887\"],[0.1111111111111111,\"#46039f\"],[0.2222222222222222,\"#7201a8\"],[0.3333333333333333,\"#9c179e\"],[0.4444444444444444,\"#bd3786\"],[0.5555555555555556,\"#d8576b\"],[0.6666666666666666,\"#ed7953\"],[0.7777777777777778,\"#fb9f3a\"],[0.8888888888888888,\"#fdca26\"],[1.0,\"#f0f921\"]]}],\"mesh3d\":[{\"type\":\"mesh3d\",\"colorbar\":{\"outlinewidth\":0,\"ticks\":\"\"}}],\"scatter\":[{\"marker\":{\"line\":{\"color\":\"#283442\"}},\"type\":\"scatter\"}],\"parcoords\":[{\"type\":\"parcoords\",\"line\":{\"colorbar\":{\"outlinewidth\":0,\"ticks\":\"\"}}}],\"scatterpolargl\":[{\"type\":\"scatterpolargl\",\"marker\":{\"colorbar\":{\"outlinewidth\":0,\"ticks\":\"\"}}}],\"bar\":[{\"error_x\":{\"color\":\"#f2f5fa\"},\"error_y\":{\"color\":\"#f2f5fa\"},\"marker\":{\"line\":{\"color\":\"rgb(17,17,17)\",\"width\":0.5},\"pattern\":{\"fillmode\":\"overlay\",\"size\":10,\"solidity\":0.2}},\"type\":\"bar\"}],\"scattergeo\":[{\"type\":\"scattergeo\",\"marker\":{\"colorbar\":{\"outlinewidth\":0,\"ticks\":\"\"}}}],\"scatterpolar\":[{\"type\":\"scatterpolar\",\"marker\":{\"colorbar\":{\"outlinewidth\":0,\"ticks\":\"\"}}}],\"histogram\":[{\"marker\":{\"pattern\":{\"fillmode\":\"overlay\",\"size\":10,\"solidity\":0.2}},\"type\":\"histogram\"}],\"scattergl\":[{\"marker\":{\"line\":{\"color\":\"#283442\"}},\"type\":\"scattergl\"}],\"scatter3d\":[{\"type\":\"scatter3d\",\"line\":{\"colorbar\":{\"outlinewidth\":0,\"ticks\":\"\"}},\"marker\":{\"colorbar\":{\"outlinewidth\":0,\"ticks\":\"\"}}}],\"scattermapbox\":[{\"type\":\"scattermapbox\",\"marker\":{\"colorbar\":{\"outlinewidth\":0,\"ticks\":\"\"}}}],\"scatterternary\":[{\"type\":\"scatterternary\",\"marker\":{\"colorbar\":{\"outlinewidth\":0,\"ticks\":\"\"}}}],\"scattercarpet\":[{\"type\":\"scattercarpet\",\"marker\":{\"colorbar\":{\"outlinewidth\":0,\"ticks\":\"\"}}}],\"carpet\":[{\"aaxis\":{\"endlinecolor\":\"#A2B1C6\",\"gridcolor\":\"#506784\",\"linecolor\":\"#506784\",\"minorgridcolor\":\"#506784\",\"startlinecolor\":\"#A2B1C6\"},\"baxis\":{\"endlinecolor\":\"#A2B1C6\",\"gridcolor\":\"#506784\",\"linecolor\":\"#506784\",\"minorgridcolor\":\"#506784\",\"startlinecolor\":\"#A2B1C6\"},\"type\":\"carpet\"}],\"table\":[{\"cells\":{\"fill\":{\"color\":\"#506784\"},\"line\":{\"color\":\"rgb(17,17,17)\"}},\"header\":{\"fill\":{\"color\":\"#2a3f5f\"},\"line\":{\"color\":\"rgb(17,17,17)\"}},\"type\":\"table\"}],\"barpolar\":[{\"marker\":{\"line\":{\"color\":\"rgb(17,17,17)\",\"width\":0.5},\"pattern\":{\"fillmode\":\"overlay\",\"size\":10,\"solidity\":0.2}},\"type\":\"barpolar\"}],\"pie\":[{\"automargin\":true,\"type\":\"pie\"}]},\"layout\":{\"autotypenumbers\":\"strict\",\"colorway\":[\"#636efa\",\"#EF553B\",\"#00cc96\",\"#ab63fa\",\"#FFA15A\",\"#19d3f3\",\"#FF6692\",\"#B6E880\",\"#FF97FF\",\"#FECB52\"],\"font\":{\"color\":\"#f2f5fa\"},\"hovermode\":\"closest\",\"hoverlabel\":{\"align\":\"left\"},\"paper_bgcolor\":\"rgb(17,17,17)\",\"plot_bgcolor\":\"rgb(17,17,17)\",\"polar\":{\"bgcolor\":\"rgb(17,17,17)\",\"angularaxis\":{\"gridcolor\":\"#506784\",\"linecolor\":\"#506784\",\"ticks\":\"\"},\"radialaxis\":{\"gridcolor\":\"#506784\",\"linecolor\":\"#506784\",\"ticks\":\"\"}},\"ternary\":{\"bgcolor\":\"rgb(17,17,17)\",\"aaxis\":{\"gridcolor\":\"#506784\",\"linecolor\":\"#506784\",\"ticks\":\"\"},\"baxis\":{\"gridcolor\":\"#506784\",\"linecolor\":\"#506784\",\"ticks\":\"\"},\"caxis\":{\"gridcolor\":\"#506784\",\"linecolor\":\"#506784\",\"ticks\":\"\"}},\"coloraxis\":{\"colorbar\":{\"outlinewidth\":0,\"ticks\":\"\"}},\"colorscale\":{\"sequential\":[[0.0,\"#0d0887\"],[0.1111111111111111,\"#46039f\"],[0.2222222222222222,\"#7201a8\"],[0.3333333333333333,\"#9c179e\"],[0.4444444444444444,\"#bd3786\"],[0.5555555555555556,\"#d8576b\"],[0.6666666666666666,\"#ed7953\"],[0.7777777777777778,\"#fb9f3a\"],[0.8888888888888888,\"#fdca26\"],[1.0,\"#f0f921\"]],\"sequentialminus\":[[0.0,\"#0d0887\"],[0.1111111111111111,\"#46039f\"],[0.2222222222222222,\"#7201a8\"],[0.3333333333333333,\"#9c179e\"],[0.4444444444444444,\"#bd3786\"],[0.5555555555555556,\"#d8576b\"],[0.6666666666666666,\"#ed7953\"],[0.7777777777777778,\"#fb9f3a\"],[0.8888888888888888,\"#fdca26\"],[1.0,\"#f0f921\"]],\"diverging\":[[0,\"#8e0152\"],[0.1,\"#c51b7d\"],[0.2,\"#de77ae\"],[0.3,\"#f1b6da\"],[0.4,\"#fde0ef\"],[0.5,\"#f7f7f7\"],[0.6,\"#e6f5d0\"],[0.7,\"#b8e186\"],[0.8,\"#7fbc41\"],[0.9,\"#4d9221\"],[1,\"#276419\"]]},\"xaxis\":{\"gridcolor\":\"#283442\",\"linecolor\":\"#506784\",\"ticks\":\"\",\"title\":{\"standoff\":15},\"zerolinecolor\":\"#283442\",\"automargin\":true,\"zerolinewidth\":2},\"yaxis\":{\"gridcolor\":\"#283442\",\"linecolor\":\"#506784\",\"ticks\":\"\",\"title\":{\"standoff\":15},\"zerolinecolor\":\"#283442\",\"automargin\":true,\"zerolinewidth\":2},\"scene\":{\"xaxis\":{\"backgroundcolor\":\"rgb(17,17,17)\",\"gridcolor\":\"#506784\",\"linecolor\":\"#506784\",\"showbackground\":true,\"ticks\":\"\",\"zerolinecolor\":\"#C8D4E3\",\"gridwidth\":2},\"yaxis\":{\"backgroundcolor\":\"rgb(17,17,17)\",\"gridcolor\":\"#506784\",\"linecolor\":\"#506784\",\"showbackground\":true,\"ticks\":\"\",\"zerolinecolor\":\"#C8D4E3\",\"gridwidth\":2},\"zaxis\":{\"backgroundcolor\":\"rgb(17,17,17)\",\"gridcolor\":\"#506784\",\"linecolor\":\"#506784\",\"showbackground\":true,\"ticks\":\"\",\"zerolinecolor\":\"#C8D4E3\",\"gridwidth\":2}},\"shapedefaults\":{\"line\":{\"color\":\"#f2f5fa\"}},\"annotationdefaults\":{\"arrowcolor\":\"#f2f5fa\",\"arrowhead\":0,\"arrowwidth\":1},\"geo\":{\"bgcolor\":\"rgb(17,17,17)\",\"landcolor\":\"rgb(17,17,17)\",\"subunitcolor\":\"#506784\",\"showland\":true,\"showlakes\":true,\"lakecolor\":\"rgb(17,17,17)\"},\"title\":{\"x\":0.05},\"updatemenudefaults\":{\"bgcolor\":\"#506784\",\"borderwidth\":0},\"sliderdefaults\":{\"bgcolor\":\"#C8D4E3\",\"borderwidth\":1,\"bordercolor\":\"rgb(17,17,17)\",\"tickwidth\":0},\"mapbox\":{\"style\":\"dark\"}}},\"polar\":{\"radialaxis\":{\"range\":[0,100]},\"angularaxis\":{\"showgrid\":false}},\"plot_bgcolor\":\"rgba(0, 0, 0, 0)\",\"paper_bgcolor\":\"rgba(0, 0, 0, 0)\"},                        {\"responsive\": true}                    ).then(function(){\n                            \nvar gd = document.getElementById('5a14b9c5-2287-4a34-9772-8f2a2f682ec2');\nvar x = new MutationObserver(function (mutations, observer) {{\n        var display = window.getComputedStyle(gd).display;\n        if (!display || display === 'none') {{\n            console.log([gd, 'removed!']);\n            Plotly.purge(gd);\n            observer.disconnect();\n        }}\n}});\n\n// Listen for the removal of the full notebook cells\nvar notebookContainer = gd.closest('#notebook-container');\nif (notebookContainer) {{\n    x.observe(notebookContainer, {childList: true});\n}}\n\n// Listen for the clearing of the current output cell\nvar outputEl = gd.closest('.output');\nif (outputEl) {{\n    x.observe(outputEl, {childList: true});\n}}\n\n                        })                };                });            </script>        </div>"
     },
     "metadata": {},
     "output_type": "display_data"
    }
   ],
   "source": [
    "mh_radar = RadarChart('양민혁', df)\n",
    "mh_radar.plot()\n"
   ],
   "metadata": {
    "collapsed": false,
    "ExecuteTime": {
     "end_time": "2024-07-13T13:56:02.682178Z",
     "start_time": "2024-07-13T13:56:02.624280Z"
    }
   },
   "id": "51941bc8e88121d0",
   "execution_count": 99
  },
  {
   "cell_type": "code",
   "outputs": [],
   "source": [
    "import plotly.express as px\n",
    "\n",
    "class ScatterChart(object):\n",
    "    def __init__(self, x, y, player_name, df):\n",
    "        self.player_name = player_name\n",
    "        self.player_position = df[df['선수명'] == player_name]['포지션'].values[0]\n",
    "        self.df = df[(df['출전시간(분)'] >= 1000) & (df['포지션'] == self.player_position)]\n",
    "        self.x = x\n",
    "        self.y = y\n",
    "        \n",
    "        # Calculate the mean values for x and y axes\n",
    "        self.mean_x = self.df[self.x].mean()\n",
    "        self.mean_y = self.df[self.y].mean()\n",
    "\n",
    "        # Create the scatter plot\n",
    "        self.fig = px.scatter(\n",
    "            self.df,\n",
    "            x=self.x,\n",
    "            y=self.y,\n",
    "            hover_name='선수명', # Set player names to appear on hover\n",
    "            color_discrete_sequence=['lightgray'],  # Set the default color to lightgray\n",
    "        )\n",
    "        \n",
    "        # Highlight the specific player\n",
    "        self.highlight_player()\n",
    "        \n",
    "        # Add mean lines\n",
    "        self.add_mean_lines()\n",
    "\n",
    "    def highlight_player(self):\n",
    "        # Add a trace for the specific player to highlight\n",
    "        player_data = self.df[self.df['선수명'] == self.player_name]\n",
    "        if not player_data.empty:\n",
    "            self.fig.add_scatter(\n",
    "                x=player_data[self.x],\n",
    "                y=player_data[self.y],\n",
    "                mode='markers',\n",
    "                marker=dict(size=15, color='white', symbol='circle',\n",
    "                            line=dict(color='lightgray', width=2)),\n",
    "                name=self.player_name,\n",
    "                hoverinfo='name'\n",
    "            )\n",
    "\n",
    "    def add_mean_lines(self):\n",
    "        # Add vertical and horizontal lines for the mean values\n",
    "        self.fig.add_shape(\n",
    "            type=\"line\",\n",
    "            x0=self.mean_x,\n",
    "            y0=self.df[self.y].min(),\n",
    "            x1=self.mean_x,\n",
    "            y1=self.df[self.y].max(),\n",
    "            line=dict(color=\"gray\", width=1),\n",
    "        )\n",
    "        self.fig.add_shape(\n",
    "            type=\"line\",\n",
    "            x0=self.df[self.x].min(),\n",
    "            y0=self.mean_y,\n",
    "            x1=self.df[self.x].max(),\n",
    "            y1=self.mean_y,\n",
    "            line=dict(color=\"gray\", width=1),\n",
    "        )\n",
    "\n",
    "    def plot(self):\n",
    "        self.fig.update_layout(\n",
    "            plot_bgcolor='rgba(0,0,0,0)',  # Transparent plot background\n",
    "            paper_bgcolor='rgba(0,0,0,0)',  # Transparent paper background\n",
    "            xaxis=dict(showgrid=False),  # Hide x-axis grid\n",
    "            yaxis=dict(showgrid=False),  # Hide y-axis grid\n",
    "        )\n",
    "        # Replace invalid characters in filename\n",
    "        safe_x = self.x.replace(\"/\", \"_\")\n",
    "        safe_y = self.y.replace(\"/\", \"_\")\n",
    "        filename = f'output/{self.player_name}_scatter_{safe_x}_{safe_y}.png'\n",
    "        self.fig.write_image(filename, format='png')\n",
    "        self.fig.show()\n",
    "\n",
    "# Usage\n",
    "# Assuming you have a DataFrame 'df' and you want to create a scatter plot for a player\n",
    "# scatter_chart = ScatterChart(x='출전시간(분)', y='골', player_name='양민혁', df=df)\n",
    "# scatter_chart.plot()\n"
   ],
   "metadata": {
    "collapsed": false,
    "ExecuteTime": {
     "end_time": "2024-07-13T13:38:28.295950Z",
     "start_time": "2024-07-13T13:38:28.287826Z"
    }
   },
   "id": "305b425290bbca0d",
   "execution_count": 71
  },
  {
   "cell_type": "code",
   "outputs": [
    {
     "name": "stdout",
     "output_type": "stream",
     "text": [
      "index\n",
      "선수명\n",
      "구단\n",
      "포지션\n",
      "등번호\n",
      "출전시간(분)\n",
      "득점\n",
      "도움\n",
      "슈팅\n",
      "유효 슈팅\n",
      "차단된슈팅\n",
      "벗어난슈팅\n",
      "PA내 슈팅\n",
      "PA외 슈팅\n",
      "오프사이드\n",
      "프리킥\n",
      "코너킥\n",
      "스로인\n",
      "드리블 시도\n",
      "드리블 성공\n",
      "드리블 성공%\n",
      "패스 시도\n",
      "패스 성공\n",
      "패스 성공%\n",
      "키패스\n",
      "전방 패스 시도\n",
      "전방 패스 성공\n",
      "전방 패스 성공%\n",
      "후방 패스 시도\n",
      "후방 패스 성공\n",
      "후방 패스 성공%\n",
      "횡패스 시도\n",
      "횡패스 성공\n",
      "횡패스 성공%\n",
      "공격지역패스 시도\n",
      "공격지역패스 성공\n",
      "공격지역패스 성공%\n",
      "수비지역패스 시도\n",
      "수비지역패스 성공\n",
      "수비지역패스 성공%\n",
      "중앙지역패스 시도\n",
      "중앙지역패스 성공\n",
      "중앙지역패스 성공%\n",
      "롱패스 시도\n",
      "롱패스 성공\n",
      "롱패스 성공%\n",
      "중거리패스 시도\n",
      "중거리패스 성공\n",
      "중거리패스 성공%\n",
      "숏패스 시도\n",
      "숏패스 성공\n",
      "숏패스 성공%\n",
      "크로스 시도\n",
      "크로스 성공\n",
      "크로스 성공%\n",
      "경합 지상 시도\n",
      "경합 지상 성공\n",
      "경합 지상 성공%\n",
      "경합 공중 시도\n",
      "경합 공중 성공\n",
      "경합 공중 성공%\n",
      "태클 시도\n",
      "태클 성공\n",
      "태클 성공%\n",
      "클리어링\n",
      "인터셉트\n",
      "차단\n",
      "획득\n",
      "블락\n",
      "볼미스\n",
      "파울\n",
      "피파울\n",
      "경고\n",
      "퇴장\n",
      "xG\n",
      "득점/xG\n",
      "Defensive Action\n",
      "Possession won\n",
      "득점/90\n",
      "도움/90\n",
      "슈팅/90\n",
      "유효 슈팅/90\n",
      "차단된슈팅/90\n",
      "벗어난슈팅/90\n",
      "PA내 슈팅/90\n",
      "PA외 슈팅/90\n",
      "오프사이드/90\n",
      "프리킥/90\n",
      "코너킥/90\n",
      "스로인/90\n",
      "드리블 시도/90\n",
      "드리블 성공/90\n",
      "패스 시도/90\n",
      "패스 성공/90\n",
      "키패스/90\n",
      "전방 패스 시도/90\n",
      "전방 패스 성공/90\n",
      "후방 패스 시도/90\n",
      "후방 패스 성공/90\n",
      "횡패스 시도/90\n",
      "횡패스 성공/90\n",
      "공격지역패스 시도/90\n",
      "공격지역패스 성공/90\n",
      "수비지역패스 시도/90\n",
      "수비지역패스 성공/90\n",
      "중앙지역패스 시도/90\n",
      "중앙지역패스 성공/90\n",
      "롱패스 시도/90\n",
      "롱패스 성공/90\n",
      "중거리패스 시도/90\n",
      "중거리패스 성공/90\n",
      "숏패스 시도/90\n",
      "숏패스 성공/90\n",
      "크로스 시도/90\n",
      "크로스 성공/90\n",
      "경합 지상 시도/90\n",
      "경합 지상 성공/90\n",
      "경합 공중 시도/90\n",
      "경합 공중 성공/90\n",
      "태클 시도/90\n",
      "태클 성공/90\n",
      "클리어링/90\n",
      "인터셉트/90\n",
      "차단/90\n",
      "획득/90\n",
      "블락/90\n",
      "볼미스/90\n",
      "파울/90\n",
      "피파울/90\n",
      "경고/90\n",
      "퇴장/90\n",
      "Defensive Action/90\n",
      "Possession won/90\n",
      "xG/90\n"
     ]
    }
   ],
   "source": [
    "for column in df.columns:\n",
    "    print(column)"
   ],
   "metadata": {
    "collapsed": false,
    "ExecuteTime": {
     "end_time": "2024-07-13T13:40:01.291911Z",
     "start_time": "2024-07-13T13:40:01.283405Z"
    }
   },
   "id": "61a22c9e000ba484",
   "execution_count": 73
  },
  {
   "cell_type": "code",
   "outputs": [
    {
     "data": {
      "application/vnd.plotly.v1+json": {
       "data": [
        {
         "hovertemplate": "<b>%{hovertext}</b><br><br>슈팅/90=%{x}<br>득점=%{y}<extra></extra>",
         "hovertext": [
          "가브리엘",
          "강민규",
          "강상윤",
          "강현묵",
          "고승범",
          "고재현",
          "기성용",
          "김강국",
          "김도혁",
          "김선민",
          "김승대",
          "김승호",
          "김이석",
          "김인균",
          "김인성",
          "김종석",
          "김주찬",
          "김진규",
          "노경호",
          "라마스",
          "로페즈",
          "류재문",
          "마테우스",
          "바사니",
          "박민서",
          "박세진",
          "박승호",
          "박태용",
          "박태준",
          "발디비아",
          "백성동",
          "벨톨라",
          "변경준",
          "보야니치",
          "브루노 실바",
          "서재민",
          "서재민",
          "서진수",
          "송민규",
          "송홍민",
          "신형민",
          "아타루",
          "안데르손",
          "알리바예프",
          "야고",
          "양민혁",
          "엄원상",
          "엄지성",
          "오베르단",
          "요시노",
          "원두재",
          "윤빛가람",
          "음포쿠",
          "이광진",
          "이규성",
          "이수빈",
          "이승우",
          "이영재",
          "이재원",
          "이종성",
          "이지승",
          "이탈로",
          "이택근",
          "임민혁",
          "장혁진",
          "전병관",
          "정동윤",
          "정마호",
          "정승원",
          "정원진",
          "정호연",
          "조르지",
          "주닝요",
          "주세종",
          "지동원",
          "최건주",
          "최경록",
          "최우진",
          "최재훈",
          "카즈",
          "파울리뇨",
          "팔로세비치",
          "페신",
          "하남",
          "한찬희",
          "헤이스",
          "홍원진",
          "홍윤상",
          "홍철"
         ],
         "legendgroup": "",
         "marker": {
          "color": "lightgray",
          "symbol": "circle"
         },
         "mode": "markers",
         "name": "",
         "orientation": "v",
         "showlegend": false,
         "x": [
          1.8093385214007782,
          2.825938566552901,
          0.713577799801784,
          1.9306930693069306,
          1.0051546391752577,
          1.787624140565317,
          1.0484365419987738,
          0.6598240469208211,
          0.8476027397260274,
          0.45714285714285713,
          0.5516637478108581,
          0.9154481881754609,
          0.6672158154859967,
          1.8307567127746136,
          1.4438502673796791,
          1.2136929460580914,
          2.052313883299799,
          0.9012875536480687,
          1.69327251995439,
          3.665594855305466,
          2.688927943760984,
          0.43352601156069365,
          2.7405602923264314,
          2.334137515078408,
          2.088859416445623,
          0.7926341072858286,
          1.6216216216216215,
          1.2129380053908356,
          0.8404669260700388,
          2.2607655502392343,
          1.0364683301343571,
          0.5755395683453237,
          0.9639727361246349,
          0.9677419354838709,
          3.5772870662460567,
          0.32967032967032966,
          0.5464006938421508,
          2.0264900662251653,
          1.1833910034602075,
          0.8517350157728707,
          0.30591434398368456,
          1.5591915303176132,
          2.4793388429752063,
          0.8361486486486487,
          1.7073170731707317,
          1.4508060033351864,
          2.076923076923077,
          2.4789594491201226,
          0.6138509968520461,
          1.350337584396099,
          0.41551246537396125,
          1.8050139275766017,
          1.1180124223602486,
          0.6870229007633588,
          0.4659188955996549,
          0.38274605103280684,
          3.100706713780919,
          1.4570361145703612,
          0.6240369799691834,
          0.48387096774193544,
          0.7702435813034892,
          0.6506024096385542,
          0.5007949125596184,
          0.6934507429829389,
          0.6870229007633587,
          1.8041634541249036,
          0.5064308681672025,
          1.5196998123827392,
          1.3274336283185841,
          0.8189262966333031,
          0.9546769527483124,
          2.3981191222570533,
          2.5414364640883975,
          0.9513742071881607,
          1.6007905138339922,
          2.0705521472392636,
          0.9315286624203821,
          0.61284046692607,
          0.28809218950064025,
          0.10256410256410256,
          2.775330396475771,
          1.0619469026548671,
          1.8609022556390977,
          2.039660056657224,
          1.2385321100917432,
          2.3496835443037973,
          1.1353211009174313,
          1.3287401574803148,
          0.5487804878048781
         ],
         "xaxis": "x",
         "y": [
          5.0,
          6.0,
          2.0,
          2.0,
          1.0,
          0.0,
          2.0,
          0.0,
          2.0,
          1.0,
          2.0,
          1.0,
          2.0,
          1.0,
          2.0,
          2.0,
          2.0,
          0.0,
          3.0,
          4.0,
          0.0,
          1.0,
          4.0,
          4.0,
          2.0,
          0.0,
          2.0,
          2.0,
          2.0,
          6.0,
          1.0,
          1.0,
          3.0,
          1.0,
          10.0,
          0.0,
          0.0,
          2.0,
          4.0,
          0.0,
          0.0,
          3.0,
          1.0,
          0.0,
          3.0,
          5.0,
          4.0,
          2.0,
          2.0,
          4.0,
          1.0,
          0.0,
          1.0,
          2.0,
          0.0,
          0.0,
          9.0,
          2.0,
          1.0,
          1.0,
          0.0,
          2.0,
          0.0,
          2.0,
          0.0,
          4.0,
          0.0,
          3.0,
          5.0,
          0.0,
          0.0,
          1.0,
          5.0,
          1.0,
          1.0,
          1.0,
          2.0,
          0.0,
          2.0,
          0.0,
          7.0,
          1.0,
          4.0,
          5.0,
          0.0,
          3.0,
          3.0,
          3.0,
          1.0
         ],
         "yaxis": "y",
         "type": "scatter"
        },
        {
         "hoverinfo": "name",
         "marker": {
          "color": "white",
          "line": {
           "color": "lightgray",
           "width": 2
          },
          "size": 15,
          "symbol": "circle"
         },
         "mode": "markers",
         "name": "양민혁",
         "x": [
          1.4508060033351864
         ],
         "y": [
          5.0
         ],
         "type": "scatter"
        }
       ],
       "layout": {
        "template": {
         "data": {
          "histogram2dcontour": [
           {
            "type": "histogram2dcontour",
            "colorbar": {
             "outlinewidth": 0,
             "ticks": ""
            },
            "colorscale": [
             [
              0.0,
              "#0d0887"
             ],
             [
              0.1111111111111111,
              "#46039f"
             ],
             [
              0.2222222222222222,
              "#7201a8"
             ],
             [
              0.3333333333333333,
              "#9c179e"
             ],
             [
              0.4444444444444444,
              "#bd3786"
             ],
             [
              0.5555555555555556,
              "#d8576b"
             ],
             [
              0.6666666666666666,
              "#ed7953"
             ],
             [
              0.7777777777777778,
              "#fb9f3a"
             ],
             [
              0.8888888888888888,
              "#fdca26"
             ],
             [
              1.0,
              "#f0f921"
             ]
            ]
           }
          ],
          "choropleth": [
           {
            "type": "choropleth",
            "colorbar": {
             "outlinewidth": 0,
             "ticks": ""
            }
           }
          ],
          "histogram2d": [
           {
            "type": "histogram2d",
            "colorbar": {
             "outlinewidth": 0,
             "ticks": ""
            },
            "colorscale": [
             [
              0.0,
              "#0d0887"
             ],
             [
              0.1111111111111111,
              "#46039f"
             ],
             [
              0.2222222222222222,
              "#7201a8"
             ],
             [
              0.3333333333333333,
              "#9c179e"
             ],
             [
              0.4444444444444444,
              "#bd3786"
             ],
             [
              0.5555555555555556,
              "#d8576b"
             ],
             [
              0.6666666666666666,
              "#ed7953"
             ],
             [
              0.7777777777777778,
              "#fb9f3a"
             ],
             [
              0.8888888888888888,
              "#fdca26"
             ],
             [
              1.0,
              "#f0f921"
             ]
            ]
           }
          ],
          "heatmap": [
           {
            "type": "heatmap",
            "colorbar": {
             "outlinewidth": 0,
             "ticks": ""
            },
            "colorscale": [
             [
              0.0,
              "#0d0887"
             ],
             [
              0.1111111111111111,
              "#46039f"
             ],
             [
              0.2222222222222222,
              "#7201a8"
             ],
             [
              0.3333333333333333,
              "#9c179e"
             ],
             [
              0.4444444444444444,
              "#bd3786"
             ],
             [
              0.5555555555555556,
              "#d8576b"
             ],
             [
              0.6666666666666666,
              "#ed7953"
             ],
             [
              0.7777777777777778,
              "#fb9f3a"
             ],
             [
              0.8888888888888888,
              "#fdca26"
             ],
             [
              1.0,
              "#f0f921"
             ]
            ]
           }
          ],
          "heatmapgl": [
           {
            "type": "heatmapgl",
            "colorbar": {
             "outlinewidth": 0,
             "ticks": ""
            },
            "colorscale": [
             [
              0.0,
              "#0d0887"
             ],
             [
              0.1111111111111111,
              "#46039f"
             ],
             [
              0.2222222222222222,
              "#7201a8"
             ],
             [
              0.3333333333333333,
              "#9c179e"
             ],
             [
              0.4444444444444444,
              "#bd3786"
             ],
             [
              0.5555555555555556,
              "#d8576b"
             ],
             [
              0.6666666666666666,
              "#ed7953"
             ],
             [
              0.7777777777777778,
              "#fb9f3a"
             ],
             [
              0.8888888888888888,
              "#fdca26"
             ],
             [
              1.0,
              "#f0f921"
             ]
            ]
           }
          ],
          "contourcarpet": [
           {
            "type": "contourcarpet",
            "colorbar": {
             "outlinewidth": 0,
             "ticks": ""
            }
           }
          ],
          "contour": [
           {
            "type": "contour",
            "colorbar": {
             "outlinewidth": 0,
             "ticks": ""
            },
            "colorscale": [
             [
              0.0,
              "#0d0887"
             ],
             [
              0.1111111111111111,
              "#46039f"
             ],
             [
              0.2222222222222222,
              "#7201a8"
             ],
             [
              0.3333333333333333,
              "#9c179e"
             ],
             [
              0.4444444444444444,
              "#bd3786"
             ],
             [
              0.5555555555555556,
              "#d8576b"
             ],
             [
              0.6666666666666666,
              "#ed7953"
             ],
             [
              0.7777777777777778,
              "#fb9f3a"
             ],
             [
              0.8888888888888888,
              "#fdca26"
             ],
             [
              1.0,
              "#f0f921"
             ]
            ]
           }
          ],
          "surface": [
           {
            "type": "surface",
            "colorbar": {
             "outlinewidth": 0,
             "ticks": ""
            },
            "colorscale": [
             [
              0.0,
              "#0d0887"
             ],
             [
              0.1111111111111111,
              "#46039f"
             ],
             [
              0.2222222222222222,
              "#7201a8"
             ],
             [
              0.3333333333333333,
              "#9c179e"
             ],
             [
              0.4444444444444444,
              "#bd3786"
             ],
             [
              0.5555555555555556,
              "#d8576b"
             ],
             [
              0.6666666666666666,
              "#ed7953"
             ],
             [
              0.7777777777777778,
              "#fb9f3a"
             ],
             [
              0.8888888888888888,
              "#fdca26"
             ],
             [
              1.0,
              "#f0f921"
             ]
            ]
           }
          ],
          "mesh3d": [
           {
            "type": "mesh3d",
            "colorbar": {
             "outlinewidth": 0,
             "ticks": ""
            }
           }
          ],
          "scatter": [
           {
            "marker": {
             "line": {
              "color": "#283442"
             }
            },
            "type": "scatter"
           }
          ],
          "parcoords": [
           {
            "type": "parcoords",
            "line": {
             "colorbar": {
              "outlinewidth": 0,
              "ticks": ""
             }
            }
           }
          ],
          "scatterpolargl": [
           {
            "type": "scatterpolargl",
            "marker": {
             "colorbar": {
              "outlinewidth": 0,
              "ticks": ""
             }
            }
           }
          ],
          "bar": [
           {
            "error_x": {
             "color": "#f2f5fa"
            },
            "error_y": {
             "color": "#f2f5fa"
            },
            "marker": {
             "line": {
              "color": "rgb(17,17,17)",
              "width": 0.5
             },
             "pattern": {
              "fillmode": "overlay",
              "size": 10,
              "solidity": 0.2
             }
            },
            "type": "bar"
           }
          ],
          "scattergeo": [
           {
            "type": "scattergeo",
            "marker": {
             "colorbar": {
              "outlinewidth": 0,
              "ticks": ""
             }
            }
           }
          ],
          "scatterpolar": [
           {
            "type": "scatterpolar",
            "marker": {
             "colorbar": {
              "outlinewidth": 0,
              "ticks": ""
             }
            }
           }
          ],
          "histogram": [
           {
            "marker": {
             "pattern": {
              "fillmode": "overlay",
              "size": 10,
              "solidity": 0.2
             }
            },
            "type": "histogram"
           }
          ],
          "scattergl": [
           {
            "marker": {
             "line": {
              "color": "#283442"
             }
            },
            "type": "scattergl"
           }
          ],
          "scatter3d": [
           {
            "type": "scatter3d",
            "line": {
             "colorbar": {
              "outlinewidth": 0,
              "ticks": ""
             }
            },
            "marker": {
             "colorbar": {
              "outlinewidth": 0,
              "ticks": ""
             }
            }
           }
          ],
          "scattermapbox": [
           {
            "type": "scattermapbox",
            "marker": {
             "colorbar": {
              "outlinewidth": 0,
              "ticks": ""
             }
            }
           }
          ],
          "scatterternary": [
           {
            "type": "scatterternary",
            "marker": {
             "colorbar": {
              "outlinewidth": 0,
              "ticks": ""
             }
            }
           }
          ],
          "scattercarpet": [
           {
            "type": "scattercarpet",
            "marker": {
             "colorbar": {
              "outlinewidth": 0,
              "ticks": ""
             }
            }
           }
          ],
          "carpet": [
           {
            "aaxis": {
             "endlinecolor": "#A2B1C6",
             "gridcolor": "#506784",
             "linecolor": "#506784",
             "minorgridcolor": "#506784",
             "startlinecolor": "#A2B1C6"
            },
            "baxis": {
             "endlinecolor": "#A2B1C6",
             "gridcolor": "#506784",
             "linecolor": "#506784",
             "minorgridcolor": "#506784",
             "startlinecolor": "#A2B1C6"
            },
            "type": "carpet"
           }
          ],
          "table": [
           {
            "cells": {
             "fill": {
              "color": "#506784"
             },
             "line": {
              "color": "rgb(17,17,17)"
             }
            },
            "header": {
             "fill": {
              "color": "#2a3f5f"
             },
             "line": {
              "color": "rgb(17,17,17)"
             }
            },
            "type": "table"
           }
          ],
          "barpolar": [
           {
            "marker": {
             "line": {
              "color": "rgb(17,17,17)",
              "width": 0.5
             },
             "pattern": {
              "fillmode": "overlay",
              "size": 10,
              "solidity": 0.2
             }
            },
            "type": "barpolar"
           }
          ],
          "pie": [
           {
            "automargin": true,
            "type": "pie"
           }
          ]
         },
         "layout": {
          "autotypenumbers": "strict",
          "colorway": [
           "#636efa",
           "#EF553B",
           "#00cc96",
           "#ab63fa",
           "#FFA15A",
           "#19d3f3",
           "#FF6692",
           "#B6E880",
           "#FF97FF",
           "#FECB52"
          ],
          "font": {
           "color": "#f2f5fa"
          },
          "hovermode": "closest",
          "hoverlabel": {
           "align": "left"
          },
          "paper_bgcolor": "rgb(17,17,17)",
          "plot_bgcolor": "rgb(17,17,17)",
          "polar": {
           "bgcolor": "rgb(17,17,17)",
           "angularaxis": {
            "gridcolor": "#506784",
            "linecolor": "#506784",
            "ticks": ""
           },
           "radialaxis": {
            "gridcolor": "#506784",
            "linecolor": "#506784",
            "ticks": ""
           }
          },
          "ternary": {
           "bgcolor": "rgb(17,17,17)",
           "aaxis": {
            "gridcolor": "#506784",
            "linecolor": "#506784",
            "ticks": ""
           },
           "baxis": {
            "gridcolor": "#506784",
            "linecolor": "#506784",
            "ticks": ""
           },
           "caxis": {
            "gridcolor": "#506784",
            "linecolor": "#506784",
            "ticks": ""
           }
          },
          "coloraxis": {
           "colorbar": {
            "outlinewidth": 0,
            "ticks": ""
           }
          },
          "colorscale": {
           "sequential": [
            [
             0.0,
             "#0d0887"
            ],
            [
             0.1111111111111111,
             "#46039f"
            ],
            [
             0.2222222222222222,
             "#7201a8"
            ],
            [
             0.3333333333333333,
             "#9c179e"
            ],
            [
             0.4444444444444444,
             "#bd3786"
            ],
            [
             0.5555555555555556,
             "#d8576b"
            ],
            [
             0.6666666666666666,
             "#ed7953"
            ],
            [
             0.7777777777777778,
             "#fb9f3a"
            ],
            [
             0.8888888888888888,
             "#fdca26"
            ],
            [
             1.0,
             "#f0f921"
            ]
           ],
           "sequentialminus": [
            [
             0.0,
             "#0d0887"
            ],
            [
             0.1111111111111111,
             "#46039f"
            ],
            [
             0.2222222222222222,
             "#7201a8"
            ],
            [
             0.3333333333333333,
             "#9c179e"
            ],
            [
             0.4444444444444444,
             "#bd3786"
            ],
            [
             0.5555555555555556,
             "#d8576b"
            ],
            [
             0.6666666666666666,
             "#ed7953"
            ],
            [
             0.7777777777777778,
             "#fb9f3a"
            ],
            [
             0.8888888888888888,
             "#fdca26"
            ],
            [
             1.0,
             "#f0f921"
            ]
           ],
           "diverging": [
            [
             0,
             "#8e0152"
            ],
            [
             0.1,
             "#c51b7d"
            ],
            [
             0.2,
             "#de77ae"
            ],
            [
             0.3,
             "#f1b6da"
            ],
            [
             0.4,
             "#fde0ef"
            ],
            [
             0.5,
             "#f7f7f7"
            ],
            [
             0.6,
             "#e6f5d0"
            ],
            [
             0.7,
             "#b8e186"
            ],
            [
             0.8,
             "#7fbc41"
            ],
            [
             0.9,
             "#4d9221"
            ],
            [
             1,
             "#276419"
            ]
           ]
          },
          "xaxis": {
           "gridcolor": "#283442",
           "linecolor": "#506784",
           "ticks": "",
           "title": {
            "standoff": 15
           },
           "zerolinecolor": "#283442",
           "automargin": true,
           "zerolinewidth": 2
          },
          "yaxis": {
           "gridcolor": "#283442",
           "linecolor": "#506784",
           "ticks": "",
           "title": {
            "standoff": 15
           },
           "zerolinecolor": "#283442",
           "automargin": true,
           "zerolinewidth": 2
          },
          "scene": {
           "xaxis": {
            "backgroundcolor": "rgb(17,17,17)",
            "gridcolor": "#506784",
            "linecolor": "#506784",
            "showbackground": true,
            "ticks": "",
            "zerolinecolor": "#C8D4E3",
            "gridwidth": 2
           },
           "yaxis": {
            "backgroundcolor": "rgb(17,17,17)",
            "gridcolor": "#506784",
            "linecolor": "#506784",
            "showbackground": true,
            "ticks": "",
            "zerolinecolor": "#C8D4E3",
            "gridwidth": 2
           },
           "zaxis": {
            "backgroundcolor": "rgb(17,17,17)",
            "gridcolor": "#506784",
            "linecolor": "#506784",
            "showbackground": true,
            "ticks": "",
            "zerolinecolor": "#C8D4E3",
            "gridwidth": 2
           }
          },
          "shapedefaults": {
           "line": {
            "color": "#f2f5fa"
           }
          },
          "annotationdefaults": {
           "arrowcolor": "#f2f5fa",
           "arrowhead": 0,
           "arrowwidth": 1
          },
          "geo": {
           "bgcolor": "rgb(17,17,17)",
           "landcolor": "rgb(17,17,17)",
           "subunitcolor": "#506784",
           "showland": true,
           "showlakes": true,
           "lakecolor": "rgb(17,17,17)"
          },
          "title": {
           "x": 0.05
          },
          "updatemenudefaults": {
           "bgcolor": "#506784",
           "borderwidth": 0
          },
          "sliderdefaults": {
           "bgcolor": "#C8D4E3",
           "borderwidth": 1,
           "bordercolor": "rgb(17,17,17)",
           "tickwidth": 0
          },
          "mapbox": {
           "style": "dark"
          }
         }
        },
        "xaxis": {
         "anchor": "y",
         "domain": [
          0.0,
          1.0
         ],
         "title": {
          "text": "슈팅/90"
         },
         "showgrid": false
        },
        "yaxis": {
         "anchor": "x",
         "domain": [
          0.0,
          1.0
         ],
         "title": {
          "text": "득점"
         },
         "showgrid": false
        },
        "legend": {
         "tracegroupgap": 0
        },
        "margin": {
         "t": 60
        },
        "shapes": [
         {
          "line": {
           "color": "gray",
           "width": 1
          },
          "type": "line",
          "x0": 1.3321558312778221,
          "x1": 1.3321558312778221,
          "y0": 0.0,
          "y1": 10.0
         },
         {
          "line": {
           "color": "gray",
           "width": 1
          },
          "type": "line",
          "x0": 0.10256410256410256,
          "x1": 3.665594855305466,
          "y0": 2.044943820224719,
          "y1": 2.044943820224719
         }
        ],
        "plot_bgcolor": "rgba(0,0,0,0)",
        "paper_bgcolor": "rgba(0,0,0,0)"
       },
       "config": {
        "plotlyServerURL": "https://plot.ly"
       }
      },
      "text/html": "<div>                            <div id=\"94c1aeac-f3b3-484e-bb43-d6b27b755ec0\" class=\"plotly-graph-div\" style=\"height:525px; width:100%;\"></div>            <script type=\"text/javascript\">                require([\"plotly\"], function(Plotly) {                    window.PLOTLYENV=window.PLOTLYENV || {};                                    if (document.getElementById(\"94c1aeac-f3b3-484e-bb43-d6b27b755ec0\")) {                    Plotly.newPlot(                        \"94c1aeac-f3b3-484e-bb43-d6b27b755ec0\",                        [{\"hovertemplate\":\"\\u003cb\\u003e%{hovertext}\\u003c\\u002fb\\u003e\\u003cbr\\u003e\\u003cbr\\u003e\\uc288\\ud305\\u002f90=%{x}\\u003cbr\\u003e\\ub4dd\\uc810=%{y}\\u003cextra\\u003e\\u003c\\u002fextra\\u003e\",\"hovertext\":[\"\\uac00\\ube0c\\ub9ac\\uc5d8\",\"\\uac15\\ubbfc\\uaddc\",\"\\uac15\\uc0c1\\uc724\",\"\\uac15\\ud604\\ubb35\",\"\\uace0\\uc2b9\\ubc94\",\"\\uace0\\uc7ac\\ud604\",\"\\uae30\\uc131\\uc6a9\",\"\\uae40\\uac15\\uad6d\",\"\\uae40\\ub3c4\\ud601\",\"\\uae40\\uc120\\ubbfc\",\"\\uae40\\uc2b9\\ub300\",\"\\uae40\\uc2b9\\ud638\",\"\\uae40\\uc774\\uc11d\",\"\\uae40\\uc778\\uade0\",\"\\uae40\\uc778\\uc131\",\"\\uae40\\uc885\\uc11d\",\"\\uae40\\uc8fc\\ucc2c\",\"\\uae40\\uc9c4\\uaddc\",\"\\ub178\\uacbd\\ud638\",\"\\ub77c\\ub9c8\\uc2a4\",\"\\ub85c\\ud398\\uc988\",\"\\ub958\\uc7ac\\ubb38\",\"\\ub9c8\\ud14c\\uc6b0\\uc2a4\",\"\\ubc14\\uc0ac\\ub2c8\",\"\\ubc15\\ubbfc\\uc11c\",\"\\ubc15\\uc138\\uc9c4\",\"\\ubc15\\uc2b9\\ud638\",\"\\ubc15\\ud0dc\\uc6a9\",\"\\ubc15\\ud0dc\\uc900\",\"\\ubc1c\\ub514\\ube44\\uc544\",\"\\ubc31\\uc131\\ub3d9\",\"\\ubca8\\ud1a8\\ub77c\",\"\\ubcc0\\uacbd\\uc900\",\"\\ubcf4\\uc57c\\ub2c8\\uce58\",\"\\ube0c\\ub8e8\\ub178 \\uc2e4\\ubc14\",\"\\uc11c\\uc7ac\\ubbfc\",\"\\uc11c\\uc7ac\\ubbfc\",\"\\uc11c\\uc9c4\\uc218\",\"\\uc1a1\\ubbfc\\uaddc\",\"\\uc1a1\\ud64d\\ubbfc\",\"\\uc2e0\\ud615\\ubbfc\",\"\\uc544\\ud0c0\\ub8e8\",\"\\uc548\\ub370\\ub974\\uc190\",\"\\uc54c\\ub9ac\\ubc14\\uc608\\ud504\",\"\\uc57c\\uace0\",\"\\uc591\\ubbfc\\ud601\",\"\\uc5c4\\uc6d0\\uc0c1\",\"\\uc5c4\\uc9c0\\uc131\",\"\\uc624\\ubca0\\ub974\\ub2e8\",\"\\uc694\\uc2dc\\ub178\",\"\\uc6d0\\ub450\\uc7ac\",\"\\uc724\\ube5b\\uac00\\ub78c\",\"\\uc74c\\ud3ec\\ucfe0\",\"\\uc774\\uad11\\uc9c4\",\"\\uc774\\uaddc\\uc131\",\"\\uc774\\uc218\\ube48\",\"\\uc774\\uc2b9\\uc6b0\",\"\\uc774\\uc601\\uc7ac\",\"\\uc774\\uc7ac\\uc6d0\",\"\\uc774\\uc885\\uc131\",\"\\uc774\\uc9c0\\uc2b9\",\"\\uc774\\ud0c8\\ub85c\",\"\\uc774\\ud0dd\\uadfc\",\"\\uc784\\ubbfc\\ud601\",\"\\uc7a5\\ud601\\uc9c4\",\"\\uc804\\ubcd1\\uad00\",\"\\uc815\\ub3d9\\uc724\",\"\\uc815\\ub9c8\\ud638\",\"\\uc815\\uc2b9\\uc6d0\",\"\\uc815\\uc6d0\\uc9c4\",\"\\uc815\\ud638\\uc5f0\",\"\\uc870\\ub974\\uc9c0\",\"\\uc8fc\\ub2dd\\uc694\",\"\\uc8fc\\uc138\\uc885\",\"\\uc9c0\\ub3d9\\uc6d0\",\"\\ucd5c\\uac74\\uc8fc\",\"\\ucd5c\\uacbd\\ub85d\",\"\\ucd5c\\uc6b0\\uc9c4\",\"\\ucd5c\\uc7ac\\ud6c8\",\"\\uce74\\uc988\",\"\\ud30c\\uc6b8\\ub9ac\\ub1e8\",\"\\ud314\\ub85c\\uc138\\ube44\\uce58\",\"\\ud398\\uc2e0\",\"\\ud558\\ub0a8\",\"\\ud55c\\ucc2c\\ud76c\",\"\\ud5e4\\uc774\\uc2a4\",\"\\ud64d\\uc6d0\\uc9c4\",\"\\ud64d\\uc724\\uc0c1\",\"\\ud64d\\ucca0\"],\"legendgroup\":\"\",\"marker\":{\"color\":\"lightgray\",\"symbol\":\"circle\"},\"mode\":\"markers\",\"name\":\"\",\"orientation\":\"v\",\"showlegend\":false,\"x\":[1.8093385214007782,2.825938566552901,0.713577799801784,1.9306930693069306,1.0051546391752577,1.787624140565317,1.0484365419987738,0.6598240469208211,0.8476027397260274,0.45714285714285713,0.5516637478108581,0.9154481881754609,0.6672158154859967,1.8307567127746136,1.4438502673796791,1.2136929460580914,2.052313883299799,0.9012875536480687,1.69327251995439,3.665594855305466,2.688927943760984,0.43352601156069365,2.7405602923264314,2.334137515078408,2.088859416445623,0.7926341072858286,1.6216216216216215,1.2129380053908356,0.8404669260700388,2.2607655502392343,1.0364683301343571,0.5755395683453237,0.9639727361246349,0.9677419354838709,3.5772870662460567,0.32967032967032966,0.5464006938421508,2.0264900662251653,1.1833910034602075,0.8517350157728707,0.30591434398368456,1.5591915303176132,2.4793388429752063,0.8361486486486487,1.7073170731707317,1.4508060033351864,2.076923076923077,2.4789594491201226,0.6138509968520461,1.350337584396099,0.41551246537396125,1.8050139275766017,1.1180124223602486,0.6870229007633588,0.4659188955996549,0.38274605103280684,3.100706713780919,1.4570361145703612,0.6240369799691834,0.48387096774193544,0.7702435813034892,0.6506024096385542,0.5007949125596184,0.6934507429829389,0.6870229007633587,1.8041634541249036,0.5064308681672025,1.5196998123827392,1.3274336283185841,0.8189262966333031,0.9546769527483124,2.3981191222570533,2.5414364640883975,0.9513742071881607,1.6007905138339922,2.0705521472392636,0.9315286624203821,0.61284046692607,0.28809218950064025,0.10256410256410256,2.775330396475771,1.0619469026548671,1.8609022556390977,2.039660056657224,1.2385321100917432,2.3496835443037973,1.1353211009174313,1.3287401574803148,0.5487804878048781],\"xaxis\":\"x\",\"y\":[5.0,6.0,2.0,2.0,1.0,0.0,2.0,0.0,2.0,1.0,2.0,1.0,2.0,1.0,2.0,2.0,2.0,0.0,3.0,4.0,0.0,1.0,4.0,4.0,2.0,0.0,2.0,2.0,2.0,6.0,1.0,1.0,3.0,1.0,10.0,0.0,0.0,2.0,4.0,0.0,0.0,3.0,1.0,0.0,3.0,5.0,4.0,2.0,2.0,4.0,1.0,0.0,1.0,2.0,0.0,0.0,9.0,2.0,1.0,1.0,0.0,2.0,0.0,2.0,0.0,4.0,0.0,3.0,5.0,0.0,0.0,1.0,5.0,1.0,1.0,1.0,2.0,0.0,2.0,0.0,7.0,1.0,4.0,5.0,0.0,3.0,3.0,3.0,1.0],\"yaxis\":\"y\",\"type\":\"scatter\"},{\"hoverinfo\":\"name\",\"marker\":{\"color\":\"white\",\"line\":{\"color\":\"lightgray\",\"width\":2},\"size\":15,\"symbol\":\"circle\"},\"mode\":\"markers\",\"name\":\"\\uc591\\ubbfc\\ud601\",\"x\":[1.4508060033351864],\"y\":[5.0],\"type\":\"scatter\"}],                        {\"template\":{\"data\":{\"histogram2dcontour\":[{\"type\":\"histogram2dcontour\",\"colorbar\":{\"outlinewidth\":0,\"ticks\":\"\"},\"colorscale\":[[0.0,\"#0d0887\"],[0.1111111111111111,\"#46039f\"],[0.2222222222222222,\"#7201a8\"],[0.3333333333333333,\"#9c179e\"],[0.4444444444444444,\"#bd3786\"],[0.5555555555555556,\"#d8576b\"],[0.6666666666666666,\"#ed7953\"],[0.7777777777777778,\"#fb9f3a\"],[0.8888888888888888,\"#fdca26\"],[1.0,\"#f0f921\"]]}],\"choropleth\":[{\"type\":\"choropleth\",\"colorbar\":{\"outlinewidth\":0,\"ticks\":\"\"}}],\"histogram2d\":[{\"type\":\"histogram2d\",\"colorbar\":{\"outlinewidth\":0,\"ticks\":\"\"},\"colorscale\":[[0.0,\"#0d0887\"],[0.1111111111111111,\"#46039f\"],[0.2222222222222222,\"#7201a8\"],[0.3333333333333333,\"#9c179e\"],[0.4444444444444444,\"#bd3786\"],[0.5555555555555556,\"#d8576b\"],[0.6666666666666666,\"#ed7953\"],[0.7777777777777778,\"#fb9f3a\"],[0.8888888888888888,\"#fdca26\"],[1.0,\"#f0f921\"]]}],\"heatmap\":[{\"type\":\"heatmap\",\"colorbar\":{\"outlinewidth\":0,\"ticks\":\"\"},\"colorscale\":[[0.0,\"#0d0887\"],[0.1111111111111111,\"#46039f\"],[0.2222222222222222,\"#7201a8\"],[0.3333333333333333,\"#9c179e\"],[0.4444444444444444,\"#bd3786\"],[0.5555555555555556,\"#d8576b\"],[0.6666666666666666,\"#ed7953\"],[0.7777777777777778,\"#fb9f3a\"],[0.8888888888888888,\"#fdca26\"],[1.0,\"#f0f921\"]]}],\"heatmapgl\":[{\"type\":\"heatmapgl\",\"colorbar\":{\"outlinewidth\":0,\"ticks\":\"\"},\"colorscale\":[[0.0,\"#0d0887\"],[0.1111111111111111,\"#46039f\"],[0.2222222222222222,\"#7201a8\"],[0.3333333333333333,\"#9c179e\"],[0.4444444444444444,\"#bd3786\"],[0.5555555555555556,\"#d8576b\"],[0.6666666666666666,\"#ed7953\"],[0.7777777777777778,\"#fb9f3a\"],[0.8888888888888888,\"#fdca26\"],[1.0,\"#f0f921\"]]}],\"contourcarpet\":[{\"type\":\"contourcarpet\",\"colorbar\":{\"outlinewidth\":0,\"ticks\":\"\"}}],\"contour\":[{\"type\":\"contour\",\"colorbar\":{\"outlinewidth\":0,\"ticks\":\"\"},\"colorscale\":[[0.0,\"#0d0887\"],[0.1111111111111111,\"#46039f\"],[0.2222222222222222,\"#7201a8\"],[0.3333333333333333,\"#9c179e\"],[0.4444444444444444,\"#bd3786\"],[0.5555555555555556,\"#d8576b\"],[0.6666666666666666,\"#ed7953\"],[0.7777777777777778,\"#fb9f3a\"],[0.8888888888888888,\"#fdca26\"],[1.0,\"#f0f921\"]]}],\"surface\":[{\"type\":\"surface\",\"colorbar\":{\"outlinewidth\":0,\"ticks\":\"\"},\"colorscale\":[[0.0,\"#0d0887\"],[0.1111111111111111,\"#46039f\"],[0.2222222222222222,\"#7201a8\"],[0.3333333333333333,\"#9c179e\"],[0.4444444444444444,\"#bd3786\"],[0.5555555555555556,\"#d8576b\"],[0.6666666666666666,\"#ed7953\"],[0.7777777777777778,\"#fb9f3a\"],[0.8888888888888888,\"#fdca26\"],[1.0,\"#f0f921\"]]}],\"mesh3d\":[{\"type\":\"mesh3d\",\"colorbar\":{\"outlinewidth\":0,\"ticks\":\"\"}}],\"scatter\":[{\"marker\":{\"line\":{\"color\":\"#283442\"}},\"type\":\"scatter\"}],\"parcoords\":[{\"type\":\"parcoords\",\"line\":{\"colorbar\":{\"outlinewidth\":0,\"ticks\":\"\"}}}],\"scatterpolargl\":[{\"type\":\"scatterpolargl\",\"marker\":{\"colorbar\":{\"outlinewidth\":0,\"ticks\":\"\"}}}],\"bar\":[{\"error_x\":{\"color\":\"#f2f5fa\"},\"error_y\":{\"color\":\"#f2f5fa\"},\"marker\":{\"line\":{\"color\":\"rgb(17,17,17)\",\"width\":0.5},\"pattern\":{\"fillmode\":\"overlay\",\"size\":10,\"solidity\":0.2}},\"type\":\"bar\"}],\"scattergeo\":[{\"type\":\"scattergeo\",\"marker\":{\"colorbar\":{\"outlinewidth\":0,\"ticks\":\"\"}}}],\"scatterpolar\":[{\"type\":\"scatterpolar\",\"marker\":{\"colorbar\":{\"outlinewidth\":0,\"ticks\":\"\"}}}],\"histogram\":[{\"marker\":{\"pattern\":{\"fillmode\":\"overlay\",\"size\":10,\"solidity\":0.2}},\"type\":\"histogram\"}],\"scattergl\":[{\"marker\":{\"line\":{\"color\":\"#283442\"}},\"type\":\"scattergl\"}],\"scatter3d\":[{\"type\":\"scatter3d\",\"line\":{\"colorbar\":{\"outlinewidth\":0,\"ticks\":\"\"}},\"marker\":{\"colorbar\":{\"outlinewidth\":0,\"ticks\":\"\"}}}],\"scattermapbox\":[{\"type\":\"scattermapbox\",\"marker\":{\"colorbar\":{\"outlinewidth\":0,\"ticks\":\"\"}}}],\"scatterternary\":[{\"type\":\"scatterternary\",\"marker\":{\"colorbar\":{\"outlinewidth\":0,\"ticks\":\"\"}}}],\"scattercarpet\":[{\"type\":\"scattercarpet\",\"marker\":{\"colorbar\":{\"outlinewidth\":0,\"ticks\":\"\"}}}],\"carpet\":[{\"aaxis\":{\"endlinecolor\":\"#A2B1C6\",\"gridcolor\":\"#506784\",\"linecolor\":\"#506784\",\"minorgridcolor\":\"#506784\",\"startlinecolor\":\"#A2B1C6\"},\"baxis\":{\"endlinecolor\":\"#A2B1C6\",\"gridcolor\":\"#506784\",\"linecolor\":\"#506784\",\"minorgridcolor\":\"#506784\",\"startlinecolor\":\"#A2B1C6\"},\"type\":\"carpet\"}],\"table\":[{\"cells\":{\"fill\":{\"color\":\"#506784\"},\"line\":{\"color\":\"rgb(17,17,17)\"}},\"header\":{\"fill\":{\"color\":\"#2a3f5f\"},\"line\":{\"color\":\"rgb(17,17,17)\"}},\"type\":\"table\"}],\"barpolar\":[{\"marker\":{\"line\":{\"color\":\"rgb(17,17,17)\",\"width\":0.5},\"pattern\":{\"fillmode\":\"overlay\",\"size\":10,\"solidity\":0.2}},\"type\":\"barpolar\"}],\"pie\":[{\"automargin\":true,\"type\":\"pie\"}]},\"layout\":{\"autotypenumbers\":\"strict\",\"colorway\":[\"#636efa\",\"#EF553B\",\"#00cc96\",\"#ab63fa\",\"#FFA15A\",\"#19d3f3\",\"#FF6692\",\"#B6E880\",\"#FF97FF\",\"#FECB52\"],\"font\":{\"color\":\"#f2f5fa\"},\"hovermode\":\"closest\",\"hoverlabel\":{\"align\":\"left\"},\"paper_bgcolor\":\"rgb(17,17,17)\",\"plot_bgcolor\":\"rgb(17,17,17)\",\"polar\":{\"bgcolor\":\"rgb(17,17,17)\",\"angularaxis\":{\"gridcolor\":\"#506784\",\"linecolor\":\"#506784\",\"ticks\":\"\"},\"radialaxis\":{\"gridcolor\":\"#506784\",\"linecolor\":\"#506784\",\"ticks\":\"\"}},\"ternary\":{\"bgcolor\":\"rgb(17,17,17)\",\"aaxis\":{\"gridcolor\":\"#506784\",\"linecolor\":\"#506784\",\"ticks\":\"\"},\"baxis\":{\"gridcolor\":\"#506784\",\"linecolor\":\"#506784\",\"ticks\":\"\"},\"caxis\":{\"gridcolor\":\"#506784\",\"linecolor\":\"#506784\",\"ticks\":\"\"}},\"coloraxis\":{\"colorbar\":{\"outlinewidth\":0,\"ticks\":\"\"}},\"colorscale\":{\"sequential\":[[0.0,\"#0d0887\"],[0.1111111111111111,\"#46039f\"],[0.2222222222222222,\"#7201a8\"],[0.3333333333333333,\"#9c179e\"],[0.4444444444444444,\"#bd3786\"],[0.5555555555555556,\"#d8576b\"],[0.6666666666666666,\"#ed7953\"],[0.7777777777777778,\"#fb9f3a\"],[0.8888888888888888,\"#fdca26\"],[1.0,\"#f0f921\"]],\"sequentialminus\":[[0.0,\"#0d0887\"],[0.1111111111111111,\"#46039f\"],[0.2222222222222222,\"#7201a8\"],[0.3333333333333333,\"#9c179e\"],[0.4444444444444444,\"#bd3786\"],[0.5555555555555556,\"#d8576b\"],[0.6666666666666666,\"#ed7953\"],[0.7777777777777778,\"#fb9f3a\"],[0.8888888888888888,\"#fdca26\"],[1.0,\"#f0f921\"]],\"diverging\":[[0,\"#8e0152\"],[0.1,\"#c51b7d\"],[0.2,\"#de77ae\"],[0.3,\"#f1b6da\"],[0.4,\"#fde0ef\"],[0.5,\"#f7f7f7\"],[0.6,\"#e6f5d0\"],[0.7,\"#b8e186\"],[0.8,\"#7fbc41\"],[0.9,\"#4d9221\"],[1,\"#276419\"]]},\"xaxis\":{\"gridcolor\":\"#283442\",\"linecolor\":\"#506784\",\"ticks\":\"\",\"title\":{\"standoff\":15},\"zerolinecolor\":\"#283442\",\"automargin\":true,\"zerolinewidth\":2},\"yaxis\":{\"gridcolor\":\"#283442\",\"linecolor\":\"#506784\",\"ticks\":\"\",\"title\":{\"standoff\":15},\"zerolinecolor\":\"#283442\",\"automargin\":true,\"zerolinewidth\":2},\"scene\":{\"xaxis\":{\"backgroundcolor\":\"rgb(17,17,17)\",\"gridcolor\":\"#506784\",\"linecolor\":\"#506784\",\"showbackground\":true,\"ticks\":\"\",\"zerolinecolor\":\"#C8D4E3\",\"gridwidth\":2},\"yaxis\":{\"backgroundcolor\":\"rgb(17,17,17)\",\"gridcolor\":\"#506784\",\"linecolor\":\"#506784\",\"showbackground\":true,\"ticks\":\"\",\"zerolinecolor\":\"#C8D4E3\",\"gridwidth\":2},\"zaxis\":{\"backgroundcolor\":\"rgb(17,17,17)\",\"gridcolor\":\"#506784\",\"linecolor\":\"#506784\",\"showbackground\":true,\"ticks\":\"\",\"zerolinecolor\":\"#C8D4E3\",\"gridwidth\":2}},\"shapedefaults\":{\"line\":{\"color\":\"#f2f5fa\"}},\"annotationdefaults\":{\"arrowcolor\":\"#f2f5fa\",\"arrowhead\":0,\"arrowwidth\":1},\"geo\":{\"bgcolor\":\"rgb(17,17,17)\",\"landcolor\":\"rgb(17,17,17)\",\"subunitcolor\":\"#506784\",\"showland\":true,\"showlakes\":true,\"lakecolor\":\"rgb(17,17,17)\"},\"title\":{\"x\":0.05},\"updatemenudefaults\":{\"bgcolor\":\"#506784\",\"borderwidth\":0},\"sliderdefaults\":{\"bgcolor\":\"#C8D4E3\",\"borderwidth\":1,\"bordercolor\":\"rgb(17,17,17)\",\"tickwidth\":0},\"mapbox\":{\"style\":\"dark\"}}},\"xaxis\":{\"anchor\":\"y\",\"domain\":[0.0,1.0],\"title\":{\"text\":\"\\uc288\\ud305\\u002f90\"},\"showgrid\":false},\"yaxis\":{\"anchor\":\"x\",\"domain\":[0.0,1.0],\"title\":{\"text\":\"\\ub4dd\\uc810\"},\"showgrid\":false},\"legend\":{\"tracegroupgap\":0},\"margin\":{\"t\":60},\"shapes\":[{\"line\":{\"color\":\"gray\",\"width\":1},\"type\":\"line\",\"x0\":1.3321558312778221,\"x1\":1.3321558312778221,\"y0\":0.0,\"y1\":10.0},{\"line\":{\"color\":\"gray\",\"width\":1},\"type\":\"line\",\"x0\":0.10256410256410256,\"x1\":3.665594855305466,\"y0\":2.044943820224719,\"y1\":2.044943820224719}],\"plot_bgcolor\":\"rgba(0,0,0,0)\",\"paper_bgcolor\":\"rgba(0,0,0,0)\"},                        {\"responsive\": true}                    ).then(function(){\n                            \nvar gd = document.getElementById('94c1aeac-f3b3-484e-bb43-d6b27b755ec0');\nvar x = new MutationObserver(function (mutations, observer) {{\n        var display = window.getComputedStyle(gd).display;\n        if (!display || display === 'none') {{\n            console.log([gd, 'removed!']);\n            Plotly.purge(gd);\n            observer.disconnect();\n        }}\n}});\n\n// Listen for the removal of the full notebook cells\nvar notebookContainer = gd.closest('#notebook-container');\nif (notebookContainer) {{\n    x.observe(notebookContainer, {childList: true});\n}}\n\n// Listen for the clearing of the current output cell\nvar outputEl = gd.closest('.output');\nif (outputEl) {{\n    x.observe(outputEl, {childList: true});\n}}\n\n                        })                };                });            </script>        </div>"
     },
     "metadata": {},
     "output_type": "display_data"
    }
   ],
   "source": [
    "scatter = ScatterChart('슈팅/90', '득점', '양민혁', df)\n",
    "scatter.plot()"
   ],
   "metadata": {
    "collapsed": false,
    "ExecuteTime": {
     "end_time": "2024-07-13T13:45:19.839207Z",
     "start_time": "2024-07-13T13:45:19.766334Z"
    }
   },
   "id": "6e3344f86112541b",
   "execution_count": 77
  },
  {
   "cell_type": "code",
   "outputs": [
    {
     "name": "stdout",
     "output_type": "stream",
     "text": [
      "(836, 134)\n"
     ]
    }
   ],
   "source": [
    "print(df.shape)"
   ],
   "metadata": {
    "collapsed": false,
    "ExecuteTime": {
     "end_time": "2024-07-13T12:48:10.537649Z",
     "start_time": "2024-07-13T12:48:10.533159Z"
    }
   },
   "id": "4f1c182b930ce8c3",
   "execution_count": 23
  },
  {
   "cell_type": "code",
   "outputs": [],
   "source": [],
   "metadata": {
    "collapsed": false,
    "ExecuteTime": {
     "end_time": "2024-07-13T12:48:10.554686Z",
     "start_time": "2024-07-13T12:48:10.545733Z"
    }
   },
   "id": "95f5d46ef9ff278f",
   "execution_count": 23
  }
 ],
 "metadata": {
  "kernelspec": {
   "display_name": "Python 3",
   "language": "python",
   "name": "python3"
  },
  "language_info": {
   "codemirror_mode": {
    "name": "ipython",
    "version": 2
   },
   "file_extension": ".py",
   "mimetype": "text/x-python",
   "name": "python",
   "nbconvert_exporter": "python",
   "pygments_lexer": "ipython2",
   "version": "2.7.6"
  }
 },
 "nbformat": 4,
 "nbformat_minor": 5
}
