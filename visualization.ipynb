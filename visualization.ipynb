{
 "cells": [
  {
   "cell_type": "code",
   "execution_count": 3,
   "id": "initial_id",
   "metadata": {
    "collapsed": true,
    "ExecuteTime": {
     "end_time": "2024-08-20T02:06:17.489628Z",
     "start_time": "2024-08-20T02:06:17.345432Z"
    }
   },
   "outputs": [
    {
     "name": "stdout",
     "output_type": "stream",
     "text": [
      "Data has been written to data/preprocessed/27-round-preprocessed.csv\n"
     ]
    }
   ],
   "source": [
    "from transform import preprocessing\n",
    "\n",
    "teams_division_2 = ['수원', '전남', '천안', '안산', '서울E', '성남', '김포', '충북청주', '안양', '충남아산', '부산', '부천']\n",
    "\n",
    "df = preprocessing(27)\n",
    "# df = df[~df['구단'].isin(teams_division_2)]"
   ]
  },
  {
   "cell_type": "code",
   "outputs": [
    {
     "name": "stdout",
     "output_type": "stream",
     "text": [
      "구단\n",
      "김천      47\n",
      "대전      47\n",
      "전북      45\n",
      "수원      43\n",
      "천안      40\n",
      "전남      39\n",
      "강원      39\n",
      "수원FC    39\n",
      "제주      39\n",
      "울산      39\n",
      "서울      38\n",
      "경남      38\n",
      "광주      38\n",
      "안산      37\n",
      "서울E     37\n",
      "대구      36\n",
      "포항      36\n",
      "성남      35\n",
      "김포      35\n",
      "충북청주    35\n",
      "안양      35\n",
      "충남아산    34\n",
      "부산      34\n",
      "인천      34\n",
      "부천      32\n",
      "Name: count, dtype: int64\n"
     ]
    }
   ],
   "source": [
    "print(df['구단'].value_counts())"
   ],
   "metadata": {
    "collapsed": false,
    "ExecuteTime": {
     "end_time": "2024-08-20T02:06:18.047400Z",
     "start_time": "2024-08-20T02:06:18.042841Z"
    }
   },
   "id": "efca0337e9bb3fea",
   "execution_count": 4
  },
  {
   "cell_type": "code",
   "outputs": [
    {
     "name": "stdout",
     "output_type": "stream",
     "text": [
      "index\n",
      "선수명\n",
      "구단\n",
      "포지션\n",
      "등번호\n",
      "출전시간(분)\n",
      "득점\n",
      "도움\n",
      "슈팅\n",
      "유효 슈팅\n",
      "차단된슈팅\n",
      "벗어난슈팅\n",
      "PA내 슈팅\n",
      "PA외 슈팅\n",
      "오프사이드\n",
      "프리킥\n",
      "코너킥\n",
      "스로인\n",
      "드리블 시도\n",
      "드리블 성공\n",
      "드리블 성공%\n",
      "패스 시도\n",
      "패스 성공\n",
      "패스 성공%\n",
      "키패스\n",
      "전방 패스 시도\n",
      "전방 패스 성공\n",
      "전방 패스 성공%\n",
      "후방 패스 시도\n",
      "후방 패스 성공\n",
      "후방 패스 성공%\n",
      "횡패스 시도\n",
      "횡패스 성공\n",
      "횡패스 성공%\n",
      "공격지역패스 시도\n",
      "공격지역패스 성공\n",
      "공격지역패스 성공%\n",
      "수비지역패스 시도\n",
      "수비지역패스 성공\n",
      "수비지역패스 성공%\n",
      "중앙지역패스 시도\n",
      "중앙지역패스 성공\n",
      "중앙지역패스 성공%\n",
      "롱패스 시도\n",
      "롱패스 성공\n",
      "롱패스 성공%\n",
      "중거리패스 시도\n",
      "중거리패스 성공\n",
      "중거리패스 성공%\n",
      "숏패스 시도\n",
      "숏패스 성공\n",
      "숏패스 성공%\n",
      "크로스 시도\n",
      "크로스 성공\n",
      "크로스 성공%\n",
      "경합 지상 시도\n",
      "경합 지상 성공\n",
      "경합 지상 성공%\n",
      "경합 공중 시도\n",
      "경합 공중 성공\n",
      "경합 공중 성공%\n",
      "태클 시도\n",
      "태클 성공\n",
      "태클 성공%\n",
      "클리어링\n",
      "인터셉트\n",
      "차단\n",
      "획득\n",
      "블락\n",
      "볼미스\n",
      "파울\n",
      "피파울\n",
      "경고\n",
      "퇴장\n",
      "xG\n",
      "득점/xG\n",
      "Defensive Action\n",
      "Possession won\n",
      "득점/90\n",
      "도움/90\n",
      "슈팅/90\n",
      "유효 슈팅/90\n",
      "차단된슈팅/90\n",
      "벗어난슈팅/90\n",
      "PA내 슈팅/90\n",
      "PA외 슈팅/90\n",
      "오프사이드/90\n",
      "프리킥/90\n",
      "코너킥/90\n",
      "스로인/90\n",
      "드리블 시도/90\n",
      "드리블 성공/90\n",
      "패스 시도/90\n",
      "패스 성공/90\n",
      "키패스/90\n",
      "전방 패스 시도/90\n",
      "전방 패스 성공/90\n",
      "후방 패스 시도/90\n",
      "후방 패스 성공/90\n",
      "횡패스 시도/90\n",
      "횡패스 성공/90\n",
      "공격지역패스 시도/90\n",
      "공격지역패스 성공/90\n",
      "수비지역패스 시도/90\n",
      "수비지역패스 성공/90\n",
      "중앙지역패스 시도/90\n",
      "중앙지역패스 성공/90\n",
      "롱패스 시도/90\n",
      "롱패스 성공/90\n",
      "중거리패스 시도/90\n",
      "중거리패스 성공/90\n",
      "숏패스 시도/90\n",
      "숏패스 성공/90\n",
      "크로스 시도/90\n",
      "크로스 성공/90\n",
      "경합 지상 시도/90\n",
      "경합 지상 성공/90\n",
      "경합 공중 시도/90\n",
      "경합 공중 성공/90\n",
      "태클 시도/90\n",
      "태클 성공/90\n",
      "클리어링/90\n",
      "인터셉트/90\n",
      "차단/90\n",
      "획득/90\n",
      "블락/90\n",
      "볼미스/90\n",
      "파울/90\n",
      "피파울/90\n",
      "경고/90\n",
      "퇴장/90\n",
      "Defensive Action/90\n",
      "Possession won/90\n",
      "xG/90\n"
     ]
    }
   ],
   "source": [
    "for column in df.columns:\n",
    "    print(column)"
   ],
   "metadata": {
    "collapsed": false,
    "ExecuteTime": {
     "end_time": "2024-08-20T02:06:18.666946Z",
     "start_time": "2024-08-20T02:06:18.661641Z"
    }
   },
   "id": "a7388087ab56ff6b",
   "execution_count": 5
  },
  {
   "cell_type": "code",
   "outputs": [],
   "source": [
    "import numpy as np\n",
    "from scipy.stats import rankdata\n",
    "import pandas as pd\n",
    "import plotly.graph_objects as go\n",
    "import plotly.io as pio\n",
    "\n",
    "class RadarChart(object):\n",
    "    def __init__(self, player_name, team_name, round_number, df):\n",
    "        self.fig = go.Figure()\n",
    "        self.df = df\n",
    "        self.player_name = player_name\n",
    "        self.team_name = team_name\n",
    "        self.round_number = round_number\n",
    "        self.player_position = self.df[self.df['선수명'] == player_name][\"포지션\"].values[0]\n",
    "        self.string_column = ['index', '선수명', '구단', '포지션', '등번호']\n",
    "        self.radar_columns = ['득점/xG', '슈팅/90', '유효 슈팅/90', '드리블 시도/90', '공격지역패스 성공%', '키패스/90', 'Defensive Action/90', 'Possession won/90', '경합 공중 성공/90']\n",
    "\n",
    "        # 특정 선수의 포지션과 팀 기준으로 필터링\n",
    "        self.relative_df = df[df['포지션'] == self.player_position]\n",
    "        self.relative_df = self.relative_df[self.relative_df['출전시간(분)'] >= 450]\n",
    "        \n",
    "        # 퍼센타일 스케일링\n",
    "        def percentile_rank(x):\n",
    "            # 모든 값이 동일한 경우를 처리\n",
    "            if len(np.unique(x)) == 1:\n",
    "                return np.zeros(len(x))\n",
    "            ranks = rankdata(x)\n",
    "            scaled = 100 * (ranks - 1) / (len(ranks) - 1)\n",
    "            return scaled\n",
    "        \n",
    "        self.radar_scaled_df = self.relative_df.copy()\n",
    "        self.radar_scaled_df[self.radar_columns] = self.relative_df[self.radar_columns].apply(percentile_rank)\n",
    "        \n",
    "        # 특정 선수의 데이터 추출\n",
    "        self.target_df = self.radar_scaled_df[self.radar_scaled_df[\"선수명\"] == player_name][self.radar_columns]\n",
    "        self.key_value = '키패스/90'\n",
    "        print(self.radar_scaled_df.sort_values(by=self.key_value, ascending=False).head(10))\n",
    "\n",
    "    def plot(self):\n",
    "        if self.target_df.empty:\n",
    "            print(f\"No data available for player {self.player_name}\")\n",
    "            return\n",
    "\n",
    "        categories = self.radar_columns\n",
    "        values = self.target_df.values.flatten().tolist()\n",
    "\n",
    "        # Close the loop\n",
    "        values += values[:1]\n",
    "        categories += categories[:1]\n",
    "\n",
    "        self.fig.add_trace(go.Scatterpolar(\n",
    "            r=values,\n",
    "            theta=categories,\n",
    "            fill='toself',\n",
    "            name=self.player_name\n",
    "        ))\n",
    "\n",
    "        self.fig.update_layout(\n",
    "            polar=dict(\n",
    "                radialaxis=dict(\n",
    "                    range=[0, 100],\n",
    "                ),\n",
    "                angularaxis=dict(\n",
    "                    showgrid=False,\n",
    "                )\n",
    "            ),\n",
    "            plot_bgcolor='rgb(0,22,72)',\n",
    "            paper_bgcolor='rgb(0,89,167)',\n",
    "            title=f\"{self.round_number} Round - {self.player_name} Radar Chart\"\n",
    "        )\n",
    "\n",
    "        self.fig.show()\n",
    "        self.fig.write_image(f\"output/{self.round_number}round-{self.player_name}-radar.png\", format='png')\n",
    "\n",
    "    def save_as_html(self, filepath=\"output\"):\n",
    "        if not filepath.endswith('.html'):\n",
    "            filepath = f\"{filepath}/{self.round_number}round-{self.player_name}-radar.html\"\n",
    "        \n",
    "        # Save HTML with external plotly.js\n",
    "        pio.write_html(self.fig, file=filepath, auto_open=False, include_plotlyjs='include')\n",
    "        print(f\"HTML file saved to {filepath}\")\n"
   ],
   "metadata": {
    "collapsed": false,
    "ExecuteTime": {
     "end_time": "2024-08-20T02:13:29.354254Z",
     "start_time": "2024-08-20T02:13:29.350227Z"
    }
   },
   "id": "9cddd0a27210a8d7",
   "execution_count": 13
  },
  {
   "cell_type": "code",
   "outputs": [
    {
     "name": "stdout",
     "output_type": "stream",
     "text": [
      "     index  선수명   구단 포지션   등번호  출전시간(분)   득점   도움    슈팅  유효 슈팅  ...     획득/90  \\\n",
      "287  287.0  박대원   김천  DF  48.0    452.0  0.0  1.0   3.0    0.0  ...  5.973451   \n",
      "846  843.0  최우진   인천  DF  14.0   1331.0  0.0  4.0  11.0    2.0  ...  6.220887   \n",
      "134  134.0  김영욱   안산  DF  14.0    645.0  0.0  0.0   3.0    1.0  ...  8.232558   \n",
      "133  133.0  김영욱  서울E  DF  14.0    645.0  0.0  0.0   3.0    1.0  ...  8.232558   \n",
      "827  824.0  최강민   울산  DF  70.0    462.0  1.0  0.0   7.0    4.0  ...  7.402597   \n",
      "566  565.0  이기제   수원  DF  23.0    947.0  0.0  0.0   4.0    2.0  ...  6.272439   \n",
      "236  236.0  두현석   광주  DF  13.0   1449.0  0.0  3.0   7.0    2.0  ...  7.701863   \n",
      "713  711.0  장시영   울산  DF  28.0    567.0  1.0  0.0   3.0    1.0  ...  5.396825   \n",
      "188  188.0  김진수   전북  DF  23.0   1813.0  0.0  3.0  10.0    1.0  ...  6.503034   \n",
      "427  426.0  신재원   성남  DF  17.0   1024.0  0.0  4.0  10.0    1.0  ...  4.042969   \n",
      "\n",
      "        블락/90    볼미스/90     파울/90    피파울/90     경고/90     퇴장/90  \\\n",
      "287  1.792035  0.398230  1.792035  0.398230  0.199115  0.000000   \n",
      "846  1.487603  0.676183  0.270473  1.081893  0.067618  0.000000   \n",
      "134  1.813953  0.837209  1.953488  0.697674  0.418605  0.000000   \n",
      "133  1.813953  0.837209  1.953488  0.697674  0.418605  0.000000   \n",
      "827  1.948052  0.389610  1.168831  0.974026  0.194805  0.000000   \n",
      "566  1.140444  0.380148  0.570222  0.285111  0.000000  0.000000   \n",
      "236  1.490683  0.434783  1.118012  0.496894  0.124224  0.000000   \n",
      "713  1.904762  1.111111  0.634921  0.793651  0.158730  0.000000   \n",
      "188  1.886376  0.595698  0.645339  0.843905  0.099283  0.099283   \n",
      "427  1.142578  0.439453  0.527344  1.230469  0.000000  0.000000   \n",
      "\n",
      "     Defensive Action/90  Possession won/90     xG/90  \n",
      "287             6.046512          42.325581  0.025885  \n",
      "846             2.325581          28.372093  0.039895  \n",
      "134            20.232558          91.860465  0.000000  \n",
      "133            20.232558          91.860465  0.000000  \n",
      "827            98.139535          91.162791  0.111039  \n",
      "566            13.488372          41.395349  0.000000  \n",
      "236            11.162791          79.069767  0.012422  \n",
      "713            13.953488          24.186047  0.050794  \n",
      "188            23.255814          49.767442  0.019360  \n",
      "427             2.790698           4.186047  0.000000  \n",
      "\n",
      "[10 rows x 134 columns]\n"
     ]
    },
    {
     "data": {
      "application/vnd.plotly.v1+json": {
       "data": [
        {
         "fill": "toself",
         "name": "김진호",
         "r": [
          42.7906976744186,
          31.627906976744185,
          27.441860465116278,
          75.81395348837209,
          84.18604651162791,
          65.5813953488372,
          6.976744186046512,
          57.674418604651166,
          13.023255813953488,
          42.7906976744186
         ],
         "theta": [
          "득점/xG",
          "슈팅/90",
          "유효 슈팅/90",
          "드리블 시도/90",
          "공격지역패스 성공%",
          "키패스/90",
          "Defensive Action/90",
          "Possession won/90",
          "경합 공중 성공/90",
          "득점/xG"
         ],
         "type": "scatterpolar"
        }
       ],
       "layout": {
        "template": {
         "data": {
          "histogram2dcontour": [
           {
            "type": "histogram2dcontour",
            "colorbar": {
             "outlinewidth": 0,
             "ticks": ""
            },
            "colorscale": [
             [
              0.0,
              "#0d0887"
             ],
             [
              0.1111111111111111,
              "#46039f"
             ],
             [
              0.2222222222222222,
              "#7201a8"
             ],
             [
              0.3333333333333333,
              "#9c179e"
             ],
             [
              0.4444444444444444,
              "#bd3786"
             ],
             [
              0.5555555555555556,
              "#d8576b"
             ],
             [
              0.6666666666666666,
              "#ed7953"
             ],
             [
              0.7777777777777778,
              "#fb9f3a"
             ],
             [
              0.8888888888888888,
              "#fdca26"
             ],
             [
              1.0,
              "#f0f921"
             ]
            ]
           }
          ],
          "choropleth": [
           {
            "type": "choropleth",
            "colorbar": {
             "outlinewidth": 0,
             "ticks": ""
            }
           }
          ],
          "histogram2d": [
           {
            "type": "histogram2d",
            "colorbar": {
             "outlinewidth": 0,
             "ticks": ""
            },
            "colorscale": [
             [
              0.0,
              "#0d0887"
             ],
             [
              0.1111111111111111,
              "#46039f"
             ],
             [
              0.2222222222222222,
              "#7201a8"
             ],
             [
              0.3333333333333333,
              "#9c179e"
             ],
             [
              0.4444444444444444,
              "#bd3786"
             ],
             [
              0.5555555555555556,
              "#d8576b"
             ],
             [
              0.6666666666666666,
              "#ed7953"
             ],
             [
              0.7777777777777778,
              "#fb9f3a"
             ],
             [
              0.8888888888888888,
              "#fdca26"
             ],
             [
              1.0,
              "#f0f921"
             ]
            ]
           }
          ],
          "heatmap": [
           {
            "type": "heatmap",
            "colorbar": {
             "outlinewidth": 0,
             "ticks": ""
            },
            "colorscale": [
             [
              0.0,
              "#0d0887"
             ],
             [
              0.1111111111111111,
              "#46039f"
             ],
             [
              0.2222222222222222,
              "#7201a8"
             ],
             [
              0.3333333333333333,
              "#9c179e"
             ],
             [
              0.4444444444444444,
              "#bd3786"
             ],
             [
              0.5555555555555556,
              "#d8576b"
             ],
             [
              0.6666666666666666,
              "#ed7953"
             ],
             [
              0.7777777777777778,
              "#fb9f3a"
             ],
             [
              0.8888888888888888,
              "#fdca26"
             ],
             [
              1.0,
              "#f0f921"
             ]
            ]
           }
          ],
          "heatmapgl": [
           {
            "type": "heatmapgl",
            "colorbar": {
             "outlinewidth": 0,
             "ticks": ""
            },
            "colorscale": [
             [
              0.0,
              "#0d0887"
             ],
             [
              0.1111111111111111,
              "#46039f"
             ],
             [
              0.2222222222222222,
              "#7201a8"
             ],
             [
              0.3333333333333333,
              "#9c179e"
             ],
             [
              0.4444444444444444,
              "#bd3786"
             ],
             [
              0.5555555555555556,
              "#d8576b"
             ],
             [
              0.6666666666666666,
              "#ed7953"
             ],
             [
              0.7777777777777778,
              "#fb9f3a"
             ],
             [
              0.8888888888888888,
              "#fdca26"
             ],
             [
              1.0,
              "#f0f921"
             ]
            ]
           }
          ],
          "contourcarpet": [
           {
            "type": "contourcarpet",
            "colorbar": {
             "outlinewidth": 0,
             "ticks": ""
            }
           }
          ],
          "contour": [
           {
            "type": "contour",
            "colorbar": {
             "outlinewidth": 0,
             "ticks": ""
            },
            "colorscale": [
             [
              0.0,
              "#0d0887"
             ],
             [
              0.1111111111111111,
              "#46039f"
             ],
             [
              0.2222222222222222,
              "#7201a8"
             ],
             [
              0.3333333333333333,
              "#9c179e"
             ],
             [
              0.4444444444444444,
              "#bd3786"
             ],
             [
              0.5555555555555556,
              "#d8576b"
             ],
             [
              0.6666666666666666,
              "#ed7953"
             ],
             [
              0.7777777777777778,
              "#fb9f3a"
             ],
             [
              0.8888888888888888,
              "#fdca26"
             ],
             [
              1.0,
              "#f0f921"
             ]
            ]
           }
          ],
          "surface": [
           {
            "type": "surface",
            "colorbar": {
             "outlinewidth": 0,
             "ticks": ""
            },
            "colorscale": [
             [
              0.0,
              "#0d0887"
             ],
             [
              0.1111111111111111,
              "#46039f"
             ],
             [
              0.2222222222222222,
              "#7201a8"
             ],
             [
              0.3333333333333333,
              "#9c179e"
             ],
             [
              0.4444444444444444,
              "#bd3786"
             ],
             [
              0.5555555555555556,
              "#d8576b"
             ],
             [
              0.6666666666666666,
              "#ed7953"
             ],
             [
              0.7777777777777778,
              "#fb9f3a"
             ],
             [
              0.8888888888888888,
              "#fdca26"
             ],
             [
              1.0,
              "#f0f921"
             ]
            ]
           }
          ],
          "mesh3d": [
           {
            "type": "mesh3d",
            "colorbar": {
             "outlinewidth": 0,
             "ticks": ""
            }
           }
          ],
          "scatter": [
           {
            "marker": {
             "line": {
              "color": "#283442"
             }
            },
            "type": "scatter"
           }
          ],
          "parcoords": [
           {
            "type": "parcoords",
            "line": {
             "colorbar": {
              "outlinewidth": 0,
              "ticks": ""
             }
            }
           }
          ],
          "scatterpolargl": [
           {
            "type": "scatterpolargl",
            "marker": {
             "colorbar": {
              "outlinewidth": 0,
              "ticks": ""
             }
            }
           }
          ],
          "bar": [
           {
            "error_x": {
             "color": "#f2f5fa"
            },
            "error_y": {
             "color": "#f2f5fa"
            },
            "marker": {
             "line": {
              "color": "rgb(17,17,17)",
              "width": 0.5
             },
             "pattern": {
              "fillmode": "overlay",
              "size": 10,
              "solidity": 0.2
             }
            },
            "type": "bar"
           }
          ],
          "scattergeo": [
           {
            "type": "scattergeo",
            "marker": {
             "colorbar": {
              "outlinewidth": 0,
              "ticks": ""
             }
            }
           }
          ],
          "scatterpolar": [
           {
            "type": "scatterpolar",
            "marker": {
             "colorbar": {
              "outlinewidth": 0,
              "ticks": ""
             }
            }
           }
          ],
          "histogram": [
           {
            "marker": {
             "pattern": {
              "fillmode": "overlay",
              "size": 10,
              "solidity": 0.2
             }
            },
            "type": "histogram"
           }
          ],
          "scattergl": [
           {
            "marker": {
             "line": {
              "color": "#283442"
             }
            },
            "type": "scattergl"
           }
          ],
          "scatter3d": [
           {
            "type": "scatter3d",
            "line": {
             "colorbar": {
              "outlinewidth": 0,
              "ticks": ""
             }
            },
            "marker": {
             "colorbar": {
              "outlinewidth": 0,
              "ticks": ""
             }
            }
           }
          ],
          "scattermapbox": [
           {
            "type": "scattermapbox",
            "marker": {
             "colorbar": {
              "outlinewidth": 0,
              "ticks": ""
             }
            }
           }
          ],
          "scatterternary": [
           {
            "type": "scatterternary",
            "marker": {
             "colorbar": {
              "outlinewidth": 0,
              "ticks": ""
             }
            }
           }
          ],
          "scattercarpet": [
           {
            "type": "scattercarpet",
            "marker": {
             "colorbar": {
              "outlinewidth": 0,
              "ticks": ""
             }
            }
           }
          ],
          "carpet": [
           {
            "aaxis": {
             "endlinecolor": "#A2B1C6",
             "gridcolor": "#506784",
             "linecolor": "#506784",
             "minorgridcolor": "#506784",
             "startlinecolor": "#A2B1C6"
            },
            "baxis": {
             "endlinecolor": "#A2B1C6",
             "gridcolor": "#506784",
             "linecolor": "#506784",
             "minorgridcolor": "#506784",
             "startlinecolor": "#A2B1C6"
            },
            "type": "carpet"
           }
          ],
          "table": [
           {
            "cells": {
             "fill": {
              "color": "#506784"
             },
             "line": {
              "color": "rgb(17,17,17)"
             }
            },
            "header": {
             "fill": {
              "color": "#2a3f5f"
             },
             "line": {
              "color": "rgb(17,17,17)"
             }
            },
            "type": "table"
           }
          ],
          "barpolar": [
           {
            "marker": {
             "line": {
              "color": "rgb(17,17,17)",
              "width": 0.5
             },
             "pattern": {
              "fillmode": "overlay",
              "size": 10,
              "solidity": 0.2
             }
            },
            "type": "barpolar"
           }
          ],
          "pie": [
           {
            "automargin": true,
            "type": "pie"
           }
          ]
         },
         "layout": {
          "autotypenumbers": "strict",
          "colorway": [
           "#636efa",
           "#EF553B",
           "#00cc96",
           "#ab63fa",
           "#FFA15A",
           "#19d3f3",
           "#FF6692",
           "#B6E880",
           "#FF97FF",
           "#FECB52"
          ],
          "font": {
           "color": "#f2f5fa"
          },
          "hovermode": "closest",
          "hoverlabel": {
           "align": "left"
          },
          "paper_bgcolor": "rgb(17,17,17)",
          "plot_bgcolor": "rgb(17,17,17)",
          "polar": {
           "bgcolor": "rgb(17,17,17)",
           "angularaxis": {
            "gridcolor": "#506784",
            "linecolor": "#506784",
            "ticks": ""
           },
           "radialaxis": {
            "gridcolor": "#506784",
            "linecolor": "#506784",
            "ticks": ""
           }
          },
          "ternary": {
           "bgcolor": "rgb(17,17,17)",
           "aaxis": {
            "gridcolor": "#506784",
            "linecolor": "#506784",
            "ticks": ""
           },
           "baxis": {
            "gridcolor": "#506784",
            "linecolor": "#506784",
            "ticks": ""
           },
           "caxis": {
            "gridcolor": "#506784",
            "linecolor": "#506784",
            "ticks": ""
           }
          },
          "coloraxis": {
           "colorbar": {
            "outlinewidth": 0,
            "ticks": ""
           }
          },
          "colorscale": {
           "sequential": [
            [
             0.0,
             "#0d0887"
            ],
            [
             0.1111111111111111,
             "#46039f"
            ],
            [
             0.2222222222222222,
             "#7201a8"
            ],
            [
             0.3333333333333333,
             "#9c179e"
            ],
            [
             0.4444444444444444,
             "#bd3786"
            ],
            [
             0.5555555555555556,
             "#d8576b"
            ],
            [
             0.6666666666666666,
             "#ed7953"
            ],
            [
             0.7777777777777778,
             "#fb9f3a"
            ],
            [
             0.8888888888888888,
             "#fdca26"
            ],
            [
             1.0,
             "#f0f921"
            ]
           ],
           "sequentialminus": [
            [
             0.0,
             "#0d0887"
            ],
            [
             0.1111111111111111,
             "#46039f"
            ],
            [
             0.2222222222222222,
             "#7201a8"
            ],
            [
             0.3333333333333333,
             "#9c179e"
            ],
            [
             0.4444444444444444,
             "#bd3786"
            ],
            [
             0.5555555555555556,
             "#d8576b"
            ],
            [
             0.6666666666666666,
             "#ed7953"
            ],
            [
             0.7777777777777778,
             "#fb9f3a"
            ],
            [
             0.8888888888888888,
             "#fdca26"
            ],
            [
             1.0,
             "#f0f921"
            ]
           ],
           "diverging": [
            [
             0,
             "#8e0152"
            ],
            [
             0.1,
             "#c51b7d"
            ],
            [
             0.2,
             "#de77ae"
            ],
            [
             0.3,
             "#f1b6da"
            ],
            [
             0.4,
             "#fde0ef"
            ],
            [
             0.5,
             "#f7f7f7"
            ],
            [
             0.6,
             "#e6f5d0"
            ],
            [
             0.7,
             "#b8e186"
            ],
            [
             0.8,
             "#7fbc41"
            ],
            [
             0.9,
             "#4d9221"
            ],
            [
             1,
             "#276419"
            ]
           ]
          },
          "xaxis": {
           "gridcolor": "#283442",
           "linecolor": "#506784",
           "ticks": "",
           "title": {
            "standoff": 15
           },
           "zerolinecolor": "#283442",
           "automargin": true,
           "zerolinewidth": 2
          },
          "yaxis": {
           "gridcolor": "#283442",
           "linecolor": "#506784",
           "ticks": "",
           "title": {
            "standoff": 15
           },
           "zerolinecolor": "#283442",
           "automargin": true,
           "zerolinewidth": 2
          },
          "scene": {
           "xaxis": {
            "backgroundcolor": "rgb(17,17,17)",
            "gridcolor": "#506784",
            "linecolor": "#506784",
            "showbackground": true,
            "ticks": "",
            "zerolinecolor": "#C8D4E3",
            "gridwidth": 2
           },
           "yaxis": {
            "backgroundcolor": "rgb(17,17,17)",
            "gridcolor": "#506784",
            "linecolor": "#506784",
            "showbackground": true,
            "ticks": "",
            "zerolinecolor": "#C8D4E3",
            "gridwidth": 2
           },
           "zaxis": {
            "backgroundcolor": "rgb(17,17,17)",
            "gridcolor": "#506784",
            "linecolor": "#506784",
            "showbackground": true,
            "ticks": "",
            "zerolinecolor": "#C8D4E3",
            "gridwidth": 2
           }
          },
          "shapedefaults": {
           "line": {
            "color": "#f2f5fa"
           }
          },
          "annotationdefaults": {
           "arrowcolor": "#f2f5fa",
           "arrowhead": 0,
           "arrowwidth": 1
          },
          "geo": {
           "bgcolor": "rgb(17,17,17)",
           "landcolor": "rgb(17,17,17)",
           "subunitcolor": "#506784",
           "showland": true,
           "showlakes": true,
           "lakecolor": "rgb(17,17,17)"
          },
          "title": {
           "x": 0.05
          },
          "updatemenudefaults": {
           "bgcolor": "#506784",
           "borderwidth": 0
          },
          "sliderdefaults": {
           "bgcolor": "#C8D4E3",
           "borderwidth": 1,
           "bordercolor": "rgb(17,17,17)",
           "tickwidth": 0
          },
          "mapbox": {
           "style": "dark"
          }
         }
        },
        "polar": {
         "radialaxis": {
          "range": [
           0,
           100
          ]
         },
         "angularaxis": {
          "showgrid": false
         }
        },
        "plot_bgcolor": "rgb(0,22,72)",
        "paper_bgcolor": "rgb(0,89,167)",
        "title": {
         "text": "27 Round - 김진호 Radar Chart"
        }
       },
       "config": {
        "plotlyServerURL": "https://plot.ly"
       }
      },
      "text/html": "<div>                            <div id=\"c96a9bd8-85d0-43b9-9bf5-5c569ce9553d\" class=\"plotly-graph-div\" style=\"height:525px; width:100%;\"></div>            <script type=\"text/javascript\">                require([\"plotly\"], function(Plotly) {                    window.PLOTLYENV=window.PLOTLYENV || {};                                    if (document.getElementById(\"c96a9bd8-85d0-43b9-9bf5-5c569ce9553d\")) {                    Plotly.newPlot(                        \"c96a9bd8-85d0-43b9-9bf5-5c569ce9553d\",                        [{\"fill\":\"toself\",\"name\":\"\\uae40\\uc9c4\\ud638\",\"r\":[42.7906976744186,31.627906976744185,27.441860465116278,75.81395348837209,84.18604651162791,65.5813953488372,6.976744186046512,57.674418604651166,13.023255813953488,42.7906976744186],\"theta\":[\"\\ub4dd\\uc810\\u002fxG\",\"\\uc288\\ud305\\u002f90\",\"\\uc720\\ud6a8 \\uc288\\ud305\\u002f90\",\"\\ub4dc\\ub9ac\\ube14 \\uc2dc\\ub3c4\\u002f90\",\"\\uacf5\\uaca9\\uc9c0\\uc5ed\\ud328\\uc2a4 \\uc131\\uacf5%\",\"\\ud0a4\\ud328\\uc2a4\\u002f90\",\"Defensive Action\\u002f90\",\"Possession won\\u002f90\",\"\\uacbd\\ud569 \\uacf5\\uc911 \\uc131\\uacf5\\u002f90\",\"\\ub4dd\\uc810\\u002fxG\"],\"type\":\"scatterpolar\"}],                        {\"template\":{\"data\":{\"histogram2dcontour\":[{\"type\":\"histogram2dcontour\",\"colorbar\":{\"outlinewidth\":0,\"ticks\":\"\"},\"colorscale\":[[0.0,\"#0d0887\"],[0.1111111111111111,\"#46039f\"],[0.2222222222222222,\"#7201a8\"],[0.3333333333333333,\"#9c179e\"],[0.4444444444444444,\"#bd3786\"],[0.5555555555555556,\"#d8576b\"],[0.6666666666666666,\"#ed7953\"],[0.7777777777777778,\"#fb9f3a\"],[0.8888888888888888,\"#fdca26\"],[1.0,\"#f0f921\"]]}],\"choropleth\":[{\"type\":\"choropleth\",\"colorbar\":{\"outlinewidth\":0,\"ticks\":\"\"}}],\"histogram2d\":[{\"type\":\"histogram2d\",\"colorbar\":{\"outlinewidth\":0,\"ticks\":\"\"},\"colorscale\":[[0.0,\"#0d0887\"],[0.1111111111111111,\"#46039f\"],[0.2222222222222222,\"#7201a8\"],[0.3333333333333333,\"#9c179e\"],[0.4444444444444444,\"#bd3786\"],[0.5555555555555556,\"#d8576b\"],[0.6666666666666666,\"#ed7953\"],[0.7777777777777778,\"#fb9f3a\"],[0.8888888888888888,\"#fdca26\"],[1.0,\"#f0f921\"]]}],\"heatmap\":[{\"type\":\"heatmap\",\"colorbar\":{\"outlinewidth\":0,\"ticks\":\"\"},\"colorscale\":[[0.0,\"#0d0887\"],[0.1111111111111111,\"#46039f\"],[0.2222222222222222,\"#7201a8\"],[0.3333333333333333,\"#9c179e\"],[0.4444444444444444,\"#bd3786\"],[0.5555555555555556,\"#d8576b\"],[0.6666666666666666,\"#ed7953\"],[0.7777777777777778,\"#fb9f3a\"],[0.8888888888888888,\"#fdca26\"],[1.0,\"#f0f921\"]]}],\"heatmapgl\":[{\"type\":\"heatmapgl\",\"colorbar\":{\"outlinewidth\":0,\"ticks\":\"\"},\"colorscale\":[[0.0,\"#0d0887\"],[0.1111111111111111,\"#46039f\"],[0.2222222222222222,\"#7201a8\"],[0.3333333333333333,\"#9c179e\"],[0.4444444444444444,\"#bd3786\"],[0.5555555555555556,\"#d8576b\"],[0.6666666666666666,\"#ed7953\"],[0.7777777777777778,\"#fb9f3a\"],[0.8888888888888888,\"#fdca26\"],[1.0,\"#f0f921\"]]}],\"contourcarpet\":[{\"type\":\"contourcarpet\",\"colorbar\":{\"outlinewidth\":0,\"ticks\":\"\"}}],\"contour\":[{\"type\":\"contour\",\"colorbar\":{\"outlinewidth\":0,\"ticks\":\"\"},\"colorscale\":[[0.0,\"#0d0887\"],[0.1111111111111111,\"#46039f\"],[0.2222222222222222,\"#7201a8\"],[0.3333333333333333,\"#9c179e\"],[0.4444444444444444,\"#bd3786\"],[0.5555555555555556,\"#d8576b\"],[0.6666666666666666,\"#ed7953\"],[0.7777777777777778,\"#fb9f3a\"],[0.8888888888888888,\"#fdca26\"],[1.0,\"#f0f921\"]]}],\"surface\":[{\"type\":\"surface\",\"colorbar\":{\"outlinewidth\":0,\"ticks\":\"\"},\"colorscale\":[[0.0,\"#0d0887\"],[0.1111111111111111,\"#46039f\"],[0.2222222222222222,\"#7201a8\"],[0.3333333333333333,\"#9c179e\"],[0.4444444444444444,\"#bd3786\"],[0.5555555555555556,\"#d8576b\"],[0.6666666666666666,\"#ed7953\"],[0.7777777777777778,\"#fb9f3a\"],[0.8888888888888888,\"#fdca26\"],[1.0,\"#f0f921\"]]}],\"mesh3d\":[{\"type\":\"mesh3d\",\"colorbar\":{\"outlinewidth\":0,\"ticks\":\"\"}}],\"scatter\":[{\"marker\":{\"line\":{\"color\":\"#283442\"}},\"type\":\"scatter\"}],\"parcoords\":[{\"type\":\"parcoords\",\"line\":{\"colorbar\":{\"outlinewidth\":0,\"ticks\":\"\"}}}],\"scatterpolargl\":[{\"type\":\"scatterpolargl\",\"marker\":{\"colorbar\":{\"outlinewidth\":0,\"ticks\":\"\"}}}],\"bar\":[{\"error_x\":{\"color\":\"#f2f5fa\"},\"error_y\":{\"color\":\"#f2f5fa\"},\"marker\":{\"line\":{\"color\":\"rgb(17,17,17)\",\"width\":0.5},\"pattern\":{\"fillmode\":\"overlay\",\"size\":10,\"solidity\":0.2}},\"type\":\"bar\"}],\"scattergeo\":[{\"type\":\"scattergeo\",\"marker\":{\"colorbar\":{\"outlinewidth\":0,\"ticks\":\"\"}}}],\"scatterpolar\":[{\"type\":\"scatterpolar\",\"marker\":{\"colorbar\":{\"outlinewidth\":0,\"ticks\":\"\"}}}],\"histogram\":[{\"marker\":{\"pattern\":{\"fillmode\":\"overlay\",\"size\":10,\"solidity\":0.2}},\"type\":\"histogram\"}],\"scattergl\":[{\"marker\":{\"line\":{\"color\":\"#283442\"}},\"type\":\"scattergl\"}],\"scatter3d\":[{\"type\":\"scatter3d\",\"line\":{\"colorbar\":{\"outlinewidth\":0,\"ticks\":\"\"}},\"marker\":{\"colorbar\":{\"outlinewidth\":0,\"ticks\":\"\"}}}],\"scattermapbox\":[{\"type\":\"scattermapbox\",\"marker\":{\"colorbar\":{\"outlinewidth\":0,\"ticks\":\"\"}}}],\"scatterternary\":[{\"type\":\"scatterternary\",\"marker\":{\"colorbar\":{\"outlinewidth\":0,\"ticks\":\"\"}}}],\"scattercarpet\":[{\"type\":\"scattercarpet\",\"marker\":{\"colorbar\":{\"outlinewidth\":0,\"ticks\":\"\"}}}],\"carpet\":[{\"aaxis\":{\"endlinecolor\":\"#A2B1C6\",\"gridcolor\":\"#506784\",\"linecolor\":\"#506784\",\"minorgridcolor\":\"#506784\",\"startlinecolor\":\"#A2B1C6\"},\"baxis\":{\"endlinecolor\":\"#A2B1C6\",\"gridcolor\":\"#506784\",\"linecolor\":\"#506784\",\"minorgridcolor\":\"#506784\",\"startlinecolor\":\"#A2B1C6\"},\"type\":\"carpet\"}],\"table\":[{\"cells\":{\"fill\":{\"color\":\"#506784\"},\"line\":{\"color\":\"rgb(17,17,17)\"}},\"header\":{\"fill\":{\"color\":\"#2a3f5f\"},\"line\":{\"color\":\"rgb(17,17,17)\"}},\"type\":\"table\"}],\"barpolar\":[{\"marker\":{\"line\":{\"color\":\"rgb(17,17,17)\",\"width\":0.5},\"pattern\":{\"fillmode\":\"overlay\",\"size\":10,\"solidity\":0.2}},\"type\":\"barpolar\"}],\"pie\":[{\"automargin\":true,\"type\":\"pie\"}]},\"layout\":{\"autotypenumbers\":\"strict\",\"colorway\":[\"#636efa\",\"#EF553B\",\"#00cc96\",\"#ab63fa\",\"#FFA15A\",\"#19d3f3\",\"#FF6692\",\"#B6E880\",\"#FF97FF\",\"#FECB52\"],\"font\":{\"color\":\"#f2f5fa\"},\"hovermode\":\"closest\",\"hoverlabel\":{\"align\":\"left\"},\"paper_bgcolor\":\"rgb(17,17,17)\",\"plot_bgcolor\":\"rgb(17,17,17)\",\"polar\":{\"bgcolor\":\"rgb(17,17,17)\",\"angularaxis\":{\"gridcolor\":\"#506784\",\"linecolor\":\"#506784\",\"ticks\":\"\"},\"radialaxis\":{\"gridcolor\":\"#506784\",\"linecolor\":\"#506784\",\"ticks\":\"\"}},\"ternary\":{\"bgcolor\":\"rgb(17,17,17)\",\"aaxis\":{\"gridcolor\":\"#506784\",\"linecolor\":\"#506784\",\"ticks\":\"\"},\"baxis\":{\"gridcolor\":\"#506784\",\"linecolor\":\"#506784\",\"ticks\":\"\"},\"caxis\":{\"gridcolor\":\"#506784\",\"linecolor\":\"#506784\",\"ticks\":\"\"}},\"coloraxis\":{\"colorbar\":{\"outlinewidth\":0,\"ticks\":\"\"}},\"colorscale\":{\"sequential\":[[0.0,\"#0d0887\"],[0.1111111111111111,\"#46039f\"],[0.2222222222222222,\"#7201a8\"],[0.3333333333333333,\"#9c179e\"],[0.4444444444444444,\"#bd3786\"],[0.5555555555555556,\"#d8576b\"],[0.6666666666666666,\"#ed7953\"],[0.7777777777777778,\"#fb9f3a\"],[0.8888888888888888,\"#fdca26\"],[1.0,\"#f0f921\"]],\"sequentialminus\":[[0.0,\"#0d0887\"],[0.1111111111111111,\"#46039f\"],[0.2222222222222222,\"#7201a8\"],[0.3333333333333333,\"#9c179e\"],[0.4444444444444444,\"#bd3786\"],[0.5555555555555556,\"#d8576b\"],[0.6666666666666666,\"#ed7953\"],[0.7777777777777778,\"#fb9f3a\"],[0.8888888888888888,\"#fdca26\"],[1.0,\"#f0f921\"]],\"diverging\":[[0,\"#8e0152\"],[0.1,\"#c51b7d\"],[0.2,\"#de77ae\"],[0.3,\"#f1b6da\"],[0.4,\"#fde0ef\"],[0.5,\"#f7f7f7\"],[0.6,\"#e6f5d0\"],[0.7,\"#b8e186\"],[0.8,\"#7fbc41\"],[0.9,\"#4d9221\"],[1,\"#276419\"]]},\"xaxis\":{\"gridcolor\":\"#283442\",\"linecolor\":\"#506784\",\"ticks\":\"\",\"title\":{\"standoff\":15},\"zerolinecolor\":\"#283442\",\"automargin\":true,\"zerolinewidth\":2},\"yaxis\":{\"gridcolor\":\"#283442\",\"linecolor\":\"#506784\",\"ticks\":\"\",\"title\":{\"standoff\":15},\"zerolinecolor\":\"#283442\",\"automargin\":true,\"zerolinewidth\":2},\"scene\":{\"xaxis\":{\"backgroundcolor\":\"rgb(17,17,17)\",\"gridcolor\":\"#506784\",\"linecolor\":\"#506784\",\"showbackground\":true,\"ticks\":\"\",\"zerolinecolor\":\"#C8D4E3\",\"gridwidth\":2},\"yaxis\":{\"backgroundcolor\":\"rgb(17,17,17)\",\"gridcolor\":\"#506784\",\"linecolor\":\"#506784\",\"showbackground\":true,\"ticks\":\"\",\"zerolinecolor\":\"#C8D4E3\",\"gridwidth\":2},\"zaxis\":{\"backgroundcolor\":\"rgb(17,17,17)\",\"gridcolor\":\"#506784\",\"linecolor\":\"#506784\",\"showbackground\":true,\"ticks\":\"\",\"zerolinecolor\":\"#C8D4E3\",\"gridwidth\":2}},\"shapedefaults\":{\"line\":{\"color\":\"#f2f5fa\"}},\"annotationdefaults\":{\"arrowcolor\":\"#f2f5fa\",\"arrowhead\":0,\"arrowwidth\":1},\"geo\":{\"bgcolor\":\"rgb(17,17,17)\",\"landcolor\":\"rgb(17,17,17)\",\"subunitcolor\":\"#506784\",\"showland\":true,\"showlakes\":true,\"lakecolor\":\"rgb(17,17,17)\"},\"title\":{\"x\":0.05},\"updatemenudefaults\":{\"bgcolor\":\"#506784\",\"borderwidth\":0},\"sliderdefaults\":{\"bgcolor\":\"#C8D4E3\",\"borderwidth\":1,\"bordercolor\":\"rgb(17,17,17)\",\"tickwidth\":0},\"mapbox\":{\"style\":\"dark\"}}},\"polar\":{\"radialaxis\":{\"range\":[0,100]},\"angularaxis\":{\"showgrid\":false}},\"plot_bgcolor\":\"rgb(0,22,72)\",\"paper_bgcolor\":\"rgb(0,89,167)\",\"title\":{\"text\":\"27 Round - \\uae40\\uc9c4\\ud638 Radar Chart\"}},                        {\"responsive\": true}                    ).then(function(){\n                            \nvar gd = document.getElementById('c96a9bd8-85d0-43b9-9bf5-5c569ce9553d');\nvar x = new MutationObserver(function (mutations, observer) {{\n        var display = window.getComputedStyle(gd).display;\n        if (!display || display === 'none') {{\n            console.log([gd, 'removed!']);\n            Plotly.purge(gd);\n            observer.disconnect();\n        }}\n}});\n\n// Listen for the removal of the full notebook cells\nvar notebookContainer = gd.closest('#notebook-container');\nif (notebookContainer) {{\n    x.observe(notebookContainer, {childList: true});\n}}\n\n// Listen for the clearing of the current output cell\nvar outputEl = gd.closest('.output');\nif (outputEl) {{\n    x.observe(outputEl, {childList: true});\n}}\n\n                        })                };                });            </script>        </div>"
     },
     "metadata": {},
     "output_type": "display_data"
    },
    {
     "name": "stdout",
     "output_type": "stream",
     "text": [
      "HTML file saved to output/27round-김진호-radar.html\n"
     ]
    }
   ],
   "source": [
    "mh_radar = RadarChart('김진호', '광주', 27, df)\n",
    "mh_radar.plot()\n",
    "mh_radar.save_as_html()"
   ],
   "metadata": {
    "collapsed": false,
    "ExecuteTime": {
     "end_time": "2024-08-20T03:56:58.009796Z",
     "start_time": "2024-08-20T03:56:57.951154Z"
    }
   },
   "id": "51941bc8e88121d0",
   "execution_count": 22
  },
  {
   "cell_type": "code",
   "outputs": [],
   "source": [
    "import plotly.express as px\n",
    "\n",
    "class ScatterChart(object):\n",
    "    def __init__(self, x, y, player_name, df):\n",
    "        self.player_name = player_name\n",
    "        # self.player_position = df[df['선수명'] == player_name]['포지션'].values[0]\n",
    "        # self.df = df[(df['출전시간(분)'] >= 1000) & (df['포지션'] == self.player_position)]\n",
    "        self.df = df[df['출전시간(분)'] >= 1000]\n",
    "        self.x = x\n",
    "        self.y = y\n",
    "        \n",
    "        # Calculate the mean values for x and y axes\n",
    "        self.mean_x = self.df[self.x].mean()\n",
    "        self.mean_y = self.df[self.y].mean()\n",
    "\n",
    "        # Create the scatter plot\n",
    "        self.fig = px.scatter(\n",
    "            self.df,\n",
    "            x=self.x,\n",
    "            y=self.y,\n",
    "            hover_name='선수명', # Set player names to appear on hover\n",
    "            color_discrete_sequence=['lightgray'],  # Set the default color to lightgray\n",
    "        )\n",
    "        \n",
    "        # Add mean lines\n",
    "        self.add_mean_lines()\n",
    "\n",
    "    def add_mean_lines(self):\n",
    "        # Add vertical and horizontal lines for the mean values\n",
    "        self.fig.add_shape(\n",
    "            type=\"line\",\n",
    "            x0=self.mean_x,\n",
    "            y0=self.df[self.y].min(),\n",
    "            x1=self.mean_x,\n",
    "            y1=self.df[self.y].max(),\n",
    "            line=dict(color=\"gray\", width=1),\n",
    "        )\n",
    "        self.fig.add_shape(\n",
    "            type=\"line\",\n",
    "            x0=self.df[self.x].min(),\n",
    "            y0=self.mean_y,\n",
    "            x1=self.df[self.x].max(),\n",
    "            y1=self.mean_y,\n",
    "            line=dict(color=\"gray\", width=1),\n",
    "        )\n",
    "\n",
    "    def plot(self):\n",
    "        self.fig.update_layout(\n",
    "            xaxis=dict(showgrid=False),  # Hide x-axis grid\n",
    "            yaxis=dict(showgrid=False),  # Hide y-axis grid\n",
    "        )\n",
    "        # Replace invalid characters in filename\n",
    "        safe_x = self.x.replace(\"/\", \"_\")\n",
    "        safe_y = self.y.replace(\"/\", \"_\")\n",
    "        filename = f'output/{self.player_name}_scatter_{safe_x}_{safe_y}.png'\n",
    "        self.fig.write_image(filename, format='png')\n",
    "        self.fig.show()\n"
   ],
   "metadata": {
    "collapsed": false,
    "ExecuteTime": {
     "end_time": "2024-08-19T03:46:17.115403Z",
     "start_time": "2024-08-19T03:46:17.108982Z"
    }
   },
   "id": "305b425290bbca0d",
   "execution_count": 69
  },
  {
   "cell_type": "code",
   "outputs": [
    {
     "name": "stdout",
     "output_type": "stream",
     "text": [
      "index\n",
      "선수명\n",
      "구단\n",
      "포지션\n",
      "등번호\n",
      "출전시간(분)\n",
      "득점\n",
      "도움\n",
      "슈팅\n",
      "유효 슈팅\n",
      "차단된슈팅\n",
      "벗어난슈팅\n",
      "PA내 슈팅\n",
      "PA외 슈팅\n",
      "오프사이드\n",
      "프리킥\n",
      "코너킥\n",
      "스로인\n",
      "드리블 시도\n",
      "드리블 성공\n",
      "드리블 성공%\n",
      "패스 시도\n",
      "패스 성공\n",
      "패스 성공%\n",
      "키패스\n",
      "전방 패스 시도\n",
      "전방 패스 성공\n",
      "전방 패스 성공%\n",
      "후방 패스 시도\n",
      "후방 패스 성공\n",
      "후방 패스 성공%\n",
      "횡패스 시도\n",
      "횡패스 성공\n",
      "횡패스 성공%\n",
      "공격지역패스 시도\n",
      "공격지역패스 성공\n",
      "공격지역패스 성공%\n",
      "수비지역패스 시도\n",
      "수비지역패스 성공\n",
      "수비지역패스 성공%\n",
      "중앙지역패스 시도\n",
      "중앙지역패스 성공\n",
      "중앙지역패스 성공%\n",
      "롱패스 시도\n",
      "롱패스 성공\n",
      "롱패스 성공%\n",
      "중거리패스 시도\n",
      "중거리패스 성공\n",
      "중거리패스 성공%\n",
      "숏패스 시도\n",
      "숏패스 성공\n",
      "숏패스 성공%\n",
      "크로스 시도\n",
      "크로스 성공\n",
      "크로스 성공%\n",
      "경합 지상 시도\n",
      "경합 지상 성공\n",
      "경합 지상 성공%\n",
      "경합 공중 시도\n",
      "경합 공중 성공\n",
      "경합 공중 성공%\n",
      "태클 시도\n",
      "태클 성공\n",
      "태클 성공%\n",
      "클리어링\n",
      "인터셉트\n",
      "차단\n",
      "획득\n",
      "블락\n",
      "볼미스\n",
      "파울\n",
      "피파울\n",
      "경고\n",
      "퇴장\n",
      "xG\n",
      "득점/xG\n",
      "Defensive Action\n",
      "Possession won\n",
      "득점/90\n",
      "도움/90\n",
      "슈팅/90\n",
      "유효 슈팅/90\n",
      "차단된슈팅/90\n",
      "벗어난슈팅/90\n",
      "PA내 슈팅/90\n",
      "PA외 슈팅/90\n",
      "오프사이드/90\n",
      "프리킥/90\n",
      "코너킥/90\n",
      "스로인/90\n",
      "드리블 시도/90\n",
      "드리블 성공/90\n",
      "패스 시도/90\n",
      "패스 성공/90\n",
      "키패스/90\n",
      "전방 패스 시도/90\n",
      "전방 패스 성공/90\n",
      "후방 패스 시도/90\n",
      "후방 패스 성공/90\n",
      "횡패스 시도/90\n",
      "횡패스 성공/90\n",
      "공격지역패스 시도/90\n",
      "공격지역패스 성공/90\n",
      "수비지역패스 시도/90\n",
      "수비지역패스 성공/90\n",
      "중앙지역패스 시도/90\n",
      "중앙지역패스 성공/90\n",
      "롱패스 시도/90\n",
      "롱패스 성공/90\n",
      "중거리패스 시도/90\n",
      "중거리패스 성공/90\n",
      "숏패스 시도/90\n",
      "숏패스 성공/90\n",
      "크로스 시도/90\n",
      "크로스 성공/90\n",
      "경합 지상 시도/90\n",
      "경합 지상 성공/90\n",
      "경합 공중 시도/90\n",
      "경합 공중 성공/90\n",
      "태클 시도/90\n",
      "태클 성공/90\n",
      "클리어링/90\n",
      "인터셉트/90\n",
      "차단/90\n",
      "획득/90\n",
      "블락/90\n",
      "볼미스/90\n",
      "파울/90\n",
      "피파울/90\n",
      "경고/90\n",
      "퇴장/90\n",
      "Defensive Action/90\n",
      "Possession won/90\n",
      "xG/90\n"
     ]
    }
   ],
   "source": [
    "for column in df.columns:\n",
    "    print(column)"
   ],
   "metadata": {
    "collapsed": false,
    "ExecuteTime": {
     "end_time": "2024-08-19T03:46:17.852774Z",
     "start_time": "2024-08-19T03:46:17.836567Z"
    }
   },
   "id": "61a22c9e000ba484",
   "execution_count": 70
  },
  {
   "cell_type": "code",
   "outputs": [
    {
     "data": {
      "application/vnd.plotly.v1+json": {
       "data": [
        {
         "hovertemplate": "<b>%{hovertext}</b><br><br>xG=%{x}<br>득점=%{y}<extra></extra>",
         "hovertext": [
          "가브리엘",
          "강민규",
          "강상우",
          "강상윤",
          "강윤성",
          "강정묵",
          "강준혁",
          "강투지",
          "강현묵",
          "고동민",
          "고명석",
          "고승범",
          "고재현",
          "고태원",
          "구대영",
          "구상민",
          "구자룡",
          "권경원",
          "권성윤",
          "권완규",
          "기성용",
          "김강국",
          "김건희",
          "김경민",
          "김기희",
          "김다솔",
          "김대원",
          "김도혁",
          "김동욱",
          "김동준",
          "김동진",
          "김민규",
          "김민규",
          "김민덕",
          "김민준",
          "김민호",
          "김민호",
          "김봉수",
          "김상준",
          "김선호",
          "김성주",
          "김성준",
          "김승대",
          "김승호",
          "김영권",
          "김영빈",
          "김영찬",
          "김예성",
          "김오규",
          "김오규",
          "김용환",
          "김이석",
          "김인균",
          "김인성",
          "김정민",
          "김정현",
          "김종석",
          "김주성",
          "김주원",
          "김주찬",
          "김준홍",
          "김진규",
          "김진수",
          "김진혁",
          "김진호",
          "김태한",
          "김태현",
          "김태환",
          "김태환",
          "김현우",
          "김현훈",
          "김현훈",
          "김형근",
          "김형진",
          "노건우",
          "닐손주니어",
          "단레이",
          "델브리지",
          "두현석",
          "라마스",
          "로페즈",
          "루빅손",
          "루이스",
          "루이스",
          "루페타",
          "류재문",
          "리영직",
          "린가드",
          "마테우스",
          "모따",
          "무고사",
          "문민서",
          "문선민",
          "문정인",
          "문정인",
          "문지환",
          "뮬리치",
          "바사니",
          "박경록",
          "박경록",
          "박광일",
          "박민규",
          "박민서",
          "박민서",
          "박민서",
          "박성훈",
          "박세진",
          "박수일",
          "박승욱",
          "박승호",
          "박용희",
          "박원재",
          "박재환",
          "박종현",
          "박지원",
          "박진섭",
          "박진영",
          "박창환",
          "박창환",
          "박철우",
          "박태용",
          "박태준",
          "박현빈",
          "발디비아",
          "밥신",
          "백동규",
          "백성동",
          "백종범",
          "변경준",
          "변경준",
          "변준수",
          "보야니치",
          "브루노",
          "브루노",
          "브루노 실바",
          "브루노 실바",
          "서명관",
          "서민우",
          "서재민",
          "서재민",
          "서재민",
          "서재민",
          "서진수",
          "성호영1",
          "세징야",
          "손석용",
          "손정현",
          "손정현",
          "송민규",
          "송주훈",
          "송홍민",
          "신광훈",
          "신송훈",
          "신재원",
          "신진호",
          "신형민",
          "아라불리",
          "아론",
          "아타루",
          "안데르손",
          "안영규",
          "안준수",
          "안태현",
          "안톤",
          "안현범",
          "알리바예프",
          "야고",
          "야고",
          "양민혁",
          "양형모",
          "어정원",
          "엄원상",
          "엄지성",
          "에드가",
          "연제운",
          "오반석",
          "오베르단",
          "오스마르",
          "오스마르",
          "오승훈",
          "오윤석",
          "완델손",
          "요니치",
          "요시노",
          "우주성",
          "원두재",
          "유리 조나탄",
          "유상훈",
          "유인수",
          "윤빛가람",
          "윤석영",
          "윤일록",
          "음포쿠",
          "이강희",
          "이건희",
          "이광연",
          "이광진",
          "이규성",
          "이기혁",
          "이동률",
          "이동률",
          "이동수",
          "이동희",
          "이명재",
          "이명주",
          "이민혁",
          "이범수",
          "이상기",
          "이상민",
          "이상헌",
          "이수빈",
          "이순민",
          "이승모",
          "이승우",
          "이시영",
          "이영재",
          "이용",
          "이웅희",
          "이유현",
          "이은범",
          "이인재",
          "이인재",
          "이재원",
          "이재익",
          "이정택",
          "이정협",
          "이종성",
          "이준상",
          "이준재",
          "이창근",
          "이창용",
          "이코바",
          "이코바",
          "이탈로",
          "이태희",
          "이학민",
          "이한도",
          "이호재",
          "이희균",
          "일류첸코",
          "임덕근",
          "임민혁",
          "임상협",
          "임종은",
          "임창우",
          "장성원",
          "장성재",
          "장영우",
          "장윤호",
          "장윤호",
          "잭슨",
          "전민광",
          "전병관",
          "전인규",
          "정동윤",
          "정마호",
          "정민기",
          "정석화",
          "정승용",
          "정승원",
          "정운",
          "정원진",
          "정재희",
          "정치인",
          "정태욱",
          "정호연",
          "정호진",
          "제르소",
          "제종현",
          "조르지",
          "조영욱",
          "조위제",
          "조윤성",
          "조지훈",
          "조현우",
          "주닝요",
          "주민규",
          "주세종",
          "주현우",
          "지동원",
          "차승현",
          "차승현",
          "천지현",
          "최건주",
          "최경록",
          "최규백",
          "최규현",
          "최병찬",
          "최봉진",
          "최우진",
          "최재훈",
          "최재훈",
          "최준",
          "최필수",
          "최희원",
          "카즈",
          "툰가라",
          "티아고",
          "파울리뇨",
          "팔로세비치",
          "페신",
          "플라나",
          "플라나",
          "하남",
          "한석종",
          "한승규",
          "한지호",
          "한찬희",
          "한호강",
          "허용준",
          "허율",
          "헤이스",
          "홍성욱",
          "홍시후",
          "홍윤상",
          "홍철",
          "황기욱",
          "황문기",
          "황석호",
          "황인재",
          "황재원",
          "후이즈"
         ],
         "legendgroup": "",
         "marker": {
          "color": "lightgray",
          "symbol": "circle"
         },
         "mode": "markers",
         "name": "",
         "orientation": "v",
         "showlegend": false,
         "x": [
          4.53,
          0.0,
          1.21,
          1.02,
          0.11,
          0.0,
          0.0,
          0.92,
          0.0,
          0.0,
          0.3,
          0.69,
          2.11,
          0.0,
          0.0,
          0.0,
          0.23,
          1.11,
          0.0,
          1.8,
          0.77,
          0.8,
          0.88,
          0.0,
          0.43,
          0.0,
          1.63,
          1.05,
          0.0,
          0.0,
          0.0,
          0.0,
          0.0,
          0.25,
          0.0,
          0.0,
          0.0,
          0.22,
          0.0,
          0.0,
          0.0,
          0.0,
          1.37,
          0.0,
          0.54,
          1.09,
          0.0,
          0.0,
          0.0,
          0.0,
          0.0,
          0.62,
          2.01,
          2.07,
          1.18,
          0.0,
          0.0,
          0.33,
          0.0,
          0.0,
          0.0,
          0.0,
          0.39,
          0.79,
          0.27,
          1.01,
          0.0,
          0.0,
          0.87,
          0.34,
          0.0,
          0.0,
          0.0,
          0.0,
          0.0,
          0.0,
          0.0,
          0.27,
          0.2,
          0.0,
          0.0,
          3.02,
          0.0,
          0.0,
          0.0,
          0.4,
          0.0,
          1.13,
          0.0,
          0.0,
          7.0,
          0.72,
          2.95,
          0.0,
          0.0,
          1.0,
          0.0,
          0.0,
          0.0,
          0.0,
          0.0,
          0.0,
          0.0,
          0.0,
          0.0,
          0.28,
          0.91,
          1.19,
          0.17,
          2.32,
          2.25,
          0.0,
          0.0,
          0.0,
          0.0,
          0.18,
          0.52,
          0.0,
          0.0,
          1.8,
          0.0,
          1.19,
          0.0,
          0.0,
          0.0,
          0.0,
          1.4,
          0.0,
          0.0,
          0.0,
          1.04,
          1.03,
          0.0,
          0.0,
          0.0,
          0.0,
          0.0,
          1.46,
          0.0,
          0.0,
          0.0,
          0.0,
          3.8,
          0.0,
          5.4,
          0.0,
          0.0,
          0.0,
          2.28,
          0.35,
          0.0,
          0.01,
          0.0,
          0.0,
          0.37,
          0.0,
          0.0,
          0.04,
          2.07,
          5.16,
          0.37,
          0.0,
          2.08,
          1.01,
          1.04,
          0.0,
          0.0,
          0.0,
          3.83,
          0.0,
          0.37,
          4.27,
          2.69,
          4.72,
          0.0,
          0.73,
          1.04,
          0.0,
          0.0,
          0.0,
          0.0,
          1.57,
          1.09,
          1.75,
          0.0,
          0.0,
          4.83,
          0.0,
          1.5,
          2.86,
          0.7,
          0.49,
          0.57,
          0.0,
          4.06,
          0.0,
          0.0,
          0.5,
          0.27,
          0.0,
          0.0,
          0.0,
          0.59,
          0.4,
          0.35,
          0.0,
          0.0,
          0.09,
          0.0,
          6.82,
          0.19,
          0.42,
          0.7,
          0.0,
          0.0,
          1.72,
          0.1,
          0.0,
          0.58,
          0.0,
          0.0,
          0.0,
          1.03,
          0.54,
          0.1,
          0.0,
          0.0,
          0.0,
          0.0,
          0.0,
          0.0,
          0.0,
          0.0,
          1.23,
          0.0,
          0.0,
          0.0,
          3.83,
          3.0,
          7.7,
          0.68,
          0.0,
          1.26,
          0.2,
          0.49,
          0.24,
          0.0,
          0.93,
          0.0,
          0.0,
          0.24,
          1.12,
          3.22,
          0.0,
          0.55,
          0.0,
          0.0,
          0.0,
          0.0,
          3.09,
          0.53,
          0.0,
          3.38,
          0.0,
          0.46,
          1.51,
          0.0,
          3.67,
          0.0,
          3.73,
          1.58,
          0.0,
          0.0,
          0.0,
          0.0,
          0.0,
          7.24,
          0.7,
          0.0,
          2.46,
          0.0,
          0.0,
          0.0,
          0.0,
          1.73,
          0.26,
          0.0,
          0.0,
          0.0,
          0.59,
          0.0,
          0.0,
          0.16,
          0.0,
          0.0,
          0.0,
          0.0,
          5.25,
          0.0,
          1.32,
          0.0,
          0.0,
          0.0,
          0.0,
          0.0,
          0.63,
          0.0,
          1.22,
          0.0,
          2.96,
          0.76,
          3.17,
          0.0,
          0.31,
          3.57,
          0.62,
          0.0,
          1.18,
          0.07,
          0.0,
          0.49,
          0.0
         ],
         "xaxis": "x",
         "y": [
          6.0,
          6.0,
          0.0,
          3.0,
          0.0,
          0.0,
          2.0,
          1.0,
          2.0,
          0.0,
          0.0,
          1.0,
          0.0,
          0.0,
          0.0,
          0.0,
          0.0,
          1.0,
          1.0,
          2.0,
          2.0,
          0.0,
          0.0,
          0.0,
          0.0,
          0.0,
          4.0,
          2.0,
          1.0,
          0.0,
          4.0,
          0.0,
          0.0,
          0.0,
          0.0,
          1.0,
          1.0,
          0.0,
          1.0,
          0.0,
          0.0,
          0.0,
          2.0,
          1.0,
          1.0,
          0.0,
          0.0,
          0.0,
          0.0,
          0.0,
          0.0,
          2.0,
          1.0,
          2.0,
          0.0,
          1.0,
          3.0,
          0.0,
          1.0,
          2.0,
          0.0,
          0.0,
          0.0,
          0.0,
          0.0,
          1.0,
          2.0,
          1.0,
          2.0,
          0.0,
          0.0,
          0.0,
          0.0,
          0.0,
          1.0,
          1.0,
          4.0,
          1.0,
          0.0,
          8.0,
          0.0,
          5.0,
          7.0,
          7.0,
          7.0,
          1.0,
          2.0,
          2.0,
          5.0,
          11.0,
          13.0,
          2.0,
          5.0,
          0.0,
          0.0,
          1.0,
          8.0,
          7.0,
          2.0,
          2.0,
          0.0,
          0.0,
          2.0,
          5.0,
          5.0,
          1.0,
          1.0,
          0.0,
          0.0,
          2.0,
          3.0,
          0.0,
          0.0,
          0.0,
          3.0,
          0.0,
          0.0,
          0.0,
          0.0,
          1.0,
          2.0,
          2.0,
          1.0,
          7.0,
          1.0,
          0.0,
          1.0,
          0.0,
          6.0,
          6.0,
          1.0,
          1.0,
          0.0,
          0.0,
          10.0,
          10.0,
          0.0,
          2.0,
          0.0,
          2.0,
          2.0,
          0.0,
          2.0,
          1.0,
          7.0,
          2.0,
          0.0,
          0.0,
          5.0,
          0.0,
          0.0,
          0.0,
          0.0,
          0.0,
          0.0,
          0.0,
          8.0,
          0.0,
          3.0,
          2.0,
          0.0,
          0.0,
          4.0,
          1.0,
          1.0,
          0.0,
          9.0,
          4.0,
          8.0,
          0.0,
          0.0,
          4.0,
          2.0,
          3.0,
          0.0,
          0.0,
          3.0,
          4.0,
          4.0,
          0.0,
          0.0,
          1.0,
          1.0,
          5.0,
          1.0,
          1.0,
          4.0,
          0.0,
          2.0,
          1.0,
          2.0,
          0.0,
          1.0,
          0.0,
          4.0,
          0.0,
          2.0,
          0.0,
          0.0,
          4.0,
          4.0,
          4.0,
          0.0,
          0.0,
          0.0,
          1.0,
          0.0,
          0.0,
          1.0,
          10.0,
          0.0,
          0.0,
          2.0,
          10.0,
          1.0,
          2.0,
          1.0,
          0.0,
          0.0,
          1.0,
          0.0,
          0.0,
          1.0,
          1.0,
          0.0,
          0.0,
          1.0,
          1.0,
          1.0,
          0.0,
          0.0,
          6.0,
          6.0,
          2.0,
          2.0,
          2.0,
          2.0,
          9.0,
          5.0,
          12.0,
          1.0,
          3.0,
          2.0,
          0.0,
          1.0,
          1.0,
          2.0,
          1.0,
          1.0,
          1.0,
          1.0,
          2.0,
          5.0,
          0.0,
          0.0,
          3.0,
          0.0,
          0.0,
          0.0,
          7.0,
          0.0,
          0.0,
          8.0,
          2.0,
          0.0,
          0.0,
          0.0,
          3.0,
          0.0,
          1.0,
          3.0,
          1.0,
          1.0,
          3.0,
          0.0,
          7.0,
          8.0,
          1.0,
          0.0,
          3.0,
          1.0,
          1.0,
          1.0,
          1.0,
          2.0,
          0.0,
          1.0,
          2.0,
          0.0,
          0.0,
          2.0,
          2.0,
          0.0,
          0.0,
          0.0,
          0.0,
          0.0,
          6.0,
          9.0,
          1.0,
          5.0,
          8.0,
          8.0,
          9.0,
          0.0,
          1.0,
          1.0,
          0.0,
          1.0,
          3.0,
          1.0,
          4.0,
          0.0,
          0.0,
          5.0,
          1.0,
          2.0,
          1.0,
          0.0,
          0.0,
          0.0,
          10.0
         ],
         "yaxis": "y",
         "type": "scatter"
        }
       ],
       "layout": {
        "template": {
         "data": {
          "histogram2dcontour": [
           {
            "type": "histogram2dcontour",
            "colorbar": {
             "outlinewidth": 0,
             "ticks": ""
            },
            "colorscale": [
             [
              0.0,
              "#0d0887"
             ],
             [
              0.1111111111111111,
              "#46039f"
             ],
             [
              0.2222222222222222,
              "#7201a8"
             ],
             [
              0.3333333333333333,
              "#9c179e"
             ],
             [
              0.4444444444444444,
              "#bd3786"
             ],
             [
              0.5555555555555556,
              "#d8576b"
             ],
             [
              0.6666666666666666,
              "#ed7953"
             ],
             [
              0.7777777777777778,
              "#fb9f3a"
             ],
             [
              0.8888888888888888,
              "#fdca26"
             ],
             [
              1.0,
              "#f0f921"
             ]
            ]
           }
          ],
          "choropleth": [
           {
            "type": "choropleth",
            "colorbar": {
             "outlinewidth": 0,
             "ticks": ""
            }
           }
          ],
          "histogram2d": [
           {
            "type": "histogram2d",
            "colorbar": {
             "outlinewidth": 0,
             "ticks": ""
            },
            "colorscale": [
             [
              0.0,
              "#0d0887"
             ],
             [
              0.1111111111111111,
              "#46039f"
             ],
             [
              0.2222222222222222,
              "#7201a8"
             ],
             [
              0.3333333333333333,
              "#9c179e"
             ],
             [
              0.4444444444444444,
              "#bd3786"
             ],
             [
              0.5555555555555556,
              "#d8576b"
             ],
             [
              0.6666666666666666,
              "#ed7953"
             ],
             [
              0.7777777777777778,
              "#fb9f3a"
             ],
             [
              0.8888888888888888,
              "#fdca26"
             ],
             [
              1.0,
              "#f0f921"
             ]
            ]
           }
          ],
          "heatmap": [
           {
            "type": "heatmap",
            "colorbar": {
             "outlinewidth": 0,
             "ticks": ""
            },
            "colorscale": [
             [
              0.0,
              "#0d0887"
             ],
             [
              0.1111111111111111,
              "#46039f"
             ],
             [
              0.2222222222222222,
              "#7201a8"
             ],
             [
              0.3333333333333333,
              "#9c179e"
             ],
             [
              0.4444444444444444,
              "#bd3786"
             ],
             [
              0.5555555555555556,
              "#d8576b"
             ],
             [
              0.6666666666666666,
              "#ed7953"
             ],
             [
              0.7777777777777778,
              "#fb9f3a"
             ],
             [
              0.8888888888888888,
              "#fdca26"
             ],
             [
              1.0,
              "#f0f921"
             ]
            ]
           }
          ],
          "heatmapgl": [
           {
            "type": "heatmapgl",
            "colorbar": {
             "outlinewidth": 0,
             "ticks": ""
            },
            "colorscale": [
             [
              0.0,
              "#0d0887"
             ],
             [
              0.1111111111111111,
              "#46039f"
             ],
             [
              0.2222222222222222,
              "#7201a8"
             ],
             [
              0.3333333333333333,
              "#9c179e"
             ],
             [
              0.4444444444444444,
              "#bd3786"
             ],
             [
              0.5555555555555556,
              "#d8576b"
             ],
             [
              0.6666666666666666,
              "#ed7953"
             ],
             [
              0.7777777777777778,
              "#fb9f3a"
             ],
             [
              0.8888888888888888,
              "#fdca26"
             ],
             [
              1.0,
              "#f0f921"
             ]
            ]
           }
          ],
          "contourcarpet": [
           {
            "type": "contourcarpet",
            "colorbar": {
             "outlinewidth": 0,
             "ticks": ""
            }
           }
          ],
          "contour": [
           {
            "type": "contour",
            "colorbar": {
             "outlinewidth": 0,
             "ticks": ""
            },
            "colorscale": [
             [
              0.0,
              "#0d0887"
             ],
             [
              0.1111111111111111,
              "#46039f"
             ],
             [
              0.2222222222222222,
              "#7201a8"
             ],
             [
              0.3333333333333333,
              "#9c179e"
             ],
             [
              0.4444444444444444,
              "#bd3786"
             ],
             [
              0.5555555555555556,
              "#d8576b"
             ],
             [
              0.6666666666666666,
              "#ed7953"
             ],
             [
              0.7777777777777778,
              "#fb9f3a"
             ],
             [
              0.8888888888888888,
              "#fdca26"
             ],
             [
              1.0,
              "#f0f921"
             ]
            ]
           }
          ],
          "surface": [
           {
            "type": "surface",
            "colorbar": {
             "outlinewidth": 0,
             "ticks": ""
            },
            "colorscale": [
             [
              0.0,
              "#0d0887"
             ],
             [
              0.1111111111111111,
              "#46039f"
             ],
             [
              0.2222222222222222,
              "#7201a8"
             ],
             [
              0.3333333333333333,
              "#9c179e"
             ],
             [
              0.4444444444444444,
              "#bd3786"
             ],
             [
              0.5555555555555556,
              "#d8576b"
             ],
             [
              0.6666666666666666,
              "#ed7953"
             ],
             [
              0.7777777777777778,
              "#fb9f3a"
             ],
             [
              0.8888888888888888,
              "#fdca26"
             ],
             [
              1.0,
              "#f0f921"
             ]
            ]
           }
          ],
          "mesh3d": [
           {
            "type": "mesh3d",
            "colorbar": {
             "outlinewidth": 0,
             "ticks": ""
            }
           }
          ],
          "scatter": [
           {
            "marker": {
             "line": {
              "color": "#283442"
             }
            },
            "type": "scatter"
           }
          ],
          "parcoords": [
           {
            "type": "parcoords",
            "line": {
             "colorbar": {
              "outlinewidth": 0,
              "ticks": ""
             }
            }
           }
          ],
          "scatterpolargl": [
           {
            "type": "scatterpolargl",
            "marker": {
             "colorbar": {
              "outlinewidth": 0,
              "ticks": ""
             }
            }
           }
          ],
          "bar": [
           {
            "error_x": {
             "color": "#f2f5fa"
            },
            "error_y": {
             "color": "#f2f5fa"
            },
            "marker": {
             "line": {
              "color": "rgb(17,17,17)",
              "width": 0.5
             },
             "pattern": {
              "fillmode": "overlay",
              "size": 10,
              "solidity": 0.2
             }
            },
            "type": "bar"
           }
          ],
          "scattergeo": [
           {
            "type": "scattergeo",
            "marker": {
             "colorbar": {
              "outlinewidth": 0,
              "ticks": ""
             }
            }
           }
          ],
          "scatterpolar": [
           {
            "type": "scatterpolar",
            "marker": {
             "colorbar": {
              "outlinewidth": 0,
              "ticks": ""
             }
            }
           }
          ],
          "histogram": [
           {
            "marker": {
             "pattern": {
              "fillmode": "overlay",
              "size": 10,
              "solidity": 0.2
             }
            },
            "type": "histogram"
           }
          ],
          "scattergl": [
           {
            "marker": {
             "line": {
              "color": "#283442"
             }
            },
            "type": "scattergl"
           }
          ],
          "scatter3d": [
           {
            "type": "scatter3d",
            "line": {
             "colorbar": {
              "outlinewidth": 0,
              "ticks": ""
             }
            },
            "marker": {
             "colorbar": {
              "outlinewidth": 0,
              "ticks": ""
             }
            }
           }
          ],
          "scattermapbox": [
           {
            "type": "scattermapbox",
            "marker": {
             "colorbar": {
              "outlinewidth": 0,
              "ticks": ""
             }
            }
           }
          ],
          "scatterternary": [
           {
            "type": "scatterternary",
            "marker": {
             "colorbar": {
              "outlinewidth": 0,
              "ticks": ""
             }
            }
           }
          ],
          "scattercarpet": [
           {
            "type": "scattercarpet",
            "marker": {
             "colorbar": {
              "outlinewidth": 0,
              "ticks": ""
             }
            }
           }
          ],
          "carpet": [
           {
            "aaxis": {
             "endlinecolor": "#A2B1C6",
             "gridcolor": "#506784",
             "linecolor": "#506784",
             "minorgridcolor": "#506784",
             "startlinecolor": "#A2B1C6"
            },
            "baxis": {
             "endlinecolor": "#A2B1C6",
             "gridcolor": "#506784",
             "linecolor": "#506784",
             "minorgridcolor": "#506784",
             "startlinecolor": "#A2B1C6"
            },
            "type": "carpet"
           }
          ],
          "table": [
           {
            "cells": {
             "fill": {
              "color": "#506784"
             },
             "line": {
              "color": "rgb(17,17,17)"
             }
            },
            "header": {
             "fill": {
              "color": "#2a3f5f"
             },
             "line": {
              "color": "rgb(17,17,17)"
             }
            },
            "type": "table"
           }
          ],
          "barpolar": [
           {
            "marker": {
             "line": {
              "color": "rgb(17,17,17)",
              "width": 0.5
             },
             "pattern": {
              "fillmode": "overlay",
              "size": 10,
              "solidity": 0.2
             }
            },
            "type": "barpolar"
           }
          ],
          "pie": [
           {
            "automargin": true,
            "type": "pie"
           }
          ]
         },
         "layout": {
          "autotypenumbers": "strict",
          "colorway": [
           "#636efa",
           "#EF553B",
           "#00cc96",
           "#ab63fa",
           "#FFA15A",
           "#19d3f3",
           "#FF6692",
           "#B6E880",
           "#FF97FF",
           "#FECB52"
          ],
          "font": {
           "color": "#f2f5fa"
          },
          "hovermode": "closest",
          "hoverlabel": {
           "align": "left"
          },
          "paper_bgcolor": "rgb(17,17,17)",
          "plot_bgcolor": "rgb(17,17,17)",
          "polar": {
           "bgcolor": "rgb(17,17,17)",
           "angularaxis": {
            "gridcolor": "#506784",
            "linecolor": "#506784",
            "ticks": ""
           },
           "radialaxis": {
            "gridcolor": "#506784",
            "linecolor": "#506784",
            "ticks": ""
           }
          },
          "ternary": {
           "bgcolor": "rgb(17,17,17)",
           "aaxis": {
            "gridcolor": "#506784",
            "linecolor": "#506784",
            "ticks": ""
           },
           "baxis": {
            "gridcolor": "#506784",
            "linecolor": "#506784",
            "ticks": ""
           },
           "caxis": {
            "gridcolor": "#506784",
            "linecolor": "#506784",
            "ticks": ""
           }
          },
          "coloraxis": {
           "colorbar": {
            "outlinewidth": 0,
            "ticks": ""
           }
          },
          "colorscale": {
           "sequential": [
            [
             0.0,
             "#0d0887"
            ],
            [
             0.1111111111111111,
             "#46039f"
            ],
            [
             0.2222222222222222,
             "#7201a8"
            ],
            [
             0.3333333333333333,
             "#9c179e"
            ],
            [
             0.4444444444444444,
             "#bd3786"
            ],
            [
             0.5555555555555556,
             "#d8576b"
            ],
            [
             0.6666666666666666,
             "#ed7953"
            ],
            [
             0.7777777777777778,
             "#fb9f3a"
            ],
            [
             0.8888888888888888,
             "#fdca26"
            ],
            [
             1.0,
             "#f0f921"
            ]
           ],
           "sequentialminus": [
            [
             0.0,
             "#0d0887"
            ],
            [
             0.1111111111111111,
             "#46039f"
            ],
            [
             0.2222222222222222,
             "#7201a8"
            ],
            [
             0.3333333333333333,
             "#9c179e"
            ],
            [
             0.4444444444444444,
             "#bd3786"
            ],
            [
             0.5555555555555556,
             "#d8576b"
            ],
            [
             0.6666666666666666,
             "#ed7953"
            ],
            [
             0.7777777777777778,
             "#fb9f3a"
            ],
            [
             0.8888888888888888,
             "#fdca26"
            ],
            [
             1.0,
             "#f0f921"
            ]
           ],
           "diverging": [
            [
             0,
             "#8e0152"
            ],
            [
             0.1,
             "#c51b7d"
            ],
            [
             0.2,
             "#de77ae"
            ],
            [
             0.3,
             "#f1b6da"
            ],
            [
             0.4,
             "#fde0ef"
            ],
            [
             0.5,
             "#f7f7f7"
            ],
            [
             0.6,
             "#e6f5d0"
            ],
            [
             0.7,
             "#b8e186"
            ],
            [
             0.8,
             "#7fbc41"
            ],
            [
             0.9,
             "#4d9221"
            ],
            [
             1,
             "#276419"
            ]
           ]
          },
          "xaxis": {
           "gridcolor": "#283442",
           "linecolor": "#506784",
           "ticks": "",
           "title": {
            "standoff": 15
           },
           "zerolinecolor": "#283442",
           "automargin": true,
           "zerolinewidth": 2
          },
          "yaxis": {
           "gridcolor": "#283442",
           "linecolor": "#506784",
           "ticks": "",
           "title": {
            "standoff": 15
           },
           "zerolinecolor": "#283442",
           "automargin": true,
           "zerolinewidth": 2
          },
          "scene": {
           "xaxis": {
            "backgroundcolor": "rgb(17,17,17)",
            "gridcolor": "#506784",
            "linecolor": "#506784",
            "showbackground": true,
            "ticks": "",
            "zerolinecolor": "#C8D4E3",
            "gridwidth": 2
           },
           "yaxis": {
            "backgroundcolor": "rgb(17,17,17)",
            "gridcolor": "#506784",
            "linecolor": "#506784",
            "showbackground": true,
            "ticks": "",
            "zerolinecolor": "#C8D4E3",
            "gridwidth": 2
           },
           "zaxis": {
            "backgroundcolor": "rgb(17,17,17)",
            "gridcolor": "#506784",
            "linecolor": "#506784",
            "showbackground": true,
            "ticks": "",
            "zerolinecolor": "#C8D4E3",
            "gridwidth": 2
           }
          },
          "shapedefaults": {
           "line": {
            "color": "#f2f5fa"
           }
          },
          "annotationdefaults": {
           "arrowcolor": "#f2f5fa",
           "arrowhead": 0,
           "arrowwidth": 1
          },
          "geo": {
           "bgcolor": "rgb(17,17,17)",
           "landcolor": "rgb(17,17,17)",
           "subunitcolor": "#506784",
           "showland": true,
           "showlakes": true,
           "lakecolor": "rgb(17,17,17)"
          },
          "title": {
           "x": 0.05
          },
          "updatemenudefaults": {
           "bgcolor": "#506784",
           "borderwidth": 0
          },
          "sliderdefaults": {
           "bgcolor": "#C8D4E3",
           "borderwidth": 1,
           "bordercolor": "rgb(17,17,17)",
           "tickwidth": 0
          },
          "mapbox": {
           "style": "dark"
          }
         }
        },
        "xaxis": {
         "anchor": "y",
         "domain": [
          0.0,
          1.0
         ],
         "title": {
          "text": "xG"
         },
         "showgrid": false
        },
        "yaxis": {
         "anchor": "x",
         "domain": [
          0.0,
          1.0
         ],
         "title": {
          "text": "득점"
         },
         "showgrid": false
        },
        "legend": {
         "tracegroupgap": 0
        },
        "margin": {
         "t": 60
        },
        "shapes": [
         {
          "line": {
           "color": "gray",
           "width": 1
          },
          "type": "line",
          "x0": 0.6774844720496894,
          "x1": 0.6774844720496894,
          "y0": 0.0,
          "y1": 13.0
         },
         {
          "line": {
           "color": "gray",
           "width": 1
          },
          "type": "line",
          "x0": 0.0,
          "x1": 7.7,
          "y0": 1.8540372670807452,
          "y1": 1.8540372670807452
         }
        ]
       },
       "config": {
        "plotlyServerURL": "https://plot.ly"
       }
      },
      "text/html": "<div>                            <div id=\"13f67916-8ab0-419f-a4dc-3c2aa7ca4d67\" class=\"plotly-graph-div\" style=\"height:525px; width:100%;\"></div>            <script type=\"text/javascript\">                require([\"plotly\"], function(Plotly) {                    window.PLOTLYENV=window.PLOTLYENV || {};                                    if (document.getElementById(\"13f67916-8ab0-419f-a4dc-3c2aa7ca4d67\")) {                    Plotly.newPlot(                        \"13f67916-8ab0-419f-a4dc-3c2aa7ca4d67\",                        [{\"hovertemplate\":\"\\u003cb\\u003e%{hovertext}\\u003c\\u002fb\\u003e\\u003cbr\\u003e\\u003cbr\\u003exG=%{x}\\u003cbr\\u003e\\ub4dd\\uc810=%{y}\\u003cextra\\u003e\\u003c\\u002fextra\\u003e\",\"hovertext\":[\"\\uac00\\ube0c\\ub9ac\\uc5d8\",\"\\uac15\\ubbfc\\uaddc\",\"\\uac15\\uc0c1\\uc6b0\",\"\\uac15\\uc0c1\\uc724\",\"\\uac15\\uc724\\uc131\",\"\\uac15\\uc815\\ubb35\",\"\\uac15\\uc900\\ud601\",\"\\uac15\\ud22c\\uc9c0\",\"\\uac15\\ud604\\ubb35\",\"\\uace0\\ub3d9\\ubbfc\",\"\\uace0\\uba85\\uc11d\",\"\\uace0\\uc2b9\\ubc94\",\"\\uace0\\uc7ac\\ud604\",\"\\uace0\\ud0dc\\uc6d0\",\"\\uad6c\\ub300\\uc601\",\"\\uad6c\\uc0c1\\ubbfc\",\"\\uad6c\\uc790\\ub8e1\",\"\\uad8c\\uacbd\\uc6d0\",\"\\uad8c\\uc131\\uc724\",\"\\uad8c\\uc644\\uaddc\",\"\\uae30\\uc131\\uc6a9\",\"\\uae40\\uac15\\uad6d\",\"\\uae40\\uac74\\ud76c\",\"\\uae40\\uacbd\\ubbfc\",\"\\uae40\\uae30\\ud76c\",\"\\uae40\\ub2e4\\uc194\",\"\\uae40\\ub300\\uc6d0\",\"\\uae40\\ub3c4\\ud601\",\"\\uae40\\ub3d9\\uc6b1\",\"\\uae40\\ub3d9\\uc900\",\"\\uae40\\ub3d9\\uc9c4\",\"\\uae40\\ubbfc\\uaddc\",\"\\uae40\\ubbfc\\uaddc\",\"\\uae40\\ubbfc\\ub355\",\"\\uae40\\ubbfc\\uc900\",\"\\uae40\\ubbfc\\ud638\",\"\\uae40\\ubbfc\\ud638\",\"\\uae40\\ubd09\\uc218\",\"\\uae40\\uc0c1\\uc900\",\"\\uae40\\uc120\\ud638\",\"\\uae40\\uc131\\uc8fc\",\"\\uae40\\uc131\\uc900\",\"\\uae40\\uc2b9\\ub300\",\"\\uae40\\uc2b9\\ud638\",\"\\uae40\\uc601\\uad8c\",\"\\uae40\\uc601\\ube48\",\"\\uae40\\uc601\\ucc2c\",\"\\uae40\\uc608\\uc131\",\"\\uae40\\uc624\\uaddc\",\"\\uae40\\uc624\\uaddc\",\"\\uae40\\uc6a9\\ud658\",\"\\uae40\\uc774\\uc11d\",\"\\uae40\\uc778\\uade0\",\"\\uae40\\uc778\\uc131\",\"\\uae40\\uc815\\ubbfc\",\"\\uae40\\uc815\\ud604\",\"\\uae40\\uc885\\uc11d\",\"\\uae40\\uc8fc\\uc131\",\"\\uae40\\uc8fc\\uc6d0\",\"\\uae40\\uc8fc\\ucc2c\",\"\\uae40\\uc900\\ud64d\",\"\\uae40\\uc9c4\\uaddc\",\"\\uae40\\uc9c4\\uc218\",\"\\uae40\\uc9c4\\ud601\",\"\\uae40\\uc9c4\\ud638\",\"\\uae40\\ud0dc\\ud55c\",\"\\uae40\\ud0dc\\ud604\",\"\\uae40\\ud0dc\\ud658\",\"\\uae40\\ud0dc\\ud658\",\"\\uae40\\ud604\\uc6b0\",\"\\uae40\\ud604\\ud6c8\",\"\\uae40\\ud604\\ud6c8\",\"\\uae40\\ud615\\uadfc\",\"\\uae40\\ud615\\uc9c4\",\"\\ub178\\uac74\\uc6b0\",\"\\ub2d0\\uc190\\uc8fc\\ub2c8\\uc5b4\",\"\\ub2e8\\ub808\\uc774\",\"\\ub378\\ube0c\\ub9ac\\uc9c0\",\"\\ub450\\ud604\\uc11d\",\"\\ub77c\\ub9c8\\uc2a4\",\"\\ub85c\\ud398\\uc988\",\"\\ub8e8\\ube45\\uc190\",\"\\ub8e8\\uc774\\uc2a4\",\"\\ub8e8\\uc774\\uc2a4\",\"\\ub8e8\\ud398\\ud0c0\",\"\\ub958\\uc7ac\\ubb38\",\"\\ub9ac\\uc601\\uc9c1\",\"\\ub9b0\\uac00\\ub4dc\",\"\\ub9c8\\ud14c\\uc6b0\\uc2a4\",\"\\ubaa8\\ub530\",\"\\ubb34\\uace0\\uc0ac\",\"\\ubb38\\ubbfc\\uc11c\",\"\\ubb38\\uc120\\ubbfc\",\"\\ubb38\\uc815\\uc778\",\"\\ubb38\\uc815\\uc778\",\"\\ubb38\\uc9c0\\ud658\",\"\\ubbac\\ub9ac\\uce58\",\"\\ubc14\\uc0ac\\ub2c8\",\"\\ubc15\\uacbd\\ub85d\",\"\\ubc15\\uacbd\\ub85d\",\"\\ubc15\\uad11\\uc77c\",\"\\ubc15\\ubbfc\\uaddc\",\"\\ubc15\\ubbfc\\uc11c\",\"\\ubc15\\ubbfc\\uc11c\",\"\\ubc15\\ubbfc\\uc11c\",\"\\ubc15\\uc131\\ud6c8\",\"\\ubc15\\uc138\\uc9c4\",\"\\ubc15\\uc218\\uc77c\",\"\\ubc15\\uc2b9\\uc6b1\",\"\\ubc15\\uc2b9\\ud638\",\"\\ubc15\\uc6a9\\ud76c\",\"\\ubc15\\uc6d0\\uc7ac\",\"\\ubc15\\uc7ac\\ud658\",\"\\ubc15\\uc885\\ud604\",\"\\ubc15\\uc9c0\\uc6d0\",\"\\ubc15\\uc9c4\\uc12d\",\"\\ubc15\\uc9c4\\uc601\",\"\\ubc15\\ucc3d\\ud658\",\"\\ubc15\\ucc3d\\ud658\",\"\\ubc15\\ucca0\\uc6b0\",\"\\ubc15\\ud0dc\\uc6a9\",\"\\ubc15\\ud0dc\\uc900\",\"\\ubc15\\ud604\\ube48\",\"\\ubc1c\\ub514\\ube44\\uc544\",\"\\ubc25\\uc2e0\",\"\\ubc31\\ub3d9\\uaddc\",\"\\ubc31\\uc131\\ub3d9\",\"\\ubc31\\uc885\\ubc94\",\"\\ubcc0\\uacbd\\uc900\",\"\\ubcc0\\uacbd\\uc900\",\"\\ubcc0\\uc900\\uc218\",\"\\ubcf4\\uc57c\\ub2c8\\uce58\",\"\\ube0c\\ub8e8\\ub178\",\"\\ube0c\\ub8e8\\ub178\",\"\\ube0c\\ub8e8\\ub178 \\uc2e4\\ubc14\",\"\\ube0c\\ub8e8\\ub178 \\uc2e4\\ubc14\",\"\\uc11c\\uba85\\uad00\",\"\\uc11c\\ubbfc\\uc6b0\",\"\\uc11c\\uc7ac\\ubbfc\",\"\\uc11c\\uc7ac\\ubbfc\",\"\\uc11c\\uc7ac\\ubbfc\",\"\\uc11c\\uc7ac\\ubbfc\",\"\\uc11c\\uc9c4\\uc218\",\"\\uc131\\ud638\\uc6011\",\"\\uc138\\uc9d5\\uc57c\",\"\\uc190\\uc11d\\uc6a9\",\"\\uc190\\uc815\\ud604\",\"\\uc190\\uc815\\ud604\",\"\\uc1a1\\ubbfc\\uaddc\",\"\\uc1a1\\uc8fc\\ud6c8\",\"\\uc1a1\\ud64d\\ubbfc\",\"\\uc2e0\\uad11\\ud6c8\",\"\\uc2e0\\uc1a1\\ud6c8\",\"\\uc2e0\\uc7ac\\uc6d0\",\"\\uc2e0\\uc9c4\\ud638\",\"\\uc2e0\\ud615\\ubbfc\",\"\\uc544\\ub77c\\ubd88\\ub9ac\",\"\\uc544\\ub860\",\"\\uc544\\ud0c0\\ub8e8\",\"\\uc548\\ub370\\ub974\\uc190\",\"\\uc548\\uc601\\uaddc\",\"\\uc548\\uc900\\uc218\",\"\\uc548\\ud0dc\\ud604\",\"\\uc548\\ud1a4\",\"\\uc548\\ud604\\ubc94\",\"\\uc54c\\ub9ac\\ubc14\\uc608\\ud504\",\"\\uc57c\\uace0\",\"\\uc57c\\uace0\",\"\\uc591\\ubbfc\\ud601\",\"\\uc591\\ud615\\ubaa8\",\"\\uc5b4\\uc815\\uc6d0\",\"\\uc5c4\\uc6d0\\uc0c1\",\"\\uc5c4\\uc9c0\\uc131\",\"\\uc5d0\\ub4dc\\uac00\",\"\\uc5f0\\uc81c\\uc6b4\",\"\\uc624\\ubc18\\uc11d\",\"\\uc624\\ubca0\\ub974\\ub2e8\",\"\\uc624\\uc2a4\\ub9c8\\ub974\",\"\\uc624\\uc2a4\\ub9c8\\ub974\",\"\\uc624\\uc2b9\\ud6c8\",\"\\uc624\\uc724\\uc11d\",\"\\uc644\\ub378\\uc190\",\"\\uc694\\ub2c8\\uce58\",\"\\uc694\\uc2dc\\ub178\",\"\\uc6b0\\uc8fc\\uc131\",\"\\uc6d0\\ub450\\uc7ac\",\"\\uc720\\ub9ac \\uc870\\ub098\\ud0c4\",\"\\uc720\\uc0c1\\ud6c8\",\"\\uc720\\uc778\\uc218\",\"\\uc724\\ube5b\\uac00\\ub78c\",\"\\uc724\\uc11d\\uc601\",\"\\uc724\\uc77c\\ub85d\",\"\\uc74c\\ud3ec\\ucfe0\",\"\\uc774\\uac15\\ud76c\",\"\\uc774\\uac74\\ud76c\",\"\\uc774\\uad11\\uc5f0\",\"\\uc774\\uad11\\uc9c4\",\"\\uc774\\uaddc\\uc131\",\"\\uc774\\uae30\\ud601\",\"\\uc774\\ub3d9\\ub960\",\"\\uc774\\ub3d9\\ub960\",\"\\uc774\\ub3d9\\uc218\",\"\\uc774\\ub3d9\\ud76c\",\"\\uc774\\uba85\\uc7ac\",\"\\uc774\\uba85\\uc8fc\",\"\\uc774\\ubbfc\\ud601\",\"\\uc774\\ubc94\\uc218\",\"\\uc774\\uc0c1\\uae30\",\"\\uc774\\uc0c1\\ubbfc\",\"\\uc774\\uc0c1\\ud5cc\",\"\\uc774\\uc218\\ube48\",\"\\uc774\\uc21c\\ubbfc\",\"\\uc774\\uc2b9\\ubaa8\",\"\\uc774\\uc2b9\\uc6b0\",\"\\uc774\\uc2dc\\uc601\",\"\\uc774\\uc601\\uc7ac\",\"\\uc774\\uc6a9\",\"\\uc774\\uc6c5\\ud76c\",\"\\uc774\\uc720\\ud604\",\"\\uc774\\uc740\\ubc94\",\"\\uc774\\uc778\\uc7ac\",\"\\uc774\\uc778\\uc7ac\",\"\\uc774\\uc7ac\\uc6d0\",\"\\uc774\\uc7ac\\uc775\",\"\\uc774\\uc815\\ud0dd\",\"\\uc774\\uc815\\ud611\",\"\\uc774\\uc885\\uc131\",\"\\uc774\\uc900\\uc0c1\",\"\\uc774\\uc900\\uc7ac\",\"\\uc774\\ucc3d\\uadfc\",\"\\uc774\\ucc3d\\uc6a9\",\"\\uc774\\ucf54\\ubc14\",\"\\uc774\\ucf54\\ubc14\",\"\\uc774\\ud0c8\\ub85c\",\"\\uc774\\ud0dc\\ud76c\",\"\\uc774\\ud559\\ubbfc\",\"\\uc774\\ud55c\\ub3c4\",\"\\uc774\\ud638\\uc7ac\",\"\\uc774\\ud76c\\uade0\",\"\\uc77c\\ub958\\uccb8\\ucf54\",\"\\uc784\\ub355\\uadfc\",\"\\uc784\\ubbfc\\ud601\",\"\\uc784\\uc0c1\\ud611\",\"\\uc784\\uc885\\uc740\",\"\\uc784\\ucc3d\\uc6b0\",\"\\uc7a5\\uc131\\uc6d0\",\"\\uc7a5\\uc131\\uc7ac\",\"\\uc7a5\\uc601\\uc6b0\",\"\\uc7a5\\uc724\\ud638\",\"\\uc7a5\\uc724\\ud638\",\"\\uc7ad\\uc2a8\",\"\\uc804\\ubbfc\\uad11\",\"\\uc804\\ubcd1\\uad00\",\"\\uc804\\uc778\\uaddc\",\"\\uc815\\ub3d9\\uc724\",\"\\uc815\\ub9c8\\ud638\",\"\\uc815\\ubbfc\\uae30\",\"\\uc815\\uc11d\\ud654\",\"\\uc815\\uc2b9\\uc6a9\",\"\\uc815\\uc2b9\\uc6d0\",\"\\uc815\\uc6b4\",\"\\uc815\\uc6d0\\uc9c4\",\"\\uc815\\uc7ac\\ud76c\",\"\\uc815\\uce58\\uc778\",\"\\uc815\\ud0dc\\uc6b1\",\"\\uc815\\ud638\\uc5f0\",\"\\uc815\\ud638\\uc9c4\",\"\\uc81c\\ub974\\uc18c\",\"\\uc81c\\uc885\\ud604\",\"\\uc870\\ub974\\uc9c0\",\"\\uc870\\uc601\\uc6b1\",\"\\uc870\\uc704\\uc81c\",\"\\uc870\\uc724\\uc131\",\"\\uc870\\uc9c0\\ud6c8\",\"\\uc870\\ud604\\uc6b0\",\"\\uc8fc\\ub2dd\\uc694\",\"\\uc8fc\\ubbfc\\uaddc\",\"\\uc8fc\\uc138\\uc885\",\"\\uc8fc\\ud604\\uc6b0\",\"\\uc9c0\\ub3d9\\uc6d0\",\"\\ucc28\\uc2b9\\ud604\",\"\\ucc28\\uc2b9\\ud604\",\"\\ucc9c\\uc9c0\\ud604\",\"\\ucd5c\\uac74\\uc8fc\",\"\\ucd5c\\uacbd\\ub85d\",\"\\ucd5c\\uaddc\\ubc31\",\"\\ucd5c\\uaddc\\ud604\",\"\\ucd5c\\ubcd1\\ucc2c\",\"\\ucd5c\\ubd09\\uc9c4\",\"\\ucd5c\\uc6b0\\uc9c4\",\"\\ucd5c\\uc7ac\\ud6c8\",\"\\ucd5c\\uc7ac\\ud6c8\",\"\\ucd5c\\uc900\",\"\\ucd5c\\ud544\\uc218\",\"\\ucd5c\\ud76c\\uc6d0\",\"\\uce74\\uc988\",\"\\ud230\\uac00\\ub77c\",\"\\ud2f0\\uc544\\uace0\",\"\\ud30c\\uc6b8\\ub9ac\\ub1e8\",\"\\ud314\\ub85c\\uc138\\ube44\\uce58\",\"\\ud398\\uc2e0\",\"\\ud50c\\ub77c\\ub098\",\"\\ud50c\\ub77c\\ub098\",\"\\ud558\\ub0a8\",\"\\ud55c\\uc11d\\uc885\",\"\\ud55c\\uc2b9\\uaddc\",\"\\ud55c\\uc9c0\\ud638\",\"\\ud55c\\ucc2c\\ud76c\",\"\\ud55c\\ud638\\uac15\",\"\\ud5c8\\uc6a9\\uc900\",\"\\ud5c8\\uc728\",\"\\ud5e4\\uc774\\uc2a4\",\"\\ud64d\\uc131\\uc6b1\",\"\\ud64d\\uc2dc\\ud6c4\",\"\\ud64d\\uc724\\uc0c1\",\"\\ud64d\\ucca0\",\"\\ud669\\uae30\\uc6b1\",\"\\ud669\\ubb38\\uae30\",\"\\ud669\\uc11d\\ud638\",\"\\ud669\\uc778\\uc7ac\",\"\\ud669\\uc7ac\\uc6d0\",\"\\ud6c4\\uc774\\uc988\"],\"legendgroup\":\"\",\"marker\":{\"color\":\"lightgray\",\"symbol\":\"circle\"},\"mode\":\"markers\",\"name\":\"\",\"orientation\":\"v\",\"showlegend\":false,\"x\":[4.53,0.0,1.21,1.02,0.11,0.0,0.0,0.92,0.0,0.0,0.3,0.69,2.11,0.0,0.0,0.0,0.23,1.11,0.0,1.8,0.77,0.8,0.88,0.0,0.43,0.0,1.63,1.05,0.0,0.0,0.0,0.0,0.0,0.25,0.0,0.0,0.0,0.22,0.0,0.0,0.0,0.0,1.37,0.0,0.54,1.09,0.0,0.0,0.0,0.0,0.0,0.62,2.01,2.07,1.18,0.0,0.0,0.33,0.0,0.0,0.0,0.0,0.39,0.79,0.27,1.01,0.0,0.0,0.87,0.34,0.0,0.0,0.0,0.0,0.0,0.0,0.0,0.27,0.2,0.0,0.0,3.02,0.0,0.0,0.0,0.4,0.0,1.13,0.0,0.0,7.0,0.72,2.95,0.0,0.0,1.0,0.0,0.0,0.0,0.0,0.0,0.0,0.0,0.0,0.0,0.28,0.91,1.19,0.17,2.32,2.25,0.0,0.0,0.0,0.0,0.18,0.52,0.0,0.0,1.8,0.0,1.19,0.0,0.0,0.0,0.0,1.4,0.0,0.0,0.0,1.04,1.03,0.0,0.0,0.0,0.0,0.0,1.46,0.0,0.0,0.0,0.0,3.8,0.0,5.4,0.0,0.0,0.0,2.28,0.35,0.0,0.01,0.0,0.0,0.37,0.0,0.0,0.04,2.07,5.16,0.37,0.0,2.08,1.01,1.04,0.0,0.0,0.0,3.83,0.0,0.37,4.27,2.69,4.72,0.0,0.73,1.04,0.0,0.0,0.0,0.0,1.57,1.09,1.75,0.0,0.0,4.83,0.0,1.5,2.86,0.7,0.49,0.57,0.0,4.06,0.0,0.0,0.5,0.27,0.0,0.0,0.0,0.59,0.4,0.35,0.0,0.0,0.09,0.0,6.82,0.19,0.42,0.7,0.0,0.0,1.72,0.1,0.0,0.58,0.0,0.0,0.0,1.03,0.54,0.1,0.0,0.0,0.0,0.0,0.0,0.0,0.0,0.0,1.23,0.0,0.0,0.0,3.83,3.0,7.7,0.68,0.0,1.26,0.2,0.49,0.24,0.0,0.93,0.0,0.0,0.24,1.12,3.22,0.0,0.55,0.0,0.0,0.0,0.0,3.09,0.53,0.0,3.38,0.0,0.46,1.51,0.0,3.67,0.0,3.73,1.58,0.0,0.0,0.0,0.0,0.0,7.24,0.7,0.0,2.46,0.0,0.0,0.0,0.0,1.73,0.26,0.0,0.0,0.0,0.59,0.0,0.0,0.16,0.0,0.0,0.0,0.0,5.25,0.0,1.32,0.0,0.0,0.0,0.0,0.0,0.63,0.0,1.22,0.0,2.96,0.76,3.17,0.0,0.31,3.57,0.62,0.0,1.18,0.07,0.0,0.49,0.0],\"xaxis\":\"x\",\"y\":[6.0,6.0,0.0,3.0,0.0,0.0,2.0,1.0,2.0,0.0,0.0,1.0,0.0,0.0,0.0,0.0,0.0,1.0,1.0,2.0,2.0,0.0,0.0,0.0,0.0,0.0,4.0,2.0,1.0,0.0,4.0,0.0,0.0,0.0,0.0,1.0,1.0,0.0,1.0,0.0,0.0,0.0,2.0,1.0,1.0,0.0,0.0,0.0,0.0,0.0,0.0,2.0,1.0,2.0,0.0,1.0,3.0,0.0,1.0,2.0,0.0,0.0,0.0,0.0,0.0,1.0,2.0,1.0,2.0,0.0,0.0,0.0,0.0,0.0,1.0,1.0,4.0,1.0,0.0,8.0,0.0,5.0,7.0,7.0,7.0,1.0,2.0,2.0,5.0,11.0,13.0,2.0,5.0,0.0,0.0,1.0,8.0,7.0,2.0,2.0,0.0,0.0,2.0,5.0,5.0,1.0,1.0,0.0,0.0,2.0,3.0,0.0,0.0,0.0,3.0,0.0,0.0,0.0,0.0,1.0,2.0,2.0,1.0,7.0,1.0,0.0,1.0,0.0,6.0,6.0,1.0,1.0,0.0,0.0,10.0,10.0,0.0,2.0,0.0,2.0,2.0,0.0,2.0,1.0,7.0,2.0,0.0,0.0,5.0,0.0,0.0,0.0,0.0,0.0,0.0,0.0,8.0,0.0,3.0,2.0,0.0,0.0,4.0,1.0,1.0,0.0,9.0,4.0,8.0,0.0,0.0,4.0,2.0,3.0,0.0,0.0,3.0,4.0,4.0,0.0,0.0,1.0,1.0,5.0,1.0,1.0,4.0,0.0,2.0,1.0,2.0,0.0,1.0,0.0,4.0,0.0,2.0,0.0,0.0,4.0,4.0,4.0,0.0,0.0,0.0,1.0,0.0,0.0,1.0,10.0,0.0,0.0,2.0,10.0,1.0,2.0,1.0,0.0,0.0,1.0,0.0,0.0,1.0,1.0,0.0,0.0,1.0,1.0,1.0,0.0,0.0,6.0,6.0,2.0,2.0,2.0,2.0,9.0,5.0,12.0,1.0,3.0,2.0,0.0,1.0,1.0,2.0,1.0,1.0,1.0,1.0,2.0,5.0,0.0,0.0,3.0,0.0,0.0,0.0,7.0,0.0,0.0,8.0,2.0,0.0,0.0,0.0,3.0,0.0,1.0,3.0,1.0,1.0,3.0,0.0,7.0,8.0,1.0,0.0,3.0,1.0,1.0,1.0,1.0,2.0,0.0,1.0,2.0,0.0,0.0,2.0,2.0,0.0,0.0,0.0,0.0,0.0,6.0,9.0,1.0,5.0,8.0,8.0,9.0,0.0,1.0,1.0,0.0,1.0,3.0,1.0,4.0,0.0,0.0,5.0,1.0,2.0,1.0,0.0,0.0,0.0,10.0],\"yaxis\":\"y\",\"type\":\"scatter\"}],                        {\"template\":{\"data\":{\"histogram2dcontour\":[{\"type\":\"histogram2dcontour\",\"colorbar\":{\"outlinewidth\":0,\"ticks\":\"\"},\"colorscale\":[[0.0,\"#0d0887\"],[0.1111111111111111,\"#46039f\"],[0.2222222222222222,\"#7201a8\"],[0.3333333333333333,\"#9c179e\"],[0.4444444444444444,\"#bd3786\"],[0.5555555555555556,\"#d8576b\"],[0.6666666666666666,\"#ed7953\"],[0.7777777777777778,\"#fb9f3a\"],[0.8888888888888888,\"#fdca26\"],[1.0,\"#f0f921\"]]}],\"choropleth\":[{\"type\":\"choropleth\",\"colorbar\":{\"outlinewidth\":0,\"ticks\":\"\"}}],\"histogram2d\":[{\"type\":\"histogram2d\",\"colorbar\":{\"outlinewidth\":0,\"ticks\":\"\"},\"colorscale\":[[0.0,\"#0d0887\"],[0.1111111111111111,\"#46039f\"],[0.2222222222222222,\"#7201a8\"],[0.3333333333333333,\"#9c179e\"],[0.4444444444444444,\"#bd3786\"],[0.5555555555555556,\"#d8576b\"],[0.6666666666666666,\"#ed7953\"],[0.7777777777777778,\"#fb9f3a\"],[0.8888888888888888,\"#fdca26\"],[1.0,\"#f0f921\"]]}],\"heatmap\":[{\"type\":\"heatmap\",\"colorbar\":{\"outlinewidth\":0,\"ticks\":\"\"},\"colorscale\":[[0.0,\"#0d0887\"],[0.1111111111111111,\"#46039f\"],[0.2222222222222222,\"#7201a8\"],[0.3333333333333333,\"#9c179e\"],[0.4444444444444444,\"#bd3786\"],[0.5555555555555556,\"#d8576b\"],[0.6666666666666666,\"#ed7953\"],[0.7777777777777778,\"#fb9f3a\"],[0.8888888888888888,\"#fdca26\"],[1.0,\"#f0f921\"]]}],\"heatmapgl\":[{\"type\":\"heatmapgl\",\"colorbar\":{\"outlinewidth\":0,\"ticks\":\"\"},\"colorscale\":[[0.0,\"#0d0887\"],[0.1111111111111111,\"#46039f\"],[0.2222222222222222,\"#7201a8\"],[0.3333333333333333,\"#9c179e\"],[0.4444444444444444,\"#bd3786\"],[0.5555555555555556,\"#d8576b\"],[0.6666666666666666,\"#ed7953\"],[0.7777777777777778,\"#fb9f3a\"],[0.8888888888888888,\"#fdca26\"],[1.0,\"#f0f921\"]]}],\"contourcarpet\":[{\"type\":\"contourcarpet\",\"colorbar\":{\"outlinewidth\":0,\"ticks\":\"\"}}],\"contour\":[{\"type\":\"contour\",\"colorbar\":{\"outlinewidth\":0,\"ticks\":\"\"},\"colorscale\":[[0.0,\"#0d0887\"],[0.1111111111111111,\"#46039f\"],[0.2222222222222222,\"#7201a8\"],[0.3333333333333333,\"#9c179e\"],[0.4444444444444444,\"#bd3786\"],[0.5555555555555556,\"#d8576b\"],[0.6666666666666666,\"#ed7953\"],[0.7777777777777778,\"#fb9f3a\"],[0.8888888888888888,\"#fdca26\"],[1.0,\"#f0f921\"]]}],\"surface\":[{\"type\":\"surface\",\"colorbar\":{\"outlinewidth\":0,\"ticks\":\"\"},\"colorscale\":[[0.0,\"#0d0887\"],[0.1111111111111111,\"#46039f\"],[0.2222222222222222,\"#7201a8\"],[0.3333333333333333,\"#9c179e\"],[0.4444444444444444,\"#bd3786\"],[0.5555555555555556,\"#d8576b\"],[0.6666666666666666,\"#ed7953\"],[0.7777777777777778,\"#fb9f3a\"],[0.8888888888888888,\"#fdca26\"],[1.0,\"#f0f921\"]]}],\"mesh3d\":[{\"type\":\"mesh3d\",\"colorbar\":{\"outlinewidth\":0,\"ticks\":\"\"}}],\"scatter\":[{\"marker\":{\"line\":{\"color\":\"#283442\"}},\"type\":\"scatter\"}],\"parcoords\":[{\"type\":\"parcoords\",\"line\":{\"colorbar\":{\"outlinewidth\":0,\"ticks\":\"\"}}}],\"scatterpolargl\":[{\"type\":\"scatterpolargl\",\"marker\":{\"colorbar\":{\"outlinewidth\":0,\"ticks\":\"\"}}}],\"bar\":[{\"error_x\":{\"color\":\"#f2f5fa\"},\"error_y\":{\"color\":\"#f2f5fa\"},\"marker\":{\"line\":{\"color\":\"rgb(17,17,17)\",\"width\":0.5},\"pattern\":{\"fillmode\":\"overlay\",\"size\":10,\"solidity\":0.2}},\"type\":\"bar\"}],\"scattergeo\":[{\"type\":\"scattergeo\",\"marker\":{\"colorbar\":{\"outlinewidth\":0,\"ticks\":\"\"}}}],\"scatterpolar\":[{\"type\":\"scatterpolar\",\"marker\":{\"colorbar\":{\"outlinewidth\":0,\"ticks\":\"\"}}}],\"histogram\":[{\"marker\":{\"pattern\":{\"fillmode\":\"overlay\",\"size\":10,\"solidity\":0.2}},\"type\":\"histogram\"}],\"scattergl\":[{\"marker\":{\"line\":{\"color\":\"#283442\"}},\"type\":\"scattergl\"}],\"scatter3d\":[{\"type\":\"scatter3d\",\"line\":{\"colorbar\":{\"outlinewidth\":0,\"ticks\":\"\"}},\"marker\":{\"colorbar\":{\"outlinewidth\":0,\"ticks\":\"\"}}}],\"scattermapbox\":[{\"type\":\"scattermapbox\",\"marker\":{\"colorbar\":{\"outlinewidth\":0,\"ticks\":\"\"}}}],\"scatterternary\":[{\"type\":\"scatterternary\",\"marker\":{\"colorbar\":{\"outlinewidth\":0,\"ticks\":\"\"}}}],\"scattercarpet\":[{\"type\":\"scattercarpet\",\"marker\":{\"colorbar\":{\"outlinewidth\":0,\"ticks\":\"\"}}}],\"carpet\":[{\"aaxis\":{\"endlinecolor\":\"#A2B1C6\",\"gridcolor\":\"#506784\",\"linecolor\":\"#506784\",\"minorgridcolor\":\"#506784\",\"startlinecolor\":\"#A2B1C6\"},\"baxis\":{\"endlinecolor\":\"#A2B1C6\",\"gridcolor\":\"#506784\",\"linecolor\":\"#506784\",\"minorgridcolor\":\"#506784\",\"startlinecolor\":\"#A2B1C6\"},\"type\":\"carpet\"}],\"table\":[{\"cells\":{\"fill\":{\"color\":\"#506784\"},\"line\":{\"color\":\"rgb(17,17,17)\"}},\"header\":{\"fill\":{\"color\":\"#2a3f5f\"},\"line\":{\"color\":\"rgb(17,17,17)\"}},\"type\":\"table\"}],\"barpolar\":[{\"marker\":{\"line\":{\"color\":\"rgb(17,17,17)\",\"width\":0.5},\"pattern\":{\"fillmode\":\"overlay\",\"size\":10,\"solidity\":0.2}},\"type\":\"barpolar\"}],\"pie\":[{\"automargin\":true,\"type\":\"pie\"}]},\"layout\":{\"autotypenumbers\":\"strict\",\"colorway\":[\"#636efa\",\"#EF553B\",\"#00cc96\",\"#ab63fa\",\"#FFA15A\",\"#19d3f3\",\"#FF6692\",\"#B6E880\",\"#FF97FF\",\"#FECB52\"],\"font\":{\"color\":\"#f2f5fa\"},\"hovermode\":\"closest\",\"hoverlabel\":{\"align\":\"left\"},\"paper_bgcolor\":\"rgb(17,17,17)\",\"plot_bgcolor\":\"rgb(17,17,17)\",\"polar\":{\"bgcolor\":\"rgb(17,17,17)\",\"angularaxis\":{\"gridcolor\":\"#506784\",\"linecolor\":\"#506784\",\"ticks\":\"\"},\"radialaxis\":{\"gridcolor\":\"#506784\",\"linecolor\":\"#506784\",\"ticks\":\"\"}},\"ternary\":{\"bgcolor\":\"rgb(17,17,17)\",\"aaxis\":{\"gridcolor\":\"#506784\",\"linecolor\":\"#506784\",\"ticks\":\"\"},\"baxis\":{\"gridcolor\":\"#506784\",\"linecolor\":\"#506784\",\"ticks\":\"\"},\"caxis\":{\"gridcolor\":\"#506784\",\"linecolor\":\"#506784\",\"ticks\":\"\"}},\"coloraxis\":{\"colorbar\":{\"outlinewidth\":0,\"ticks\":\"\"}},\"colorscale\":{\"sequential\":[[0.0,\"#0d0887\"],[0.1111111111111111,\"#46039f\"],[0.2222222222222222,\"#7201a8\"],[0.3333333333333333,\"#9c179e\"],[0.4444444444444444,\"#bd3786\"],[0.5555555555555556,\"#d8576b\"],[0.6666666666666666,\"#ed7953\"],[0.7777777777777778,\"#fb9f3a\"],[0.8888888888888888,\"#fdca26\"],[1.0,\"#f0f921\"]],\"sequentialminus\":[[0.0,\"#0d0887\"],[0.1111111111111111,\"#46039f\"],[0.2222222222222222,\"#7201a8\"],[0.3333333333333333,\"#9c179e\"],[0.4444444444444444,\"#bd3786\"],[0.5555555555555556,\"#d8576b\"],[0.6666666666666666,\"#ed7953\"],[0.7777777777777778,\"#fb9f3a\"],[0.8888888888888888,\"#fdca26\"],[1.0,\"#f0f921\"]],\"diverging\":[[0,\"#8e0152\"],[0.1,\"#c51b7d\"],[0.2,\"#de77ae\"],[0.3,\"#f1b6da\"],[0.4,\"#fde0ef\"],[0.5,\"#f7f7f7\"],[0.6,\"#e6f5d0\"],[0.7,\"#b8e186\"],[0.8,\"#7fbc41\"],[0.9,\"#4d9221\"],[1,\"#276419\"]]},\"xaxis\":{\"gridcolor\":\"#283442\",\"linecolor\":\"#506784\",\"ticks\":\"\",\"title\":{\"standoff\":15},\"zerolinecolor\":\"#283442\",\"automargin\":true,\"zerolinewidth\":2},\"yaxis\":{\"gridcolor\":\"#283442\",\"linecolor\":\"#506784\",\"ticks\":\"\",\"title\":{\"standoff\":15},\"zerolinecolor\":\"#283442\",\"automargin\":true,\"zerolinewidth\":2},\"scene\":{\"xaxis\":{\"backgroundcolor\":\"rgb(17,17,17)\",\"gridcolor\":\"#506784\",\"linecolor\":\"#506784\",\"showbackground\":true,\"ticks\":\"\",\"zerolinecolor\":\"#C8D4E3\",\"gridwidth\":2},\"yaxis\":{\"backgroundcolor\":\"rgb(17,17,17)\",\"gridcolor\":\"#506784\",\"linecolor\":\"#506784\",\"showbackground\":true,\"ticks\":\"\",\"zerolinecolor\":\"#C8D4E3\",\"gridwidth\":2},\"zaxis\":{\"backgroundcolor\":\"rgb(17,17,17)\",\"gridcolor\":\"#506784\",\"linecolor\":\"#506784\",\"showbackground\":true,\"ticks\":\"\",\"zerolinecolor\":\"#C8D4E3\",\"gridwidth\":2}},\"shapedefaults\":{\"line\":{\"color\":\"#f2f5fa\"}},\"annotationdefaults\":{\"arrowcolor\":\"#f2f5fa\",\"arrowhead\":0,\"arrowwidth\":1},\"geo\":{\"bgcolor\":\"rgb(17,17,17)\",\"landcolor\":\"rgb(17,17,17)\",\"subunitcolor\":\"#506784\",\"showland\":true,\"showlakes\":true,\"lakecolor\":\"rgb(17,17,17)\"},\"title\":{\"x\":0.05},\"updatemenudefaults\":{\"bgcolor\":\"#506784\",\"borderwidth\":0},\"sliderdefaults\":{\"bgcolor\":\"#C8D4E3\",\"borderwidth\":1,\"bordercolor\":\"rgb(17,17,17)\",\"tickwidth\":0},\"mapbox\":{\"style\":\"dark\"}}},\"xaxis\":{\"anchor\":\"y\",\"domain\":[0.0,1.0],\"title\":{\"text\":\"xG\"},\"showgrid\":false},\"yaxis\":{\"anchor\":\"x\",\"domain\":[0.0,1.0],\"title\":{\"text\":\"\\ub4dd\\uc810\"},\"showgrid\":false},\"legend\":{\"tracegroupgap\":0},\"margin\":{\"t\":60},\"shapes\":[{\"line\":{\"color\":\"gray\",\"width\":1},\"type\":\"line\",\"x0\":0.6774844720496894,\"x1\":0.6774844720496894,\"y0\":0.0,\"y1\":13.0},{\"line\":{\"color\":\"gray\",\"width\":1},\"type\":\"line\",\"x0\":0.0,\"x1\":7.7,\"y0\":1.8540372670807452,\"y1\":1.8540372670807452}]},                        {\"responsive\": true}                    ).then(function(){\n                            \nvar gd = document.getElementById('13f67916-8ab0-419f-a4dc-3c2aa7ca4d67');\nvar x = new MutationObserver(function (mutations, observer) {{\n        var display = window.getComputedStyle(gd).display;\n        if (!display || display === 'none') {{\n            console.log([gd, 'removed!']);\n            Plotly.purge(gd);\n            observer.disconnect();\n        }}\n}});\n\n// Listen for the removal of the full notebook cells\nvar notebookContainer = gd.closest('#notebook-container');\nif (notebookContainer) {{\n    x.observe(notebookContainer, {childList: true});\n}}\n\n// Listen for the clearing of the current output cell\nvar outputEl = gd.closest('.output');\nif (outputEl) {{\n    x.observe(outputEl, {childList: true});\n}}\n\n                        })                };                });            </script>        </div>"
     },
     "metadata": {},
     "output_type": "display_data"
    }
   ],
   "source": [
    "scatter = ScatterChart('xG', '득점', '이승우', df)\n",
    "scatter.plot()"
   ],
   "metadata": {
    "collapsed": false,
    "ExecuteTime": {
     "end_time": "2024-08-19T03:47:56.982371Z",
     "start_time": "2024-08-19T03:47:56.822599Z"
    }
   },
   "id": "6e3344f86112541b",
   "execution_count": 72
  },
  {
   "cell_type": "code",
   "outputs": [
    {
     "name": "stdout",
     "output_type": "stream",
     "text": [
      "(836, 134)\n"
     ]
    }
   ],
   "source": [
    "print(df.shape)"
   ],
   "metadata": {
    "collapsed": false,
    "ExecuteTime": {
     "end_time": "2024-07-13T12:48:10.537649Z",
     "start_time": "2024-07-13T12:48:10.533159Z"
    }
   },
   "id": "4f1c182b930ce8c3",
   "execution_count": 23
  },
  {
   "cell_type": "code",
   "outputs": [],
   "source": [],
   "metadata": {
    "collapsed": false,
    "ExecuteTime": {
     "end_time": "2024-07-13T12:48:10.554686Z",
     "start_time": "2024-07-13T12:48:10.545733Z"
    }
   },
   "id": "95f5d46ef9ff278f",
   "execution_count": 23
  }
 ],
 "metadata": {
  "kernelspec": {
   "display_name": "Python 3",
   "language": "python",
   "name": "python3"
  },
  "language_info": {
   "codemirror_mode": {
    "name": "ipython",
    "version": 2
   },
   "file_extension": ".py",
   "mimetype": "text/x-python",
   "name": "python",
   "nbconvert_exporter": "python",
   "pygments_lexer": "ipython2",
   "version": "2.7.6"
  }
 },
 "nbformat": 4,
 "nbformat_minor": 5
}
