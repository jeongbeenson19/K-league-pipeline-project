{
 "cells": [
  {
   "cell_type": "code",
   "execution_count": 1,
   "id": "initial_id",
   "metadata": {
    "collapsed": true,
    "ExecuteTime": {
     "end_time": "2024-09-13T01:37:23.396521Z",
     "start_time": "2024-09-13T01:37:23.153825Z"
    }
   },
   "outputs": [],
   "source": [
    "import pandas as pd\n",
    "import numpy as np\n",
    "from transform import preprocessing"
   ]
  },
  {
   "cell_type": "code",
   "outputs": [
    {
     "name": "stdout",
     "output_type": "stream",
     "text": [
      "Input team data files for round 29 do not exist. Crawling data\n",
      "Connecting to data center...\n",
      "Connecting to Additional record...\n",
      "Searching...\n",
      "Saved data to data/29-round-team-data.csv\n",
      "Data has been written to data/preprocessed/29-round-preprocessed.csv\n"
     ]
    }
   ],
   "source": [
    "SELECTED_ROUND = 29\n",
    "data_center = preprocessing(SELECTED_ROUND)\n",
    "\n",
    "data = pd.read_csv(f'data/{SELECTED_ROUND}-round-team-data.csv')\n",
    "df = pd.DataFrame(data)"
   ],
   "metadata": {
    "collapsed": false,
    "ExecuteTime": {
     "end_time": "2024-09-13T01:37:46.463269Z",
     "start_time": "2024-09-13T01:37:24.171573Z"
    }
   },
   "id": "cf7b3e497b4b530b",
   "execution_count": 2
  },
  {
   "cell_type": "code",
   "outputs": [
    {
     "data": {
      "text/plain": "(25, 74)"
     },
     "execution_count": 3,
     "metadata": {},
     "output_type": "execute_result"
    }
   ],
   "source": [
    "df.shape"
   ],
   "metadata": {
    "collapsed": false,
    "ExecuteTime": {
     "end_time": "2024-09-13T01:40:55.293719Z",
     "start_time": "2024-09-13T01:40:55.284908Z"
    }
   },
   "id": "4e90e597d751b35a",
   "execution_count": 3
  },
  {
   "cell_type": "code",
   "outputs": [],
   "source": [
    " "
   ],
   "metadata": {
    "collapsed": false
   },
   "id": "62b3a97dabea260a"
  }
 ],
 "metadata": {
  "kernelspec": {
   "display_name": "Python 3",
   "language": "python",
   "name": "python3"
  },
  "language_info": {
   "codemirror_mode": {
    "name": "ipython",
    "version": 2
   },
   "file_extension": ".py",
   "mimetype": "text/x-python",
   "name": "python",
   "nbconvert_exporter": "python",
   "pygments_lexer": "ipython2",
   "version": "2.7.6"
  }
 },
 "nbformat": 4,
 "nbformat_minor": 5
}
